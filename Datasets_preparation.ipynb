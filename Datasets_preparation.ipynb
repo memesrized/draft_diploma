{
 "cells": [
  {
   "cell_type": "markdown",
   "metadata": {},
   "source": [
    "TODO:\n",
    " - Check for `` and \""
   ]
  },
  {
   "cell_type": "code",
   "execution_count": 23,
   "metadata": {
    "ExecuteTime": {
     "end_time": "2021-05-22T11:06:04.404845Z",
     "start_time": "2021-05-22T11:06:04.088518Z"
    }
   },
   "outputs": [
    {
     "name": "stderr",
     "output_type": "stream",
     "text": [
      "/home/memesrized/.virtualenvs/edu/lib/python3.8/site-packages/tqdm/std.py:668: FutureWarning: The Panel class is removed from pandas. Accessing it from the top-level namespace will also be removed in the next version\n",
      "  from pandas import Panel\n"
     ]
    }
   ],
   "source": [
    "import pandas as pd\n",
    "import numpy as np\n",
    "\n",
    "from tqdm.notebook import tqdm_notebook\n",
    "tqdm_notebook.pandas()"
   ]
  },
  {
   "cell_type": "markdown",
   "metadata": {
    "heading_collapsed": true
   },
   "source": [
    "# Opusparcus"
   ]
  },
  {
   "cell_type": "code",
   "execution_count": 3,
   "metadata": {
    "ExecuteTime": {
     "end_time": "2021-03-12T05:29:49.251775Z",
     "start_time": "2021-03-12T05:28:23.446803Z"
    },
    "hidden": true
   },
   "outputs": [],
   "source": [
    "opus = pd.read_csv(\"data/opusparcus_en/en/en-train.txt\", sep=\"\\t\",\n",
    "                   header=None,\n",
    "                  names=['id', 'sentence1', 'sentence2', \"PMI_score\", \"score2\", \"score3\", \"edit_dist\"])"
   ]
  },
  {
   "cell_type": "code",
   "execution_count": 10,
   "metadata": {
    "ExecuteTime": {
     "end_time": "2021-03-12T05:40:18.356863Z",
     "start_time": "2021-03-12T05:40:18.349542Z"
    },
    "hidden": true
   },
   "outputs": [],
   "source": [
    "pd.options.display.max_rows = 1000"
   ]
  },
  {
   "cell_type": "code",
   "execution_count": 13,
   "metadata": {
    "ExecuteTime": {
     "end_time": "2021-03-13T21:16:26.189700Z",
     "start_time": "2021-03-13T21:16:26.185271Z"
    },
    "hidden": true
   },
   "outputs": [
    {
     "data": {
      "text/plain": [
       "(40653996, 7)"
      ]
     },
     "execution_count": 13,
     "metadata": {},
     "output_type": "execute_result"
    }
   ],
   "source": [
    "opus.shape"
   ]
  },
  {
   "cell_type": "code",
   "execution_count": 25,
   "metadata": {
    "ExecuteTime": {
     "end_time": "2021-03-13T21:43:33.091228Z",
     "start_time": "2021-03-13T21:43:27.966667Z"
    },
    "hidden": true
   },
   "outputs": [],
   "source": [
    "opus[(opus['edit_dist']>8) & (opus['score3']>3) & (opus['PMI_score']>50)][['sentence1', 'sentence2']].to_csv(\n",
    "    \"data/prepared_datasets/subs_splitted.csv\"\n",
    ")"
   ]
  },
  {
   "cell_type": "code",
   "execution_count": 7,
   "metadata": {
    "ExecuteTime": {
     "end_time": "2021-03-11T20:17:39.173335Z",
     "start_time": "2021-03-11T20:17:05.419877Z"
    },
    "hidden": true
   },
   "outputs": [
    {
     "data": {
      "text/plain": [
       "<AxesSubplot:ylabel='Frequency'>"
      ]
     },
     "execution_count": 7,
     "metadata": {},
     "output_type": "execute_result"
    },
    {
     "data": {
      "image/png": "[encoded data removed]",
      "text/plain": [
       "<Figure size 432x288 with 1 Axes>"
      ]
     },
     "metadata": {
      "needs_background": "light"
     },
     "output_type": "display_data"
    }
   ],
   "source": [
    "opus[\"edit_dist\"].plot(kind=\"hist\", bins=50)"
   ]
  },
  {
   "cell_type": "code",
   "execution_count": 4,
   "metadata": {
    "ExecuteTime": {
     "end_time": "2021-03-11T20:15:06.135026Z",
     "start_time": "2021-03-11T20:14:52.041397Z"
    },
    "hidden": true
   },
   "outputs": [
    {
     "data": {
      "text/plain": [
       "<AxesSubplot:ylabel='Frequency'>"
      ]
     },
     "execution_count": 4,
     "metadata": {},
     "output_type": "execute_result"
    },
    {
     "data": {
      "image/png": "[encoded data removed]",
      "text/plain": [
       "<Figure size 432x288 with 1 Axes>"
      ]
     },
     "metadata": {
      "needs_background": "light"
     },
     "output_type": "display_data"
    }
   ],
   "source": [
    "opus[\"PMI_score\"].plot(kind=\"hist\", bins=20)"
   ]
  },
  {
   "cell_type": "markdown",
   "metadata": {
    "heading_collapsed": true
   },
   "source": [
    "# Parabank"
   ]
  },
  {
   "cell_type": "code",
   "execution_count": 1,
   "metadata": {
    "ExecuteTime": {
     "end_time": "2021-05-21T21:15:00.603293Z",
     "start_time": "2021-05-21T21:15:00.067348Z"
    },
    "hidden": true
   },
   "outputs": [],
   "source": [
    "import pandas as pd\n"
   ]
  },
  {
   "cell_type": "code",
   "execution_count": 16,
   "metadata": {
    "ExecuteTime": {
     "end_time": "2021-05-21T21:17:06.633713Z",
     "start_time": "2021-05-21T21:17:06.429974Z"
    },
    "hidden": true
   },
   "outputs": [],
   "source": [
    "df = pd.read_csv(\"data/parabank/parabank2.tsv\", sep=\"\\t\", nrows=20000)"
   ]
  },
  {
   "cell_type": "code",
   "execution_count": 10,
   "metadata": {
    "ExecuteTime": {
     "end_time": "2021-05-21T21:16:28.015122Z",
     "start_time": "2021-05-21T21:16:27.934134Z"
    },
    "hidden": true
   },
   "outputs": [],
   "source": [
    "parabank = pd.read_csv(\"data/parabank/parabank.tsv\", sep=\"\\t\")\n",
    "parabank_ref = pd.read_csv(\"data/parabank/ref_parabank.tsv\", sep=\"\\t\")"
   ]
  },
  {
   "cell_type": "code",
   "execution_count": 22,
   "metadata": {
    "ExecuteTime": {
     "end_time": "2021-05-21T21:23:52.243411Z",
     "start_time": "2021-05-21T21:23:52.213543Z"
    },
    "hidden": true
   },
   "outputs": [],
   "source": [
    "parabank.sort_values(\"human_score\").drop_duplicates(\"ref_id\")[[\"ref_id\", 'candidate']].join(\n",
    "    parabank_ref[['ref_id', 'ref_sent']], on=\"ref_id\", rsuffix=\"1\"\n",
    ")[['candidate', 'ref_sent']].to_csv(\"data/parabank/parabank_test.csv\")"
   ]
  },
  {
   "cell_type": "code",
   "execution_count": 11,
   "metadata": {
    "ExecuteTime": {
     "end_time": "2021-03-11T18:09:31.220583Z",
     "start_time": "2021-03-11T18:09:31.028493Z"
    },
    "hidden": true
   },
   "outputs": [
    {
     "data": {
      "text/plain": [
       "<AxesSubplot:ylabel='Frequency'>"
      ]
     },
     "execution_count": 11,
     "metadata": {},
     "output_type": "execute_result"
    },
    {
     "data": {
      "image/png": "[encoded data removed]",
      "text/plain": [
       "<Figure size 432x288 with 1 Axes>"
      ]
     },
     "metadata": {
      "needs_background": "light"
     },
     "output_type": "display_data"
    }
   ],
   "source": [
    "parabank['human_score'].plot(kind=\"hist\", bins=20)"
   ]
  },
  {
   "cell_type": "markdown",
   "metadata": {
    "heading_collapsed": true
   },
   "source": [
    "# Quora"
   ]
  },
  {
   "cell_type": "code",
   "execution_count": 4,
   "metadata": {
    "ExecuteTime": {
     "end_time": "2021-05-10T11:36:22.726809Z",
     "start_time": "2021-05-10T11:36:21.405697Z"
    },
    "hidden": true
   },
   "outputs": [],
   "source": [
    "quora = pd.read_csv(\"./data/quora_duplicate_questions.tsv\", sep=\"\\t\", index_col=0)"
   ]
  },
  {
   "cell_type": "code",
   "execution_count": 11,
   "metadata": {
    "ExecuteTime": {
     "end_time": "2021-02-17T08:05:35.788747Z",
     "start_time": "2021-02-17T08:05:35.115229Z"
    },
    "hidden": true
   },
   "outputs": [],
   "source": [
    "quora[quora['is_duplicate'].map(bool)][['question1', 'question2']].rename(\n",
    "    {\"question1\": \"sentence1\", \"question2\":\"sentence2\"}, axis=1).to_csv(\"data/prepared_datasets/quora_splitted.csv\")"
   ]
  },
  {
   "cell_type": "markdown",
   "metadata": {
    "heading_collapsed": true
   },
   "source": [
    "# Paws"
   ]
  },
  {
   "cell_type": "code",
   "execution_count": 12,
   "metadata": {
    "ExecuteTime": {
     "end_time": "2021-02-17T08:09:18.176525Z",
     "start_time": "2021-02-17T08:09:18.173139Z"
    },
    "hidden": true
   },
   "outputs": [],
   "source": [
    "from pathlib import Path"
   ]
  },
  {
   "cell_type": "code",
   "execution_count": 14,
   "metadata": {
    "ExecuteTime": {
     "end_time": "2021-02-17T08:10:19.316704Z",
     "start_time": "2021-02-17T08:10:16.475850Z"
    },
    "hidden": true
   },
   "outputs": [],
   "source": [
    "paws = pd.DataFrame()\n",
    "\n",
    "for x in Path(\"data/paws/\").rglob(\"*.tsv\"):\n",
    "    paws = paws.append(pd.read_csv(x, sep=\"\\t\"))\n",
    "    \n",
    "paws.loc[paws.label.isna(), 'label'] = 0\n",
    "paws.loc[paws.noisy_label.isna(), 'noisy_label'] = 0\n",
    "paws[['label', 'noisy_label']] = paws[['label', 'noisy_label']].applymap(bool)"
   ]
  },
  {
   "cell_type": "code",
   "execution_count": 26,
   "metadata": {
    "ExecuteTime": {
     "end_time": "2021-02-17T08:24:05.388027Z",
     "start_time": "2021-02-17T08:24:05.144214Z"
    },
    "hidden": true
   },
   "outputs": [],
   "source": [
    "paws[paws['label']][['sentence1', 'sentence2']].to_csv(\"data/prepared_datasets/paws.csv\")"
   ]
  },
  {
   "cell_type": "code",
   "execution_count": 6,
   "metadata": {
    "ExecuteTime": {
     "end_time": "2021-05-10T12:16:19.608463Z",
     "start_time": "2021-05-10T12:16:19.460375Z"
    },
    "hidden": true
   },
   "outputs": [
    {
     "data": {
      "text/html": [
       "<div>\n",
       "<style scoped>\n",
       "    .dataframe tbody tr th:only-of-type {\n",
       "        vertical-align: middle;\n",
       "    }\n",
       "\n",
       "    .dataframe tbody tr th {\n",
       "        vertical-align: top;\n",
       "    }\n",
       "\n",
       "    .dataframe thead th {\n",
       "        text-align: right;\n",
       "    }\n",
       "</style>\n",
       "<table border=\"1\" class=\"dataframe\">\n",
       "  <thead>\n",
       "    <tr style=\"text-align: right;\">\n",
       "      <th></th>\n",
       "      <th>Unnamed: 0</th>\n",
       "      <th>sentence1</th>\n",
       "      <th>sentence2</th>\n",
       "    </tr>\n",
       "  </thead>\n",
       "  <tbody>\n",
       "    <tr>\n",
       "      <th>0</th>\n",
       "      <td>14</td>\n",
       "      <td>White House Farm ( Jefferson County , West Vir...</td>\n",
       "      <td>Jefferson County , West Virginia ( White House...</td>\n",
       "    </tr>\n",
       "    <tr>\n",
       "      <th>1</th>\n",
       "      <td>35</td>\n",
       "      <td>I lov 'd her soon , I lov 'd her late .</td>\n",
       "      <td>I lov 'd her late , I lov 'd her soon</td>\n",
       "    </tr>\n",
       "    <tr>\n",
       "      <th>2</th>\n",
       "      <td>36</td>\n",
       "      <td>Madhava Menon appoints his friend , DIG , Madh...</td>\n",
       "      <td>Madhava Menon appoints his friend , DIG , K. G...</td>\n",
       "    </tr>\n",
       "    <tr>\n",
       "      <th>3</th>\n",
       "      <td>48</td>\n",
       "      <td>The AVA includes about in Iredell , Wilkes and...</td>\n",
       "      <td>The AVA includes about in Yadkin , Wilkes and ...</td>\n",
       "    </tr>\n",
       "    <tr>\n",
       "      <th>4</th>\n",
       "      <td>56</td>\n",
       "      <td>Quintanar del Rey is a municipality in Spain ,...</td>\n",
       "      <td>Quintanar del Rey is a municipality in Cuenca ...</td>\n",
       "    </tr>\n",
       "    <tr>\n",
       "      <th>...</th>\n",
       "      <td>...</td>\n",
       "      <td>...</td>\n",
       "      <td>...</td>\n",
       "    </tr>\n",
       "    <tr>\n",
       "      <th>31829</th>\n",
       "      <td>7993</td>\n",
       "      <td>In Advent , the traditional `` Tauberbischofsh...</td>\n",
       "      <td>During Advent , the traditional `` Tauberbisch...</td>\n",
       "    </tr>\n",
       "    <tr>\n",
       "      <th>31830</th>\n",
       "      <td>7994</td>\n",
       "      <td>In 2002 , the song was released by British pro...</td>\n",
       "      <td>In 2002 , the song was published by the Britis...</td>\n",
       "    </tr>\n",
       "    <tr>\n",
       "      <th>31831</th>\n",
       "      <td>7995</td>\n",
       "      <td>Tommy Connolly , who plays Rory Jennings , pla...</td>\n",
       "      <td>Tommy Connolly , who plays Rory Jennings , pla...</td>\n",
       "    </tr>\n",
       "    <tr>\n",
       "      <th>31832</th>\n",
       "      <td>7996</td>\n",
       "      <td>Monroe Meadows , in Yosemite valley near Brida...</td>\n",
       "      <td>Monroe Meadows , in Yosemite Valley near Brida...</td>\n",
       "    </tr>\n",
       "    <tr>\n",
       "      <th>31833</th>\n",
       "      <td>7998</td>\n",
       "      <td>In 2014 the site launched iOS and Android appl...</td>\n",
       "      <td>In 2014 launched the site iOS and Android - ap...</td>\n",
       "    </tr>\n",
       "  </tbody>\n",
       "</table>\n",
       "<p>31834 rows × 3 columns</p>\n",
       "</div>"
      ],
      "text/plain": [
       "       Unnamed: 0                                          sentence1  \\\n",
       "0              14  White House Farm ( Jefferson County , West Vir...   \n",
       "1              35            I lov 'd her soon , I lov 'd her late .   \n",
       "2              36  Madhava Menon appoints his friend , DIG , Madh...   \n",
       "3              48  The AVA includes about in Iredell , Wilkes and...   \n",
       "4              56  Quintanar del Rey is a municipality in Spain ,...   \n",
       "...           ...                                                ...   \n",
       "31829        7993  In Advent , the traditional `` Tauberbischofsh...   \n",
       "31830        7994  In 2002 , the song was released by British pro...   \n",
       "31831        7995  Tommy Connolly , who plays Rory Jennings , pla...   \n",
       "31832        7996  Monroe Meadows , in Yosemite valley near Brida...   \n",
       "31833        7998  In 2014 the site launched iOS and Android appl...   \n",
       "\n",
       "                                               sentence2  \n",
       "0      Jefferson County , West Virginia ( White House...  \n",
       "1                  I lov 'd her late , I lov 'd her soon  \n",
       "2      Madhava Menon appoints his friend , DIG , K. G...  \n",
       "3      The AVA includes about in Yadkin , Wilkes and ...  \n",
       "4      Quintanar del Rey is a municipality in Cuenca ...  \n",
       "...                                                  ...  \n",
       "31829  During Advent , the traditional `` Tauberbisch...  \n",
       "31830  In 2002 , the song was published by the Britis...  \n",
       "31831  Tommy Connolly , who plays Rory Jennings , pla...  \n",
       "31832  Monroe Meadows , in Yosemite Valley near Brida...  \n",
       "31833  In 2014 launched the site iOS and Android - ap...  \n",
       "\n",
       "[31834 rows x 3 columns]"
      ]
     },
     "execution_count": 6,
     "metadata": {},
     "output_type": "execute_result"
    }
   ],
   "source": [
    "pd.read_csv(\"data/prepared_datasets/paws.csv\")"
   ]
  },
  {
   "cell_type": "code",
   "execution_count": 28,
   "metadata": {
    "ExecuteTime": {
     "end_time": "2021-02-17T08:25:23.178993Z",
     "start_time": "2021-02-17T08:25:21.166737Z"
    },
    "hidden": true
   },
   "outputs": [],
   "source": [
    "paws[paws['noisy_label']][['sentence1', 'sentence2']].to_csv(\"data/prepared_datasets/paws_noisy.csv\")"
   ]
  },
  {
   "cell_type": "markdown",
   "metadata": {},
   "source": [
    "# Microsoft Paraphrase Corpus"
   ]
  },
  {
   "cell_type": "code",
   "execution_count": 30,
   "metadata": {
    "ExecuteTime": {
     "end_time": "2021-05-22T11:16:20.748600Z",
     "start_time": "2021-05-22T11:16:20.711227Z"
    }
   },
   "outputs": [],
   "source": [
    "msr = []\n",
    "\n",
    "with open(\"data/msr/msr_paraphrase_train.txt\") as file:\n",
    "    for line in file.readlines():\n",
    "        msr.append(line.split(\"\\t\"))\n",
    "\n",
    "with open(\"data/msr/msr_paraphrase_test.txt\") as file:\n",
    "    for line in list(file.readlines())[1:]:\n",
    "        msr.append(line.split(\"\\t\"))\n",
    "        \n",
    "msr = pd.DataFrame(msr[1:], columns=msr[0])"
   ]
  },
  {
   "cell_type": "code",
   "execution_count": 31,
   "metadata": {
    "ExecuteTime": {
     "end_time": "2021-05-22T11:16:24.817819Z",
     "start_time": "2021-05-22T11:16:24.807593Z"
    }
   },
   "outputs": [
    {
     "data": {
      "text/plain": [
       "5801"
      ]
     },
     "execution_count": 31,
     "metadata": {},
     "output_type": "execute_result"
    }
   ],
   "source": [
    "len(msr)"
   ]
  },
  {
   "cell_type": "code",
   "execution_count": 35,
   "metadata": {
    "ExecuteTime": {
     "end_time": "2021-05-22T11:17:32.669947Z",
     "start_time": "2021-05-22T11:17:32.646016Z"
    }
   },
   "outputs": [
    {
     "data": {
      "text/html": [
       "<div>\n",
       "<style scoped>\n",
       "    .dataframe tbody tr th:only-of-type {\n",
       "        vertical-align: middle;\n",
       "    }\n",
       "\n",
       "    .dataframe tbody tr th {\n",
       "        vertical-align: top;\n",
       "    }\n",
       "\n",
       "    .dataframe thead th {\n",
       "        text-align: right;\n",
       "    }\n",
       "</style>\n",
       "<table border=\"1\" class=\"dataframe\">\n",
       "  <thead>\n",
       "    <tr style=\"text-align: right;\">\n",
       "      <th></th>\n",
       "      <th>﻿Quality</th>\n",
       "      <th>#1 ID</th>\n",
       "      <th>#2 ID</th>\n",
       "      <th>#1 String</th>\n",
       "      <th>#2 String\\n</th>\n",
       "    </tr>\n",
       "  </thead>\n",
       "  <tbody>\n",
       "    <tr>\n",
       "      <th>0</th>\n",
       "      <td>1</td>\n",
       "      <td>702876</td>\n",
       "      <td>702977</td>\n",
       "      <td>Amrozi accused his brother, whom he called \"th...</td>\n",
       "      <td>Referring to him as only \"the witness\", Amrozi...</td>\n",
       "    </tr>\n",
       "    <tr>\n",
       "      <th>1</th>\n",
       "      <td>0</td>\n",
       "      <td>2108705</td>\n",
       "      <td>2108831</td>\n",
       "      <td>Yucaipa owned Dominick's before selling the ch...</td>\n",
       "      <td>Yucaipa bought Dominick's in 1995 for $693 mil...</td>\n",
       "    </tr>\n",
       "    <tr>\n",
       "      <th>2</th>\n",
       "      <td>1</td>\n",
       "      <td>1330381</td>\n",
       "      <td>1330521</td>\n",
       "      <td>They had published an advertisement on the Int...</td>\n",
       "      <td>On June 10, the ship's owners had published an...</td>\n",
       "    </tr>\n",
       "    <tr>\n",
       "      <th>3</th>\n",
       "      <td>0</td>\n",
       "      <td>3344667</td>\n",
       "      <td>3344648</td>\n",
       "      <td>Around 0335 GMT, Tab shares were up 19 cents, ...</td>\n",
       "      <td>Tab shares jumped 20 cents, or 4.6%, to set a ...</td>\n",
       "    </tr>\n",
       "    <tr>\n",
       "      <th>4</th>\n",
       "      <td>1</td>\n",
       "      <td>1236820</td>\n",
       "      <td>1236712</td>\n",
       "      <td>The stock rose $2.11, or about 11 percent, to ...</td>\n",
       "      <td>PG&amp;E Corp. shares jumped $1.63 or 8 percent to...</td>\n",
       "    </tr>\n",
       "    <tr>\n",
       "      <th>...</th>\n",
       "      <td>...</td>\n",
       "      <td>...</td>\n",
       "      <td>...</td>\n",
       "      <td>...</td>\n",
       "      <td>...</td>\n",
       "    </tr>\n",
       "    <tr>\n",
       "      <th>5796</th>\n",
       "      <td>0</td>\n",
       "      <td>2685984</td>\n",
       "      <td>2686122</td>\n",
       "      <td>After Hughes refused to rehire Hernandez, he c...</td>\n",
       "      <td>Hernandez filed an Equal Employment Opportunit...</td>\n",
       "    </tr>\n",
       "    <tr>\n",
       "      <th>5797</th>\n",
       "      <td>0</td>\n",
       "      <td>339215</td>\n",
       "      <td>339172</td>\n",
       "      <td>There are 103 Democrats in the Assembly and 47...</td>\n",
       "      <td>Democrats dominate the Assembly while Republic...</td>\n",
       "    </tr>\n",
       "    <tr>\n",
       "      <th>5798</th>\n",
       "      <td>0</td>\n",
       "      <td>2996850</td>\n",
       "      <td>2996734</td>\n",
       "      <td>Bethany Hamilton remained in stable condition ...</td>\n",
       "      <td>Bethany, who remained in stable condition afte...</td>\n",
       "    </tr>\n",
       "    <tr>\n",
       "      <th>5799</th>\n",
       "      <td>1</td>\n",
       "      <td>2095781</td>\n",
       "      <td>2095812</td>\n",
       "      <td>Last week the power station’s US owners, AES C...</td>\n",
       "      <td>The news comes after Drax's American owner, AE...</td>\n",
       "    </tr>\n",
       "    <tr>\n",
       "      <th>5800</th>\n",
       "      <td>1</td>\n",
       "      <td>2136244</td>\n",
       "      <td>2136052</td>\n",
       "      <td>Sobig.F spreads when unsuspecting computer use...</td>\n",
       "      <td>The virus spreads when unsuspecting computer u...</td>\n",
       "    </tr>\n",
       "  </tbody>\n",
       "</table>\n",
       "<p>5801 rows × 5 columns</p>\n",
       "</div>"
      ],
      "text/plain": [
       "     ﻿Quality    #1 ID    #2 ID  \\\n",
       "0           1   702876   702977   \n",
       "1           0  2108705  2108831   \n",
       "2           1  1330381  1330521   \n",
       "3           0  3344667  3344648   \n",
       "4           1  1236820  1236712   \n",
       "...       ...      ...      ...   \n",
       "5796        0  2685984  2686122   \n",
       "5797        0   339215   339172   \n",
       "5798        0  2996850  2996734   \n",
       "5799        1  2095781  2095812   \n",
       "5800        1  2136244  2136052   \n",
       "\n",
       "                                              #1 String  \\\n",
       "0     Amrozi accused his brother, whom he called \"th...   \n",
       "1     Yucaipa owned Dominick's before selling the ch...   \n",
       "2     They had published an advertisement on the Int...   \n",
       "3     Around 0335 GMT, Tab shares were up 19 cents, ...   \n",
       "4     The stock rose $2.11, or about 11 percent, to ...   \n",
       "...                                                 ...   \n",
       "5796  After Hughes refused to rehire Hernandez, he c...   \n",
       "5797  There are 103 Democrats in the Assembly and 47...   \n",
       "5798  Bethany Hamilton remained in stable condition ...   \n",
       "5799  Last week the power station’s US owners, AES C...   \n",
       "5800  Sobig.F spreads when unsuspecting computer use...   \n",
       "\n",
       "                                            #2 String\\n  \n",
       "0     Referring to him as only \"the witness\", Amrozi...  \n",
       "1     Yucaipa bought Dominick's in 1995 for $693 mil...  \n",
       "2     On June 10, the ship's owners had published an...  \n",
       "3     Tab shares jumped 20 cents, or 4.6%, to set a ...  \n",
       "4     PG&E Corp. shares jumped $1.63 or 8 percent to...  \n",
       "...                                                 ...  \n",
       "5796  Hernandez filed an Equal Employment Opportunit...  \n",
       "5797  Democrats dominate the Assembly while Republic...  \n",
       "5798  Bethany, who remained in stable condition afte...  \n",
       "5799  The news comes after Drax's American owner, AE...  \n",
       "5800  The virus spreads when unsuspecting computer u...  \n",
       "\n",
       "[5801 rows x 5 columns]"
      ]
     },
     "execution_count": 35,
     "metadata": {},
     "output_type": "execute_result"
    }
   ],
   "source": [
    "msr"
   ]
  },
  {
   "cell_type": "code",
   "execution_count": 40,
   "metadata": {
    "ExecuteTime": {
     "end_time": "2021-05-22T11:19:34.522306Z",
     "start_time": "2021-05-22T11:19:34.507759Z"
    }
   },
   "outputs": [
    {
     "data": {
      "text/html": [
       "<div>\n",
       "<style scoped>\n",
       "    .dataframe tbody tr th:only-of-type {\n",
       "        vertical-align: middle;\n",
       "    }\n",
       "\n",
       "    .dataframe tbody tr th {\n",
       "        vertical-align: top;\n",
       "    }\n",
       "\n",
       "    .dataframe thead th {\n",
       "        text-align: right;\n",
       "    }\n",
       "</style>\n",
       "<table border=\"1\" class=\"dataframe\">\n",
       "  <thead>\n",
       "    <tr style=\"text-align: right;\">\n",
       "      <th></th>\n",
       "      <th>label</th>\n",
       "      <th>id1</th>\n",
       "      <th>id2</th>\n",
       "      <th>sentence1</th>\n",
       "      <th>sentence2</th>\n",
       "    </tr>\n",
       "  </thead>\n",
       "  <tbody>\n",
       "    <tr>\n",
       "      <th>0</th>\n",
       "      <td>1</td>\n",
       "      <td>702876</td>\n",
       "      <td>702977</td>\n",
       "      <td>Amrozi accused his brother, whom he called \"th...</td>\n",
       "      <td>Referring to him as only \"the witness\", Amrozi...</td>\n",
       "    </tr>\n",
       "    <tr>\n",
       "      <th>1</th>\n",
       "      <td>0</td>\n",
       "      <td>2108705</td>\n",
       "      <td>2108831</td>\n",
       "      <td>Yucaipa owned Dominick's before selling the ch...</td>\n",
       "      <td>Yucaipa bought Dominick's in 1995 for $693 mil...</td>\n",
       "    </tr>\n",
       "    <tr>\n",
       "      <th>2</th>\n",
       "      <td>1</td>\n",
       "      <td>1330381</td>\n",
       "      <td>1330521</td>\n",
       "      <td>They had published an advertisement on the Int...</td>\n",
       "      <td>On June 10, the ship's owners had published an...</td>\n",
       "    </tr>\n",
       "    <tr>\n",
       "      <th>3</th>\n",
       "      <td>0</td>\n",
       "      <td>3344667</td>\n",
       "      <td>3344648</td>\n",
       "      <td>Around 0335 GMT, Tab shares were up 19 cents, ...</td>\n",
       "      <td>Tab shares jumped 20 cents, or 4.6%, to set a ...</td>\n",
       "    </tr>\n",
       "    <tr>\n",
       "      <th>4</th>\n",
       "      <td>1</td>\n",
       "      <td>1236820</td>\n",
       "      <td>1236712</td>\n",
       "      <td>The stock rose $2.11, or about 11 percent, to ...</td>\n",
       "      <td>PG&amp;E Corp. shares jumped $1.63 or 8 percent to...</td>\n",
       "    </tr>\n",
       "    <tr>\n",
       "      <th>...</th>\n",
       "      <td>...</td>\n",
       "      <td>...</td>\n",
       "      <td>...</td>\n",
       "      <td>...</td>\n",
       "      <td>...</td>\n",
       "    </tr>\n",
       "    <tr>\n",
       "      <th>5796</th>\n",
       "      <td>0</td>\n",
       "      <td>2685984</td>\n",
       "      <td>2686122</td>\n",
       "      <td>After Hughes refused to rehire Hernandez, he c...</td>\n",
       "      <td>Hernandez filed an Equal Employment Opportunit...</td>\n",
       "    </tr>\n",
       "    <tr>\n",
       "      <th>5797</th>\n",
       "      <td>0</td>\n",
       "      <td>339215</td>\n",
       "      <td>339172</td>\n",
       "      <td>There are 103 Democrats in the Assembly and 47...</td>\n",
       "      <td>Democrats dominate the Assembly while Republic...</td>\n",
       "    </tr>\n",
       "    <tr>\n",
       "      <th>5798</th>\n",
       "      <td>0</td>\n",
       "      <td>2996850</td>\n",
       "      <td>2996734</td>\n",
       "      <td>Bethany Hamilton remained in stable condition ...</td>\n",
       "      <td>Bethany, who remained in stable condition afte...</td>\n",
       "    </tr>\n",
       "    <tr>\n",
       "      <th>5799</th>\n",
       "      <td>1</td>\n",
       "      <td>2095781</td>\n",
       "      <td>2095812</td>\n",
       "      <td>Last week the power station’s US owners, AES C...</td>\n",
       "      <td>The news comes after Drax's American owner, AE...</td>\n",
       "    </tr>\n",
       "    <tr>\n",
       "      <th>5800</th>\n",
       "      <td>1</td>\n",
       "      <td>2136244</td>\n",
       "      <td>2136052</td>\n",
       "      <td>Sobig.F spreads when unsuspecting computer use...</td>\n",
       "      <td>The virus spreads when unsuspecting computer u...</td>\n",
       "    </tr>\n",
       "  </tbody>\n",
       "</table>\n",
       "<p>5801 rows × 5 columns</p>\n",
       "</div>"
      ],
      "text/plain": [
       "     label      id1      id2  \\\n",
       "0        1   702876   702977   \n",
       "1        0  2108705  2108831   \n",
       "2        1  1330381  1330521   \n",
       "3        0  3344667  3344648   \n",
       "4        1  1236820  1236712   \n",
       "...    ...      ...      ...   \n",
       "5796     0  2685984  2686122   \n",
       "5797     0   339215   339172   \n",
       "5798     0  2996850  2996734   \n",
       "5799     1  2095781  2095812   \n",
       "5800     1  2136244  2136052   \n",
       "\n",
       "                                              sentence1  \\\n",
       "0     Amrozi accused his brother, whom he called \"th...   \n",
       "1     Yucaipa owned Dominick's before selling the ch...   \n",
       "2     They had published an advertisement on the Int...   \n",
       "3     Around 0335 GMT, Tab shares were up 19 cents, ...   \n",
       "4     The stock rose $2.11, or about 11 percent, to ...   \n",
       "...                                                 ...   \n",
       "5796  After Hughes refused to rehire Hernandez, he c...   \n",
       "5797  There are 103 Democrats in the Assembly and 47...   \n",
       "5798  Bethany Hamilton remained in stable condition ...   \n",
       "5799  Last week the power station’s US owners, AES C...   \n",
       "5800  Sobig.F spreads when unsuspecting computer use...   \n",
       "\n",
       "                                              sentence2  \n",
       "0     Referring to him as only \"the witness\", Amrozi...  \n",
       "1     Yucaipa bought Dominick's in 1995 for $693 mil...  \n",
       "2     On June 10, the ship's owners had published an...  \n",
       "3     Tab shares jumped 20 cents, or 4.6%, to set a ...  \n",
       "4     PG&E Corp. shares jumped $1.63 or 8 percent to...  \n",
       "...                                                 ...  \n",
       "5796  Hernandez filed an Equal Employment Opportunit...  \n",
       "5797  Democrats dominate the Assembly while Republic...  \n",
       "5798  Bethany, who remained in stable condition afte...  \n",
       "5799  The news comes after Drax's American owner, AE...  \n",
       "5800  The virus spreads when unsuspecting computer u...  \n",
       "\n",
       "[5801 rows x 5 columns]"
      ]
     },
     "execution_count": 40,
     "metadata": {},
     "output_type": "execute_result"
    }
   ],
   "source": [
    "msr"
   ]
  },
  {
   "cell_type": "code",
   "execution_count": 39,
   "metadata": {
    "ExecuteTime": {
     "end_time": "2021-05-22T11:18:02.711141Z",
     "start_time": "2021-05-22T11:18:02.682886Z"
    }
   },
   "outputs": [
    {
     "data": {
      "text/html": [
       "<div>\n",
       "<style scoped>\n",
       "    .dataframe tbody tr th:only-of-type {\n",
       "        vertical-align: middle;\n",
       "    }\n",
       "\n",
       "    .dataframe tbody tr th {\n",
       "        vertical-align: top;\n",
       "    }\n",
       "\n",
       "    .dataframe thead th {\n",
       "        text-align: right;\n",
       "    }\n",
       "</style>\n",
       "<table border=\"1\" class=\"dataframe\">\n",
       "  <thead>\n",
       "    <tr style=\"text-align: right;\">\n",
       "      <th></th>\n",
       "      <th>label</th>\n",
       "      <th>id1</th>\n",
       "      <th>id2</th>\n",
       "      <th>sentence1</th>\n",
       "      <th>sentence2</th>\n",
       "    </tr>\n",
       "  </thead>\n",
       "  <tbody>\n",
       "    <tr>\n",
       "      <th>0</th>\n",
       "      <td>1</td>\n",
       "      <td>702876</td>\n",
       "      <td>702977</td>\n",
       "      <td>Amrozi accused his brother, whom he called \"th...</td>\n",
       "      <td>Referring to him as only \"the witness\", Amrozi...</td>\n",
       "    </tr>\n",
       "    <tr>\n",
       "      <th>2</th>\n",
       "      <td>1</td>\n",
       "      <td>1330381</td>\n",
       "      <td>1330521</td>\n",
       "      <td>They had published an advertisement on the Int...</td>\n",
       "      <td>On June 10, the ship's owners had published an...</td>\n",
       "    </tr>\n",
       "    <tr>\n",
       "      <th>4</th>\n",
       "      <td>1</td>\n",
       "      <td>1236820</td>\n",
       "      <td>1236712</td>\n",
       "      <td>The stock rose $2.11, or about 11 percent, to ...</td>\n",
       "      <td>PG&amp;E Corp. shares jumped $1.63 or 8 percent to...</td>\n",
       "    </tr>\n",
       "    <tr>\n",
       "      <th>5</th>\n",
       "      <td>1</td>\n",
       "      <td>738533</td>\n",
       "      <td>737951</td>\n",
       "      <td>Revenue in the first quarter of the year dropp...</td>\n",
       "      <td>With the scandal hanging over Stewart's compan...</td>\n",
       "    </tr>\n",
       "    <tr>\n",
       "      <th>7</th>\n",
       "      <td>1</td>\n",
       "      <td>579975</td>\n",
       "      <td>579810</td>\n",
       "      <td>The DVD-CCA then appealed to the state Supreme...</td>\n",
       "      <td>The DVD CCA appealed that decision to the U.S....</td>\n",
       "    </tr>\n",
       "    <tr>\n",
       "      <th>...</th>\n",
       "      <td>...</td>\n",
       "      <td>...</td>\n",
       "      <td>...</td>\n",
       "      <td>...</td>\n",
       "      <td>...</td>\n",
       "    </tr>\n",
       "    <tr>\n",
       "      <th>5792</th>\n",
       "      <td>1</td>\n",
       "      <td>1670781</td>\n",
       "      <td>1670669</td>\n",
       "      <td>Gehring waived extradition Monday during a hea...</td>\n",
       "      <td>Gehring waived extradition Monday during a hea...</td>\n",
       "    </tr>\n",
       "    <tr>\n",
       "      <th>5793</th>\n",
       "      <td>1</td>\n",
       "      <td>912454</td>\n",
       "      <td>912640</td>\n",
       "      <td>\"I am advised that certain allegations of crim...</td>\n",
       "      <td>\"I am advised that certain allegations of crim...</td>\n",
       "    </tr>\n",
       "    <tr>\n",
       "      <th>5795</th>\n",
       "      <td>1</td>\n",
       "      <td>1917207</td>\n",
       "      <td>1917187</td>\n",
       "      <td>The deal, approved by both companies' board of...</td>\n",
       "      <td>The acquisition has been approved by both comp...</td>\n",
       "    </tr>\n",
       "    <tr>\n",
       "      <th>5799</th>\n",
       "      <td>1</td>\n",
       "      <td>2095781</td>\n",
       "      <td>2095812</td>\n",
       "      <td>Last week the power station’s US owners, AES C...</td>\n",
       "      <td>The news comes after Drax's American owner, AE...</td>\n",
       "    </tr>\n",
       "    <tr>\n",
       "      <th>5800</th>\n",
       "      <td>1</td>\n",
       "      <td>2136244</td>\n",
       "      <td>2136052</td>\n",
       "      <td>Sobig.F spreads when unsuspecting computer use...</td>\n",
       "      <td>The virus spreads when unsuspecting computer u...</td>\n",
       "    </tr>\n",
       "  </tbody>\n",
       "</table>\n",
       "<p>3900 rows × 5 columns</p>\n",
       "</div>"
      ],
      "text/plain": [
       "     label      id1      id2  \\\n",
       "0        1   702876   702977   \n",
       "2        1  1330381  1330521   \n",
       "4        1  1236820  1236712   \n",
       "5        1   738533   737951   \n",
       "7        1   579975   579810   \n",
       "...    ...      ...      ...   \n",
       "5792     1  1670781  1670669   \n",
       "5793     1   912454   912640   \n",
       "5795     1  1917207  1917187   \n",
       "5799     1  2095781  2095812   \n",
       "5800     1  2136244  2136052   \n",
       "\n",
       "                                              sentence1  \\\n",
       "0     Amrozi accused his brother, whom he called \"th...   \n",
       "2     They had published an advertisement on the Int...   \n",
       "4     The stock rose $2.11, or about 11 percent, to ...   \n",
       "5     Revenue in the first quarter of the year dropp...   \n",
       "7     The DVD-CCA then appealed to the state Supreme...   \n",
       "...                                                 ...   \n",
       "5792  Gehring waived extradition Monday during a hea...   \n",
       "5793  \"I am advised that certain allegations of crim...   \n",
       "5795  The deal, approved by both companies' board of...   \n",
       "5799  Last week the power station’s US owners, AES C...   \n",
       "5800  Sobig.F spreads when unsuspecting computer use...   \n",
       "\n",
       "                                              sentence2  \n",
       "0     Referring to him as only \"the witness\", Amrozi...  \n",
       "2     On June 10, the ship's owners had published an...  \n",
       "4     PG&E Corp. shares jumped $1.63 or 8 percent to...  \n",
       "5     With the scandal hanging over Stewart's compan...  \n",
       "7     The DVD CCA appealed that decision to the U.S....  \n",
       "...                                                 ...  \n",
       "5792  Gehring waived extradition Monday during a hea...  \n",
       "5793  \"I am advised that certain allegations of crim...  \n",
       "5795  The acquisition has been approved by both comp...  \n",
       "5799  The news comes after Drax's American owner, AE...  \n",
       "5800  The virus spreads when unsuspecting computer u...  \n",
       "\n",
       "[3900 rows x 5 columns]"
      ]
     },
     "execution_count": 39,
     "metadata": {},
     "output_type": "execute_result"
    }
   ],
   "source": [
    "msr[msr[\"label\"].map(int).map(bool)]"
   ]
  },
  {
   "cell_type": "code",
   "execution_count": 37,
   "metadata": {
    "ExecuteTime": {
     "end_time": "2021-05-22T11:17:44.935175Z",
     "start_time": "2021-05-22T11:17:44.929698Z"
    }
   },
   "outputs": [],
   "source": [
    "msr.columns = [\"label\", \"id1\", 'id2', 'sentence1', \"sentence2\"]"
   ]
  },
  {
   "cell_type": "code",
   "execution_count": 81,
   "metadata": {
    "ExecuteTime": {
     "end_time": "2021-03-13T22:07:19.612560Z",
     "start_time": "2021-03-13T22:07:19.607874Z"
    }
   },
   "outputs": [],
   "source": [
    "pd.options.display.max_rows = 1000"
   ]
  },
  {
   "cell_type": "code",
   "execution_count": 85,
   "metadata": {
    "ExecuteTime": {
     "end_time": "2021-03-13T22:08:55.270061Z",
     "start_time": "2021-03-13T22:08:55.197422Z"
    }
   },
   "outputs": [],
   "source": [
    "msr[msr[\"label\"].map(int).map(bool)][['sentence1', 'sentence2']].to_csv(\"data/prepared_datasets/mpc.csv\")"
   ]
  },
  {
   "cell_type": "code",
   "execution_count": 41,
   "metadata": {
    "ExecuteTime": {
     "end_time": "2021-05-22T11:21:30.040383Z",
     "start_time": "2021-05-22T11:21:30.002574Z"
    }
   },
   "outputs": [
    {
     "data": {
      "text/html": [
       "<div>\n",
       "<style scoped>\n",
       "    .dataframe tbody tr th:only-of-type {\n",
       "        vertical-align: middle;\n",
       "    }\n",
       "\n",
       "    .dataframe tbody tr th {\n",
       "        vertical-align: top;\n",
       "    }\n",
       "\n",
       "    .dataframe thead th {\n",
       "        text-align: right;\n",
       "    }\n",
       "</style>\n",
       "<table border=\"1\" class=\"dataframe\">\n",
       "  <thead>\n",
       "    <tr style=\"text-align: right;\">\n",
       "      <th></th>\n",
       "      <th>Unnamed: 0</th>\n",
       "      <th>sentence1</th>\n",
       "      <th>sentence2</th>\n",
       "    </tr>\n",
       "  </thead>\n",
       "  <tbody>\n",
       "    <tr>\n",
       "      <th>0</th>\n",
       "      <td>0</td>\n",
       "      <td>Amrozi accused his brother, whom he called \"th...</td>\n",
       "      <td>Referring to him as only \"the witness\", Amrozi...</td>\n",
       "    </tr>\n",
       "    <tr>\n",
       "      <th>1</th>\n",
       "      <td>2</td>\n",
       "      <td>They had published an advertisement on the Int...</td>\n",
       "      <td>On June 10, the ship's owners had published an...</td>\n",
       "    </tr>\n",
       "    <tr>\n",
       "      <th>2</th>\n",
       "      <td>4</td>\n",
       "      <td>The stock rose $2.11, or about 11 percent, to ...</td>\n",
       "      <td>PG&amp;E Corp. shares jumped $1.63 or 8 percent to...</td>\n",
       "    </tr>\n",
       "    <tr>\n",
       "      <th>3</th>\n",
       "      <td>5</td>\n",
       "      <td>Revenue in the first quarter of the year dropp...</td>\n",
       "      <td>With the scandal hanging over Stewart's compan...</td>\n",
       "    </tr>\n",
       "    <tr>\n",
       "      <th>4</th>\n",
       "      <td>7</td>\n",
       "      <td>The DVD-CCA then appealed to the state Supreme...</td>\n",
       "      <td>The DVD CCA appealed that decision to the U.S....</td>\n",
       "    </tr>\n",
       "    <tr>\n",
       "      <th>...</th>\n",
       "      <td>...</td>\n",
       "      <td>...</td>\n",
       "      <td>...</td>\n",
       "    </tr>\n",
       "    <tr>\n",
       "      <th>3895</th>\n",
       "      <td>5792</td>\n",
       "      <td>Gehring waived extradition Monday during a hea...</td>\n",
       "      <td>Gehring waived extradition Monday during a hea...</td>\n",
       "    </tr>\n",
       "    <tr>\n",
       "      <th>3896</th>\n",
       "      <td>5793</td>\n",
       "      <td>\"I am advised that certain allegations of crim...</td>\n",
       "      <td>\"I am advised that certain allegations of crim...</td>\n",
       "    </tr>\n",
       "    <tr>\n",
       "      <th>3897</th>\n",
       "      <td>5795</td>\n",
       "      <td>The deal, approved by both companies' board of...</td>\n",
       "      <td>The acquisition has been approved by both comp...</td>\n",
       "    </tr>\n",
       "    <tr>\n",
       "      <th>3898</th>\n",
       "      <td>5799</td>\n",
       "      <td>Last week the power station’s US owners, AES C...</td>\n",
       "      <td>The news comes after Drax's American owner, AE...</td>\n",
       "    </tr>\n",
       "    <tr>\n",
       "      <th>3899</th>\n",
       "      <td>5800</td>\n",
       "      <td>Sobig.F spreads when unsuspecting computer use...</td>\n",
       "      <td>The virus spreads when unsuspecting computer u...</td>\n",
       "    </tr>\n",
       "  </tbody>\n",
       "</table>\n",
       "<p>3900 rows × 3 columns</p>\n",
       "</div>"
      ],
      "text/plain": [
       "      Unnamed: 0                                          sentence1  \\\n",
       "0              0  Amrozi accused his brother, whom he called \"th...   \n",
       "1              2  They had published an advertisement on the Int...   \n",
       "2              4  The stock rose $2.11, or about 11 percent, to ...   \n",
       "3              5  Revenue in the first quarter of the year dropp...   \n",
       "4              7  The DVD-CCA then appealed to the state Supreme...   \n",
       "...          ...                                                ...   \n",
       "3895        5792  Gehring waived extradition Monday during a hea...   \n",
       "3896        5793  \"I am advised that certain allegations of crim...   \n",
       "3897        5795  The deal, approved by both companies' board of...   \n",
       "3898        5799  Last week the power station’s US owners, AES C...   \n",
       "3899        5800  Sobig.F spreads when unsuspecting computer use...   \n",
       "\n",
       "                                              sentence2  \n",
       "0     Referring to him as only \"the witness\", Amrozi...  \n",
       "1     On June 10, the ship's owners had published an...  \n",
       "2     PG&E Corp. shares jumped $1.63 or 8 percent to...  \n",
       "3     With the scandal hanging over Stewart's compan...  \n",
       "4     The DVD CCA appealed that decision to the U.S....  \n",
       "...                                                 ...  \n",
       "3895  Gehring waived extradition Monday during a hea...  \n",
       "3896  \"I am advised that certain allegations of crim...  \n",
       "3897  The acquisition has been approved by both comp...  \n",
       "3898  The news comes after Drax's American owner, AE...  \n",
       "3899  The virus spreads when unsuspecting computer u...  \n",
       "\n",
       "[3900 rows x 3 columns]"
      ]
     },
     "execution_count": 41,
     "metadata": {},
     "output_type": "execute_result"
    }
   ],
   "source": [
    "pd.read_csv(\"data/prepared_datasets/mpc.csv\")"
   ]
  },
  {
   "cell_type": "markdown",
   "metadata": {
    "heading_collapsed": true
   },
   "source": [
    "# Twitter"
   ]
  },
  {
   "cell_type": "markdown",
   "metadata": {
    "hidden": true
   },
   "source": [
    "1. remove unintended dots\n",
    "2. `& amp ;` -> `&`\n",
    "3. `&squot;`-> '\n",
    "3. count `\"`\n",
    "4."
   ]
  },
  {
   "cell_type": "code",
   "execution_count": 61,
   "metadata": {
    "ExecuteTime": {
     "end_time": "2021-03-11T05:52:24.113225Z",
     "start_time": "2021-03-11T05:52:24.110231Z"
    },
    "hidden": true
   },
   "outputs": [],
   "source": [
    "import pandas as pd\n",
    "import numpy as np\n",
    "import json\n",
    "import pickle\n",
    "from tqdm.auto import tqdm"
   ]
  },
  {
   "cell_type": "markdown",
   "metadata": {
    "heading_collapsed": true,
    "hidden": true
   },
   "source": [
    "## LanguageNet"
   ]
  },
  {
   "cell_type": "code",
   "execution_count": 6,
   "metadata": {
    "ExecuteTime": {
     "end_time": "2021-03-09T19:20:29.600829Z",
     "start_time": "2021-03-09T19:20:29.372707Z"
    },
    "hidden": true
   },
   "outputs": [],
   "source": [
    "df = pd.read_csv(\"twitter/2016_Oct_10--2017_Jan_08_paraphrase.txt\", sep=\"\\t\", names=[\"sentence1\", 'sentence2'])"
   ]
  },
  {
   "cell_type": "code",
   "execution_count": 22,
   "metadata": {
    "ExecuteTime": {
     "end_time": "2021-03-09T19:24:20.853655Z",
     "start_time": "2021-03-09T19:24:19.600209Z"
    },
    "hidden": true
   },
   "outputs": [],
   "source": [
    "df = pd.read_csv(\"twitter/2016_Oct_10--2017_Jan_08_full.txt\", sep=\"\\t\",  names=[\"score\", \"sentence1\", 'sentence2'])"
   ]
  },
  {
   "cell_type": "code",
   "execution_count": 49,
   "metadata": {
    "ExecuteTime": {
     "end_time": "2021-03-09T20:02:53.630200Z",
     "start_time": "2021-03-09T20:02:53.491026Z"
    },
    "hidden": true
   },
   "outputs": [],
   "source": [
    "df = pd.read_csv(\"twitter/Twitter_URL_Corpus_train.txt\", sep=\"\\t\", names=[\"sentence1\", 'sentence2', 'score', 'url'])"
   ]
  },
  {
   "cell_type": "code",
   "execution_count": 54,
   "metadata": {
    "ExecuteTime": {
     "end_time": "2021-03-09T20:21:16.192990Z",
     "start_time": "2021-03-09T20:21:16.183593Z"
    },
    "hidden": true
   },
   "outputs": [
    {
     "data": {
      "text/html": [
       "<div>\n",
       "<style scoped>\n",
       "    .dataframe tbody tr th:only-of-type {\n",
       "        vertical-align: middle;\n",
       "    }\n",
       "\n",
       "    .dataframe tbody tr th {\n",
       "        vertical-align: top;\n",
       "    }\n",
       "\n",
       "    .dataframe thead th {\n",
       "        text-align: right;\n",
       "    }\n",
       "</style>\n",
       "<table border=\"1\" class=\"dataframe\">\n",
       "  <thead>\n",
       "    <tr style=\"text-align: right;\">\n",
       "      <th></th>\n",
       "      <th>sentence1</th>\n",
       "      <th>sentence2</th>\n",
       "      <th>score</th>\n",
       "      <th>url</th>\n",
       "    </tr>\n",
       "  </thead>\n",
       "  <tbody>\n",
       "    <tr>\n",
       "      <th>110</th>\n",
       "      <td>I would have to be a moron \" to say some citie...</td>\n",
       "      <td>the living dead vote Republican . For instance...</td>\n",
       "      <td>(0,6)</td>\n",
       "      <td>https://t.co/QwED2YcMZ7</td>\n",
       "    </tr>\n",
       "    <tr>\n",
       "      <th>111</th>\n",
       "      <td>I would have to be a moron \" to say some citie...</td>\n",
       "      <td>There are very few situations where Republican...</td>\n",
       "      <td>(0,6)</td>\n",
       "      <td>https://t.co/QwED2YcMZ7</td>\n",
       "    </tr>\n",
       "    <tr>\n",
       "      <th>112</th>\n",
       "      <td>I would have to be a moron \" to say some citie...</td>\n",
       "      <td>Giuliani tells @jaketapper I would have to be ...</td>\n",
       "      <td>(4,6)</td>\n",
       "      <td>https://t.co/QwED2YcMZ7</td>\n",
       "    </tr>\n",
       "    <tr>\n",
       "      <th>113</th>\n",
       "      <td>I would have to be a moron \" to say some citie...</td>\n",
       "      <td>Giuliani on rigged election Dead people genera...</td>\n",
       "      <td>(0,6)</td>\n",
       "      <td>https://t.co/QwED2YcMZ7</td>\n",
       "    </tr>\n",
       "    <tr>\n",
       "      <th>114</th>\n",
       "      <td>I would have to be a moron \" to say some citie...</td>\n",
       "      <td>Most dead people I know are undecided Rudy Giu...</td>\n",
       "      <td>(0,6)</td>\n",
       "      <td>https://t.co/QwED2YcMZ7</td>\n",
       "    </tr>\n",
       "    <tr>\n",
       "      <th>115</th>\n",
       "      <td>I would have to be a moron \" to say some citie...</td>\n",
       "      <td>I'm sure that there will be dead people voting...</td>\n",
       "      <td>(1,6)</td>\n",
       "      <td>https://t.co/QwED2YcMZ7</td>\n",
       "    </tr>\n",
       "    <tr>\n",
       "      <th>116</th>\n",
       "      <td>I would have to be a moron \" to say some citie...</td>\n",
       "      <td>Rudy Giuliani said dead people tend to vote De...</td>\n",
       "      <td>(1,6)</td>\n",
       "      <td>https://t.co/QwED2YcMZ7</td>\n",
       "    </tr>\n",
       "    <tr>\n",
       "      <th>117</th>\n",
       "      <td>I would have to be a moron \" to say some citie...</td>\n",
       "      <td>PROVE IT RUDY ! Giuliani on rigged election De...</td>\n",
       "      <td>(0,6)</td>\n",
       "      <td>https://t.co/QwED2YcMZ7</td>\n",
       "    </tr>\n",
       "    <tr>\n",
       "      <th>118</th>\n",
       "      <td>I would have to be a moron \" to say some citie...</td>\n",
       "      <td>Giuliani on rigged election: 'Dead people gene...</td>\n",
       "      <td>(1,6)</td>\n",
       "      <td>https://t.co/QwED2YcMZ7</td>\n",
       "    </tr>\n",
       "    <tr>\n",
       "      <th>119</th>\n",
       "      <td>I would have to be a moron \" to say some citie...</td>\n",
       "      <td>Top Donald Trump adviser Rudy Giuliani claimed...</td>\n",
       "      <td>(1,6)</td>\n",
       "      <td>https://t.co/QwED2YcMZ7</td>\n",
       "    </tr>\n",
       "  </tbody>\n",
       "</table>\n",
       "</div>"
      ],
      "text/plain": [
       "                                             sentence1  \\\n",
       "110  I would have to be a moron \" to say some citie...   \n",
       "111  I would have to be a moron \" to say some citie...   \n",
       "112  I would have to be a moron \" to say some citie...   \n",
       "113  I would have to be a moron \" to say some citie...   \n",
       "114  I would have to be a moron \" to say some citie...   \n",
       "115  I would have to be a moron \" to say some citie...   \n",
       "116  I would have to be a moron \" to say some citie...   \n",
       "117  I would have to be a moron \" to say some citie...   \n",
       "118  I would have to be a moron \" to say some citie...   \n",
       "119  I would have to be a moron \" to say some citie...   \n",
       "\n",
       "                                             sentence2  score  \\\n",
       "110  the living dead vote Republican . For instance...  (0,6)   \n",
       "111  There are very few situations where Republican...  (0,6)   \n",
       "112  Giuliani tells @jaketapper I would have to be ...  (4,6)   \n",
       "113  Giuliani on rigged election Dead people genera...  (0,6)   \n",
       "114  Most dead people I know are undecided Rudy Giu...  (0,6)   \n",
       "115  I'm sure that there will be dead people voting...  (1,6)   \n",
       "116  Rudy Giuliani said dead people tend to vote De...  (1,6)   \n",
       "117  PROVE IT RUDY ! Giuliani on rigged election De...  (0,6)   \n",
       "118  Giuliani on rigged election: 'Dead people gene...  (1,6)   \n",
       "119  Top Donald Trump adviser Rudy Giuliani claimed...  (1,6)   \n",
       "\n",
       "                         url  \n",
       "110  https://t.co/QwED2YcMZ7  \n",
       "111  https://t.co/QwED2YcMZ7  \n",
       "112  https://t.co/QwED2YcMZ7  \n",
       "113  https://t.co/QwED2YcMZ7  \n",
       "114  https://t.co/QwED2YcMZ7  \n",
       "115  https://t.co/QwED2YcMZ7  \n",
       "116  https://t.co/QwED2YcMZ7  \n",
       "117  https://t.co/QwED2YcMZ7  \n",
       "118  https://t.co/QwED2YcMZ7  \n",
       "119  https://t.co/QwED2YcMZ7  "
      ]
     },
     "execution_count": 54,
     "metadata": {},
     "output_type": "execute_result"
    }
   ],
   "source": [
    "df.iloc[110:120]"
   ]
  },
  {
   "cell_type": "code",
   "execution_count": 59,
   "metadata": {
    "ExecuteTime": {
     "end_time": "2021-03-09T20:29:24.990438Z",
     "start_time": "2021-03-09T20:29:24.970923Z"
    },
    "hidden": true
   },
   "outputs": [
    {
     "name": "stdout",
     "output_type": "stream",
     "text": [
      "(0,6)\n",
      "Teaching seventh graders in a \" total mess \" of an election season \n",
      "Guess who else can't wait for the election to be over ? \n",
      "\n",
      "\n",
      "\n",
      "(3,6)\n",
      "Teaching seventh graders in a \" total mess \" of an election season \n",
      "What it's like trying to teach 7th-graders about an election involving Donald Trump \n",
      "\n",
      "\n",
      "\n",
      "(0,6)\n",
      "Teaching seventh graders in a \" total mess \" of an election season \n",
      "I think if you repeat some stuff that Trump says , you could get sent down to the principal . Maybe even expelled . \n",
      "\n",
      "\n",
      "\n",
      "(0,6)\n",
      "Teaching seventh graders in a \" total mess \" of an election season \n",
      "I think if you repeat some stuff that Trump says , you could get sent down to the principals office . \n",
      "\n",
      "\n",
      "\n",
      "(0,6)\n",
      "Teaching seventh graders in a \" total mess \" of an election season \n",
      "Words matter in this election , and our students are listening \n",
      "\n",
      "\n",
      "\n",
      "(0,6)\n",
      "Teaching seventh graders in a \" total mess \" of an election season \n",
      "One of the scariest things about this election season is realizing that kids are subjected to this garbage fire , too \n",
      "\n",
      "\n",
      "\n",
      "(3,6)\n",
      "Teaching seventh graders in a \" total mess \" of an election season \n",
      "What's it like to discuss the presidential election with 7th graders ? It's a mess , says one teacher \n",
      "\n",
      "\n",
      "\n",
      "(1,6)\n",
      "Teaching seventh graders in a \" total mess \" of an election season \n",
      "This campaign is ruining a lot of classes . How to teach kids about \n",
      "\n",
      "\n",
      "\n",
      "(4,6)\n",
      "Teaching seventh graders in a \" total mess \" of an election season \n",
      "What it's like trying to teach 7th-graders abt election involving Trump \n",
      "\n",
      "\n",
      "\n",
      "(1,6)\n",
      "Teaching seventh graders in a \" total mess \" of an election season \n",
      "In Wisconsin, a crucial swing state, one teacher has aimed for civility in class, but has struggled to discuss the shocking tone of the presidential race.\n",
      "\n",
      "\n",
      "\n"
     ]
    }
   ],
   "source": [
    "for i in range(120, 130):\n",
    "    print(df.iloc[i, 2])    \n",
    "    print(df.iloc[i, 0])\n",
    "    print(df.iloc[i, 1])   \n",
    "    print(\"\\n\\n\")"
   ]
  },
  {
   "cell_type": "code",
   "execution_count": 40,
   "metadata": {
    "ExecuteTime": {
     "end_time": "2021-03-09T19:27:45.898456Z",
     "start_time": "2021-03-09T19:27:45.895984Z"
    },
    "hidden": true
   },
   "outputs": [],
   "source": [
    "i = 5"
   ]
  },
  {
   "cell_type": "code",
   "execution_count": 41,
   "metadata": {
    "ExecuteTime": {
     "end_time": "2021-03-09T19:27:46.261282Z",
     "start_time": "2021-03-09T19:27:46.255375Z"
    },
    "hidden": true
   },
   "outputs": [
    {
     "data": {
      "text/plain": [
       "0.07301142680560001"
      ]
     },
     "execution_count": 41,
     "metadata": {},
     "output_type": "execute_result"
    }
   ],
   "source": [
    "df['score'][i]"
   ]
  },
  {
   "cell_type": "code",
   "execution_count": 42,
   "metadata": {
    "ExecuteTime": {
     "end_time": "2021-03-09T19:27:46.704237Z",
     "start_time": "2021-03-09T19:27:46.699646Z"
    },
    "hidden": true
   },
   "outputs": [
    {
     "data": {
      "text/plain": [
       "'Jeff Sessions fought to preserve Alabamas long history of separate and unequal education .'"
      ]
     },
     "execution_count": 42,
     "metadata": {},
     "output_type": "execute_result"
    }
   ],
   "source": [
    "df['sentence1'][i]"
   ]
  },
  {
   "cell_type": "code",
   "execution_count": 43,
   "metadata": {
    "ExecuteTime": {
     "end_time": "2021-03-09T19:27:47.149775Z",
     "start_time": "2021-03-09T19:27:47.145829Z"
    },
    "hidden": true
   },
   "outputs": [
    {
     "data": {
      "text/plain": [
       "'Senator Sessions \" accused a white attorney who supported voting rights of being a race traitor .'"
      ]
     },
     "execution_count": 43,
     "metadata": {},
     "output_type": "execute_result"
    }
   ],
   "source": [
    "df['sentence2'][i]"
   ]
  },
  {
   "cell_type": "markdown",
   "metadata": {
    "heading_collapsed": true,
    "hidden": true
   },
   "source": [
    "## PIT"
   ]
  },
  {
   "cell_type": "code",
   "execution_count": 66,
   "metadata": {
    "ExecuteTime": {
     "end_time": "2021-03-11T05:55:00.518759Z",
     "start_time": "2021-03-11T05:55:00.428051Z"
    },
    "hidden": true
   },
   "outputs": [],
   "source": [
    "df = pd.read_csv(\"data/SemEval-PIT2015-github/data/train.data\", \n",
    "                 sep=\"\\t\", names=['id_sentence1', 'theme', 'sentence1', 'sentence2', 'score', 'pos1', 'pos2'])"
   ]
  },
  {
   "cell_type": "code",
   "execution_count": 67,
   "metadata": {
    "ExecuteTime": {
     "end_time": "2021-03-11T05:55:00.696172Z",
     "start_time": "2021-03-11T05:55:00.680862Z"
    },
    "hidden": true
   },
   "outputs": [
    {
     "data": {
      "text/html": [
       "<div>\n",
       "<style scoped>\n",
       "    .dataframe tbody tr th:only-of-type {\n",
       "        vertical-align: middle;\n",
       "    }\n",
       "\n",
       "    .dataframe tbody tr th {\n",
       "        vertical-align: top;\n",
       "    }\n",
       "\n",
       "    .dataframe thead th {\n",
       "        text-align: right;\n",
       "    }\n",
       "</style>\n",
       "<table border=\"1\" class=\"dataframe\">\n",
       "  <thead>\n",
       "    <tr style=\"text-align: right;\">\n",
       "      <th></th>\n",
       "      <th>id_sentence1</th>\n",
       "      <th>theme</th>\n",
       "      <th>sentence1</th>\n",
       "      <th>sentence2</th>\n",
       "      <th>score</th>\n",
       "      <th>pos1</th>\n",
       "      <th>pos2</th>\n",
       "    </tr>\n",
       "  </thead>\n",
       "  <tbody>\n",
       "    <tr>\n",
       "      <th>0</th>\n",
       "      <td>4</td>\n",
       "      <td>1st QB</td>\n",
       "      <td>EJ Manuel the 1st QB to go in this draft</td>\n",
       "      <td>But my bro from the 757 EJ Manuel is the 1st Q...</td>\n",
       "      <td>(5, 0)</td>\n",
       "      <td>EJ/B-person/NNP/B-NP/O Manuel/I-person/NNP/B-V...</td>\n",
       "      <td>But/O/CC/O/O my/O/PRP$/B-NP/O bro/O/NN/I-NP/O ...</td>\n",
       "    </tr>\n",
       "    <tr>\n",
       "      <th>1</th>\n",
       "      <td>4</td>\n",
       "      <td>1st QB</td>\n",
       "      <td>EJ Manuel the 1st QB to go in this draft</td>\n",
       "      <td>Can believe EJ Manuel went as the 1st QB in th...</td>\n",
       "      <td>(5, 0)</td>\n",
       "      <td>EJ/B-person/NNP/B-NP/O Manuel/I-person/NNP/B-V...</td>\n",
       "      <td>Can/O/MD/B-VP/O believe/O/VB/I-VP/B-EVENT EJ/B...</td>\n",
       "    </tr>\n",
       "    <tr>\n",
       "      <th>2</th>\n",
       "      <td>4</td>\n",
       "      <td>1st QB</td>\n",
       "      <td>EJ Manuel the 1st QB to go in this draft</td>\n",
       "      <td>EJ MANUEL IS THE 1ST QB what</td>\n",
       "      <td>(3, 2)</td>\n",
       "      <td>EJ/B-person/NNP/B-NP/O Manuel/I-person/NNP/B-V...</td>\n",
       "      <td>EJ/B-person/NNP/B-NP/O MANUEL/I-person/NNP/I-N...</td>\n",
       "    </tr>\n",
       "    <tr>\n",
       "      <th>3</th>\n",
       "      <td>4</td>\n",
       "      <td>1st QB</td>\n",
       "      <td>EJ Manuel the 1st QB to go in this draft</td>\n",
       "      <td>EJ da 1st QB off da board</td>\n",
       "      <td>(2, 3)</td>\n",
       "      <td>EJ/B-person/NNP/B-NP/O Manuel/I-person/NNP/B-V...</td>\n",
       "      <td>EJ/O/NNP/B-NP/O da/O/DT/I-NP/O 1st/O/CD/I-NP/O...</td>\n",
       "    </tr>\n",
       "    <tr>\n",
       "      <th>4</th>\n",
       "      <td>4</td>\n",
       "      <td>1st QB</td>\n",
       "      <td>EJ Manuel the 1st QB to go in this draft</td>\n",
       "      <td>Manuel is the 1st QB to get drafted</td>\n",
       "      <td>(4, 1)</td>\n",
       "      <td>EJ/B-person/NNP/B-NP/O Manuel/I-person/NNP/B-V...</td>\n",
       "      <td>Manuel/B-person/NNP/B-NP/O is/O/VBZ/B-VP/O the...</td>\n",
       "    </tr>\n",
       "    <tr>\n",
       "      <th>...</th>\n",
       "      <td>...</td>\n",
       "      <td>...</td>\n",
       "      <td>...</td>\n",
       "      <td>...</td>\n",
       "      <td>...</td>\n",
       "      <td>...</td>\n",
       "      <td>...</td>\n",
       "    </tr>\n",
       "    <tr>\n",
       "      <th>13058</th>\n",
       "      <td>1891</td>\n",
       "      <td>iPhone 5</td>\n",
       "      <td>It fits the larger iPhone 5</td>\n",
       "      <td>My brother thirsty for this iPhone 5 so ill gu...</td>\n",
       "      <td>(0, 5)</td>\n",
       "      <td>It/O/PRP/B-NP/O fits/O/VBZ/B-VP/O the/O/DT/B-N...</td>\n",
       "      <td>My/O/PRP$/B-NP/O brother/O/NN/I-NP/O thirsty/O...</td>\n",
       "    </tr>\n",
       "    <tr>\n",
       "      <th>13059</th>\n",
       "      <td>1891</td>\n",
       "      <td>iPhone 5</td>\n",
       "      <td>It fits the larger iPhone 5</td>\n",
       "      <td>Should I get the iPhone 5 or an Android</td>\n",
       "      <td>(0, 5)</td>\n",
       "      <td>It/O/PRP/B-NP/O fits/O/VBZ/B-VP/O the/O/DT/B-N...</td>\n",
       "      <td>Should/O/UH/O/O I/O/PRP/B-NP/O get/O/VBP/B-VP/...</td>\n",
       "    </tr>\n",
       "    <tr>\n",
       "      <th>13060</th>\n",
       "      <td>1891</td>\n",
       "      <td>iPhone 5</td>\n",
       "      <td>It fits the larger iPhone 5</td>\n",
       "      <td>Somebody bring me an iPhone 5 charger to my work</td>\n",
       "      <td>(0, 5)</td>\n",
       "      <td>It/O/PRP/B-NP/O fits/O/VBZ/B-VP/O the/O/DT/B-N...</td>\n",
       "      <td>Somebody/O/NN/B-NP/O bring/O/VB/B-VP/B-EVENT m...</td>\n",
       "    </tr>\n",
       "    <tr>\n",
       "      <th>13061</th>\n",
       "      <td>1891</td>\n",
       "      <td>iPhone 5</td>\n",
       "      <td>It fits the larger iPhone 5</td>\n",
       "      <td>Unlocked iPhone 5 300 hit me</td>\n",
       "      <td>(0, 5)</td>\n",
       "      <td>It/O/PRP/B-NP/O fits/O/VBZ/B-VP/O the/O/DT/B-N...</td>\n",
       "      <td>Unlocked/O/NNP/B-NP/O iPhone/O/NNP/I-NP/O 5/O/...</td>\n",
       "    </tr>\n",
       "    <tr>\n",
       "      <th>13062</th>\n",
       "      <td>1891</td>\n",
       "      <td>iPhone 5</td>\n",
       "      <td>It fits the larger iPhone 5</td>\n",
       "      <td>if you have an iPhone 5 guess what WE FINALLY ...</td>\n",
       "      <td>(0, 5)</td>\n",
       "      <td>It/O/PRP/B-NP/O fits/O/VBZ/B-VP/O the/O/DT/B-N...</td>\n",
       "      <td>if/O/IN/B-SBAR/O you/O/PRP/B-NP/O have/O/VBP/B...</td>\n",
       "    </tr>\n",
       "  </tbody>\n",
       "</table>\n",
       "<p>13063 rows × 7 columns</p>\n",
       "</div>"
      ],
      "text/plain": [
       "       id_sentence1     theme                                 sentence1  \\\n",
       "0                 4    1st QB  EJ Manuel the 1st QB to go in this draft   \n",
       "1                 4    1st QB  EJ Manuel the 1st QB to go in this draft   \n",
       "2                 4    1st QB  EJ Manuel the 1st QB to go in this draft   \n",
       "3                 4    1st QB  EJ Manuel the 1st QB to go in this draft   \n",
       "4                 4    1st QB  EJ Manuel the 1st QB to go in this draft   \n",
       "...             ...       ...                                       ...   \n",
       "13058          1891  iPhone 5               It fits the larger iPhone 5   \n",
       "13059          1891  iPhone 5               It fits the larger iPhone 5   \n",
       "13060          1891  iPhone 5               It fits the larger iPhone 5   \n",
       "13061          1891  iPhone 5               It fits the larger iPhone 5   \n",
       "13062          1891  iPhone 5               It fits the larger iPhone 5   \n",
       "\n",
       "                                               sentence2   score  \\\n",
       "0      But my bro from the 757 EJ Manuel is the 1st Q...  (5, 0)   \n",
       "1      Can believe EJ Manuel went as the 1st QB in th...  (5, 0)   \n",
       "2                           EJ MANUEL IS THE 1ST QB what  (3, 2)   \n",
       "3                              EJ da 1st QB off da board  (2, 3)   \n",
       "4                    Manuel is the 1st QB to get drafted  (4, 1)   \n",
       "...                                                  ...     ...   \n",
       "13058  My brother thirsty for this iPhone 5 so ill gu...  (0, 5)   \n",
       "13059            Should I get the iPhone 5 or an Android  (0, 5)   \n",
       "13060   Somebody bring me an iPhone 5 charger to my work  (0, 5)   \n",
       "13061                       Unlocked iPhone 5 300 hit me  (0, 5)   \n",
       "13062  if you have an iPhone 5 guess what WE FINALLY ...  (0, 5)   \n",
       "\n",
       "                                                    pos1  \\\n",
       "0      EJ/B-person/NNP/B-NP/O Manuel/I-person/NNP/B-V...   \n",
       "1      EJ/B-person/NNP/B-NP/O Manuel/I-person/NNP/B-V...   \n",
       "2      EJ/B-person/NNP/B-NP/O Manuel/I-person/NNP/B-V...   \n",
       "3      EJ/B-person/NNP/B-NP/O Manuel/I-person/NNP/B-V...   \n",
       "4      EJ/B-person/NNP/B-NP/O Manuel/I-person/NNP/B-V...   \n",
       "...                                                  ...   \n",
       "13058  It/O/PRP/B-NP/O fits/O/VBZ/B-VP/O the/O/DT/B-N...   \n",
       "13059  It/O/PRP/B-NP/O fits/O/VBZ/B-VP/O the/O/DT/B-N...   \n",
       "13060  It/O/PRP/B-NP/O fits/O/VBZ/B-VP/O the/O/DT/B-N...   \n",
       "13061  It/O/PRP/B-NP/O fits/O/VBZ/B-VP/O the/O/DT/B-N...   \n",
       "13062  It/O/PRP/B-NP/O fits/O/VBZ/B-VP/O the/O/DT/B-N...   \n",
       "\n",
       "                                                    pos2  \n",
       "0      But/O/CC/O/O my/O/PRP$/B-NP/O bro/O/NN/I-NP/O ...  \n",
       "1      Can/O/MD/B-VP/O believe/O/VB/I-VP/B-EVENT EJ/B...  \n",
       "2      EJ/B-person/NNP/B-NP/O MANUEL/I-person/NNP/I-N...  \n",
       "3      EJ/O/NNP/B-NP/O da/O/DT/I-NP/O 1st/O/CD/I-NP/O...  \n",
       "4      Manuel/B-person/NNP/B-NP/O is/O/VBZ/B-VP/O the...  \n",
       "...                                                  ...  \n",
       "13058  My/O/PRP$/B-NP/O brother/O/NN/I-NP/O thirsty/O...  \n",
       "13059  Should/O/UH/O/O I/O/PRP/B-NP/O get/O/VBP/B-VP/...  \n",
       "13060  Somebody/O/NN/B-NP/O bring/O/VB/B-VP/B-EVENT m...  \n",
       "13061  Unlocked/O/NNP/B-NP/O iPhone/O/NNP/I-NP/O 5/O/...  \n",
       "13062  if/O/IN/B-SBAR/O you/O/PRP/B-NP/O have/O/VBP/B...  \n",
       "\n",
       "[13063 rows x 7 columns]"
      ]
     },
     "execution_count": 67,
     "metadata": {},
     "output_type": "execute_result"
    }
   ],
   "source": [
    "df"
   ]
  },
  {
   "cell_type": "code",
   "execution_count": 72,
   "metadata": {
    "ExecuteTime": {
     "end_time": "2021-03-11T06:15:39.212039Z",
     "start_time": "2021-03-11T06:15:39.197463Z"
    },
    "hidden": true
   },
   "outputs": [],
   "source": [
    "df = df[df['score'].map(lambda x: int(x[1])>3)]"
   ]
  },
  {
   "cell_type": "code",
   "execution_count": 76,
   "metadata": {
    "ExecuteTime": {
     "end_time": "2021-03-11T06:17:37.215557Z",
     "start_time": "2021-03-11T06:17:37.197533Z"
    },
    "hidden": true
   },
   "outputs": [
    {
     "data": {
      "text/html": [
       "<div>\n",
       "<style scoped>\n",
       "    .dataframe tbody tr th:only-of-type {\n",
       "        vertical-align: middle;\n",
       "    }\n",
       "\n",
       "    .dataframe tbody tr th {\n",
       "        vertical-align: top;\n",
       "    }\n",
       "\n",
       "    .dataframe thead th {\n",
       "        text-align: right;\n",
       "    }\n",
       "</style>\n",
       "<table border=\"1\" class=\"dataframe\">\n",
       "  <thead>\n",
       "    <tr style=\"text-align: right;\">\n",
       "      <th></th>\n",
       "      <th>id_sentence1</th>\n",
       "      <th>theme</th>\n",
       "      <th>sentence1</th>\n",
       "      <th>sentence2</th>\n",
       "      <th>score</th>\n",
       "      <th>pos1</th>\n",
       "      <th>pos2</th>\n",
       "    </tr>\n",
       "  </thead>\n",
       "  <tbody>\n",
       "    <tr>\n",
       "      <th>0</th>\n",
       "      <td>4</td>\n",
       "      <td>1st QB</td>\n",
       "      <td>EJ Manuel the 1st QB to go in this draft</td>\n",
       "      <td>But my bro from the 757 EJ Manuel is the 1st Q...</td>\n",
       "      <td>(5, 0)</td>\n",
       "      <td>EJ/B-person/NNP/B-NP/O Manuel/I-person/NNP/B-V...</td>\n",
       "      <td>But/O/CC/O/O my/O/PRP$/B-NP/O bro/O/NN/I-NP/O ...</td>\n",
       "    </tr>\n",
       "    <tr>\n",
       "      <th>1</th>\n",
       "      <td>4</td>\n",
       "      <td>1st QB</td>\n",
       "      <td>EJ Manuel the 1st QB to go in this draft</td>\n",
       "      <td>Can believe EJ Manuel went as the 1st QB in th...</td>\n",
       "      <td>(5, 0)</td>\n",
       "      <td>EJ/B-person/NNP/B-NP/O Manuel/I-person/NNP/B-V...</td>\n",
       "      <td>Can/O/MD/B-VP/O believe/O/VB/I-VP/B-EVENT EJ/B...</td>\n",
       "    </tr>\n",
       "    <tr>\n",
       "      <th>4</th>\n",
       "      <td>4</td>\n",
       "      <td>1st QB</td>\n",
       "      <td>EJ Manuel the 1st QB to go in this draft</td>\n",
       "      <td>Manuel is the 1st QB to get drafted</td>\n",
       "      <td>(4, 1)</td>\n",
       "      <td>EJ/B-person/NNP/B-NP/O Manuel/I-person/NNP/B-V...</td>\n",
       "      <td>Manuel/B-person/NNP/B-NP/O is/O/VBZ/B-VP/O the...</td>\n",
       "    </tr>\n",
       "    <tr>\n",
       "      <th>5</th>\n",
       "      <td>4</td>\n",
       "      <td>1st QB</td>\n",
       "      <td>EJ Manuel the 1st QB to go in this draft</td>\n",
       "      <td>My boy EJ Manuel being the 1st QB picked</td>\n",
       "      <td>(5, 0)</td>\n",
       "      <td>EJ/B-person/NNP/B-NP/O Manuel/I-person/NNP/B-V...</td>\n",
       "      <td>My/O/PRP$/B-NP/O boy/O/NN/I-NP/O EJ/B-person/N...</td>\n",
       "    </tr>\n",
       "    <tr>\n",
       "      <th>6</th>\n",
       "      <td>4</td>\n",
       "      <td>1st QB</td>\n",
       "      <td>EJ Manuel the 1st QB to go in this draft</td>\n",
       "      <td>Not surprised EJ Manuel was 1st QB taken</td>\n",
       "      <td>(5, 0)</td>\n",
       "      <td>EJ/B-person/NNP/B-NP/O Manuel/I-person/NNP/B-V...</td>\n",
       "      <td>Not/O/RB/B-NP/O surprised/O/VBN/I-NP/B-EVENT E...</td>\n",
       "    </tr>\n",
       "    <tr>\n",
       "      <th>...</th>\n",
       "      <td>...</td>\n",
       "      <td>...</td>\n",
       "      <td>...</td>\n",
       "      <td>...</td>\n",
       "      <td>...</td>\n",
       "      <td>...</td>\n",
       "      <td>...</td>\n",
       "    </tr>\n",
       "    <tr>\n",
       "      <th>450</th>\n",
       "      <td>99</td>\n",
       "      <td>Anibal Sanchez</td>\n",
       "      <td>17 strikeouts tonight for Anibal Sanchez tonight</td>\n",
       "      <td>Anibal Sanchez has just set the club record fo...</td>\n",
       "      <td>(5, 0)</td>\n",
       "      <td>17/O/LS/B-NP/O strikeouts/O/NN/I-NP/B-EVENT to...</td>\n",
       "      <td>Anibal/B-person/NNP/B-NP/O Sanchez/I-person/NN...</td>\n",
       "    </tr>\n",
       "    <tr>\n",
       "      <th>454</th>\n",
       "      <td>99</td>\n",
       "      <td>Anibal Sanchez</td>\n",
       "      <td>17 strikeouts tonight for Anibal Sanchez tonight</td>\n",
       "      <td>Anibal Sanchez sets the franchise record with ...</td>\n",
       "      <td>(5, 0)</td>\n",
       "      <td>17/O/LS/B-NP/O strikeouts/O/NN/I-NP/B-EVENT to...</td>\n",
       "      <td>Anibal/B-person/NNP/B-NP/O Sanchez/I-person/NN...</td>\n",
       "    </tr>\n",
       "    <tr>\n",
       "      <th>456</th>\n",
       "      <td>99</td>\n",
       "      <td>Anibal Sanchez</td>\n",
       "      <td>17 strikeouts tonight for Anibal Sanchez tonight</td>\n",
       "      <td>How bout anibal Sanchez with 17 strikeouts</td>\n",
       "      <td>(5, 0)</td>\n",
       "      <td>17/O/LS/B-NP/O strikeouts/O/NN/I-NP/B-EVENT to...</td>\n",
       "      <td>How/O/WRB/B-ADVP/O bout/O/RP/O/O anibal/B-pers...</td>\n",
       "    </tr>\n",
       "    <tr>\n",
       "      <th>459</th>\n",
       "      <td>99</td>\n",
       "      <td>Anibal Sanchez</td>\n",
       "      <td>17 strikeouts tonight for Anibal Sanchez tonight</td>\n",
       "      <td>Tigers 10 Braves 0 Anibal Sanchez strikes out ...</td>\n",
       "      <td>(5, 0)</td>\n",
       "      <td>17/O/LS/B-NP/O strikeouts/O/NN/I-NP/B-EVENT to...</td>\n",
       "      <td>Tigers/B-other/NNP/B-NP/O 10/I-other/CD/I-NP/O...</td>\n",
       "    </tr>\n",
       "    <tr>\n",
       "      <th>462</th>\n",
       "      <td>99</td>\n",
       "      <td>Anibal Sanchez</td>\n",
       "      <td>17 Ks a franchise record for Anibal Sanchez</td>\n",
       "      <td>Anibal Sanchez has set the Tigers franchise re...</td>\n",
       "      <td>(4, 1)</td>\n",
       "      <td>17/O/LS/B-NP/O Ks/O/VBD/B-VP/B-EVENT a/O/DT/B-...</td>\n",
       "      <td>Anibal/B-person/NNP/B-NP/O Sanchez/I-person/NN...</td>\n",
       "    </tr>\n",
       "  </tbody>\n",
       "</table>\n",
       "<p>100 rows × 7 columns</p>\n",
       "</div>"
      ],
      "text/plain": [
       "     id_sentence1           theme  \\\n",
       "0               4          1st QB   \n",
       "1               4          1st QB   \n",
       "4               4          1st QB   \n",
       "5               4          1st QB   \n",
       "6               4          1st QB   \n",
       "..            ...             ...   \n",
       "450            99  Anibal Sanchez   \n",
       "454            99  Anibal Sanchez   \n",
       "456            99  Anibal Sanchez   \n",
       "459            99  Anibal Sanchez   \n",
       "462            99  Anibal Sanchez   \n",
       "\n",
       "                                            sentence1  \\\n",
       "0            EJ Manuel the 1st QB to go in this draft   \n",
       "1            EJ Manuel the 1st QB to go in this draft   \n",
       "4            EJ Manuel the 1st QB to go in this draft   \n",
       "5            EJ Manuel the 1st QB to go in this draft   \n",
       "6            EJ Manuel the 1st QB to go in this draft   \n",
       "..                                                ...   \n",
       "450  17 strikeouts tonight for Anibal Sanchez tonight   \n",
       "454  17 strikeouts tonight for Anibal Sanchez tonight   \n",
       "456  17 strikeouts tonight for Anibal Sanchez tonight   \n",
       "459  17 strikeouts tonight for Anibal Sanchez tonight   \n",
       "462       17 Ks a franchise record for Anibal Sanchez   \n",
       "\n",
       "                                             sentence2   score  \\\n",
       "0    But my bro from the 757 EJ Manuel is the 1st Q...  (5, 0)   \n",
       "1    Can believe EJ Manuel went as the 1st QB in th...  (5, 0)   \n",
       "4                  Manuel is the 1st QB to get drafted  (4, 1)   \n",
       "5             My boy EJ Manuel being the 1st QB picked  (5, 0)   \n",
       "6             Not surprised EJ Manuel was 1st QB taken  (5, 0)   \n",
       "..                                                 ...     ...   \n",
       "450  Anibal Sanchez has just set the club record fo...  (5, 0)   \n",
       "454  Anibal Sanchez sets the franchise record with ...  (5, 0)   \n",
       "456         How bout anibal Sanchez with 17 strikeouts  (5, 0)   \n",
       "459  Tigers 10 Braves 0 Anibal Sanchez strikes out ...  (5, 0)   \n",
       "462  Anibal Sanchez has set the Tigers franchise re...  (4, 1)   \n",
       "\n",
       "                                                  pos1  \\\n",
       "0    EJ/B-person/NNP/B-NP/O Manuel/I-person/NNP/B-V...   \n",
       "1    EJ/B-person/NNP/B-NP/O Manuel/I-person/NNP/B-V...   \n",
       "4    EJ/B-person/NNP/B-NP/O Manuel/I-person/NNP/B-V...   \n",
       "5    EJ/B-person/NNP/B-NP/O Manuel/I-person/NNP/B-V...   \n",
       "6    EJ/B-person/NNP/B-NP/O Manuel/I-person/NNP/B-V...   \n",
       "..                                                 ...   \n",
       "450  17/O/LS/B-NP/O strikeouts/O/NN/I-NP/B-EVENT to...   \n",
       "454  17/O/LS/B-NP/O strikeouts/O/NN/I-NP/B-EVENT to...   \n",
       "456  17/O/LS/B-NP/O strikeouts/O/NN/I-NP/B-EVENT to...   \n",
       "459  17/O/LS/B-NP/O strikeouts/O/NN/I-NP/B-EVENT to...   \n",
       "462  17/O/LS/B-NP/O Ks/O/VBD/B-VP/B-EVENT a/O/DT/B-...   \n",
       "\n",
       "                                                  pos2  \n",
       "0    But/O/CC/O/O my/O/PRP$/B-NP/O bro/O/NN/I-NP/O ...  \n",
       "1    Can/O/MD/B-VP/O believe/O/VB/I-VP/B-EVENT EJ/B...  \n",
       "4    Manuel/B-person/NNP/B-NP/O is/O/VBZ/B-VP/O the...  \n",
       "5    My/O/PRP$/B-NP/O boy/O/NN/I-NP/O EJ/B-person/N...  \n",
       "6    Not/O/RB/B-NP/O surprised/O/VBN/I-NP/B-EVENT E...  \n",
       "..                                                 ...  \n",
       "450  Anibal/B-person/NNP/B-NP/O Sanchez/I-person/NN...  \n",
       "454  Anibal/B-person/NNP/B-NP/O Sanchez/I-person/NN...  \n",
       "456  How/O/WRB/B-ADVP/O bout/O/RP/O/O anibal/B-pers...  \n",
       "459  Tigers/B-other/NNP/B-NP/O 10/I-other/CD/I-NP/O...  \n",
       "462  Anibal/B-person/NNP/B-NP/O Sanchez/I-person/NN...  \n",
       "\n",
       "[100 rows x 7 columns]"
      ]
     },
     "execution_count": 76,
     "metadata": {},
     "output_type": "execute_result"
    }
   ],
   "source": [
    "df.iloc[:100]"
   ]
  },
  {
   "cell_type": "code",
   "execution_count": 77,
   "metadata": {
    "ExecuteTime": {
     "end_time": "2021-03-11T06:19:03.055253Z",
     "start_time": "2021-03-11T06:19:03.024554Z"
    },
    "hidden": true
   },
   "outputs": [
    {
     "name": "stdout",
     "output_type": "stream",
     "text": [
      "(4, 1)\n",
      "Anibal Sanchez 17 strikeouts bad ass\n",
      "Anibal Sanchez is a strikeout machine tonight\n",
      "\n",
      "\n",
      "(4, 1)\n",
      "Anibal Sanchez 17 strikeouts bad ass\n",
      "Anibal Sanchez leaves the 8th inning with career high 17 Ks and franchise record\n",
      "\n",
      "\n",
      "(4, 1)\n",
      "Anibal Sanchez 17 strikeouts bad ass\n",
      "anibal sanchez tigers record 17 Wow\n",
      "\n",
      "\n",
      "(4, 1)\n",
      "17 fucking strikeouts for Anibal Sanchez\n",
      "Anibal Sanchez sets the franchise record with 17 Ks in a 9inning game\n",
      "\n",
      "\n",
      "(4, 1)\n",
      "17 fucking strikeouts for Anibal Sanchez\n",
      "Anibal Sanchez struck out 17 in eight marvelous innings vs\n",
      "\n",
      "\n",
      "(5, 0)\n",
      "17 fucking strikeouts for Anibal Sanchez\n",
      "Anibal Sanchez struck out 17 tonight\n",
      "\n",
      "\n",
      "(4, 1)\n",
      "17 fucking strikeouts for Anibal Sanchez\n",
      "anibal Sanchez has 17 K s in 8 innings\n",
      "\n",
      "\n",
      "(5, 0)\n",
      "17 strikeouts tonight for Anibal Sanchez tonight\n",
      "Anibal Sanchez has just set the club record for strikeouts in a game with 17\n",
      "\n",
      "\n",
      "(5, 0)\n",
      "17 strikeouts tonight for Anibal Sanchez tonight\n",
      "Anibal Sanchez sets the franchise record with 17 Ks in a 9inning game\n",
      "\n",
      "\n",
      "(5, 0)\n",
      "17 strikeouts tonight for Anibal Sanchez tonight\n",
      "How bout anibal Sanchez with 17 strikeouts\n",
      "\n",
      "\n",
      "(5, 0)\n",
      "17 strikeouts tonight for Anibal Sanchez tonight\n",
      "Tigers 10 Braves 0 Anibal Sanchez strikes out 17 in 8 innings\n",
      "\n",
      "\n",
      "(4, 1)\n",
      "17 Ks a franchise record for Anibal Sanchez\n",
      "Anibal Sanchez has set the Tigers franchise record with 17 Ks tonight\n",
      "\n",
      "\n",
      "(4, 1)\n",
      "anibal sanchez tigers record 17 Wow\n",
      "Anibal Sanchez 17 k s through 8\n",
      "\n",
      "\n",
      "(5, 0)\n",
      "anibal sanchez tigers record 17 Wow\n",
      "Anibal Sanchez has 17 strikeouts through 8 innings for the Tigers\n",
      "\n",
      "\n",
      "(4, 1)\n",
      "anibal sanchez tigers record 17 Wow\n",
      "Anibal Sanchez struck the Braves out 17 times\n",
      "\n",
      "\n",
      "(4, 1)\n",
      "Anibal Sanchez with 17 K s in 8 innings tonight\n",
      "Anibal Sanchez has 17 K for the Tigers a record for K in a game\n",
      "\n",
      "\n",
      "(4, 1)\n",
      "Anibal Sanchez with 17 K s in 8 innings tonight\n",
      "Anibal Sanchez is knocking on the door with 17\n",
      "\n",
      "\n",
      "(4, 1)\n",
      "Anibal Sanchez with 17 K s in 8 innings tonight\n",
      "Anibal Sanchez w careerhigh 17 K s vs\n",
      "\n",
      "\n",
      "(4, 1)\n",
      "Anibal Sanchez with 17 K s in 8 innings tonight\n",
      "Holy shit Anibal Sanchez has struck out 17 hitters threw 8 innings\n",
      "\n",
      "\n",
      "(4, 1)\n",
      "Anibal Sanchez with 17 K s in 8 innings tonight\n",
      "So the Tigers Anibal Sanchez has 17 Ks through eight innings\n",
      "\n",
      "\n",
      "(5, 0)\n",
      "Anibal Sanchez with 17 K s in 8 innings tonight\n",
      "Wow Anibal Sanchez with 17 strikeouts for the Tigers through 8 innings\n",
      "\n",
      "\n",
      "(4, 1)\n",
      "Anibal Sanchez is a strikeout machine tonight\n",
      "Anibal Sanchez is throwing a Jem too\n",
      "\n",
      "\n",
      "(5, 0)\n",
      "Anibal Sanchez has 17 K for the Tigers a franchise record for K in a game\n",
      "Anibal Sanchez sets the franchise record with 17 Ks in a 9inning game\n",
      "\n",
      "\n",
      "(5, 0)\n",
      "Anibal Sanchez struck out 17 tonight\n",
      "Anibal Sanchez K s 17 thus far\n",
      "\n",
      "\n",
      "(5, 0)\n",
      "Anibal Sanchez struck out 17 tonight\n",
      "Just saw that Anibal Sanchez has 17 Ks Hot damn\n",
      "\n",
      "\n",
      "(5, 0)\n",
      "Anibal Sanchez struck out 17 tonight\n",
      "KKKKKKKKKKKKKKKKK Anibal Sanchez with 17 K s Well done\n",
      "\n",
      "\n",
      "(5, 0)\n",
      "17 strikeouts for Anibal Sanchez through 8 innings\n",
      "17 Ks for Anibal Sanchez through 8 tonight\n",
      "\n",
      "\n",
      "(5, 0)\n",
      "17 strikeouts for Anibal Sanchez through 8 innings\n",
      "Anibal Sanchez 17 strikeouts tonight against the Braves\n",
      "\n",
      "\n",
      "(4, 1)\n",
      "17 strikeouts for Anibal Sanchez through 8 innings\n",
      "Anibal Sanchez K s 17 thus far\n",
      "\n",
      "\n",
      "(5, 0)\n",
      "17 strikeouts for Anibal Sanchez through 8 innings\n",
      "Anibal Sanchez has struck out 17 batters in 8 innings\n",
      "\n",
      "\n",
      "(5, 0)\n",
      "17 strikeouts for Anibal Sanchez through 8 innings\n",
      "Wait youre telling me anibal sanchez had 17 K s against the braves\n",
      "\n",
      "\n",
      "(5, 0)\n",
      "17 strikeouts for Anibal Sanchez through 8 innings\n",
      "starting pitcher Anibal Sanchez has 17 strikeouts so far\n",
      "\n",
      "\n"
     ]
    }
   ],
   "source": [
    "for i, row in df[df['id_sentence1']==99].iterrows():\n",
    "    print(row['score'])\n",
    "    print(row['sentence1'])\n",
    "    print(row['sentence2'])\n",
    "    print(\"\\n\")"
   ]
  },
  {
   "cell_type": "markdown",
   "metadata": {},
   "source": [
    "# Combine and final preparations "
   ]
  },
  {
   "cell_type": "code",
   "execution_count": 2,
   "metadata": {
    "ExecuteTime": {
     "end_time": "2021-05-10T11:35:43.716138Z",
     "start_time": "2021-05-10T11:35:43.343142Z"
    }
   },
   "outputs": [],
   "source": [
    "quora = pd.read_csv(\"data/prepared_datasets/quora_splitted.csv\", index_col=0)\n",
    "#paws = pd.read_csv(\"data/prepared_datasets/paws.csv\", index_col=0)\n",
    "#paws_noisy = pd.read_csv(\"data/prepared_datasets/paws_noisy.csv\", index_col=0)\n",
    "mpc = pd.read_csv(\"data/prepared_datasets/mpc.csv\", index_col=0)\n",
    "subs = pd.read_csv(\"data/prepared_datasets/subs_splitted.csv\", index_col=0)"
   ]
  },
  {
   "cell_type": "markdown",
   "metadata": {},
   "source": [
    "### Make proper input"
   ]
  },
  {
   "cell_type": "code",
   "execution_count": 95,
   "metadata": {
    "ExecuteTime": {
     "end_time": "2021-05-22T14:13:38.922155Z",
     "start_time": "2021-05-22T14:13:38.919166Z"
    }
   },
   "outputs": [],
   "source": [
    "bos_token='<|startoftext|>'\n",
    "eos_token='<|endoftext|>'\n",
    "pad_token='<|pad|>'\n",
    "sep_token='<|sep|>'"
   ]
  },
  {
   "cell_type": "code",
   "execution_count": 133,
   "metadata": {
    "ExecuteTime": {
     "end_time": "2021-05-22T19:57:31.189686Z",
     "start_time": "2021-05-22T19:57:31.186642Z"
    }
   },
   "outputs": [],
   "source": [
    "def make_input(sentence1, sentence2, bos='<|startoftext|>', \n",
    "               eos='<|endoftext|>', sep='<|sep|>'):\n",
    "    return bos+sentence1.strip()+sep+sentence2.strip()+eos"
   ]
  },
  {
   "cell_type": "code",
   "execution_count": 135,
   "metadata": {
    "ExecuteTime": {
     "end_time": "2021-05-22T19:57:41.672772Z",
     "start_time": "2021-05-22T19:57:41.667886Z"
    }
   },
   "outputs": [
    {
     "data": {
      "text/plain": [
       "'<|startoftext|>fdsfsd  dsfs<|sep|>fds sdaf safsf<|endoftext|>'"
      ]
     },
     "execution_count": 135,
     "metadata": {},
     "output_type": "execute_result"
    }
   ],
   "source": [
    "make_input(*[\"fdsfsd  dsfs \", \" fds sdaf safsf\\n\"])"
   ]
  },
  {
   "cell_type": "markdown",
   "metadata": {},
   "source": [
    "### Cut with length"
   ]
  },
  {
   "cell_type": "code",
   "execution_count": 98,
   "metadata": {
    "ExecuteTime": {
     "end_time": "2021-05-22T14:13:49.426915Z",
     "start_time": "2021-05-22T14:13:43.284175Z"
    }
   },
   "outputs": [
    {
     "data": {
      "application/vnd.jupyter.widget-view+json": {
       "model_id": "056e72c9370b4578bbb35765e333ed07",
       "version_major": 2,
       "version_minor": 0
      },
      "text/plain": [
       "HBox(children=(FloatProgress(value=0.0, description='Downloading', max=1042301.0, style=ProgressStyle(descript…"
      ]
     },
     "metadata": {},
     "output_type": "display_data"
    },
    {
     "name": "stdout",
     "output_type": "stream",
     "text": [
      "\n"
     ]
    },
    {
     "data": {
      "application/vnd.jupyter.widget-view+json": {
       "model_id": "bba6052655e2422a97d0a471ee670bf8",
       "version_major": 2,
       "version_minor": 0
      },
      "text/plain": [
       "HBox(children=(FloatProgress(value=0.0, description='Downloading', max=456318.0, style=ProgressStyle(descripti…"
      ]
     },
     "metadata": {},
     "output_type": "display_data"
    },
    {
     "name": "stdout",
     "output_type": "stream",
     "text": [
      "\n"
     ]
    }
   ],
   "source": [
    "from transformers import GPT2Tokenizer\n",
    "\n",
    "tokenizer = GPT2Tokenizer.from_pretrained('gpt2', \n",
    "                                          bos_token='<|startoftext|>', \n",
    "                                          eos_token='<|endoftext|>', \n",
    "                                          pad_token='<|pad|>',\n",
    "                                          sep_token='<|sep|>'\n",
    "                                          )"
   ]
  },
  {
   "cell_type": "code",
   "execution_count": 99,
   "metadata": {
    "ExecuteTime": {
     "end_time": "2021-05-22T14:13:49.431772Z",
     "start_time": "2021-05-22T14:13:49.428935Z"
    }
   },
   "outputs": [],
   "source": [
    "def get_max_length(list_of_pairs):\n",
    "    lens = []\n",
    "    for x in tqdm_notebook(list_of_pairs):\n",
    "        lens.append(len(tokenizer.encode(make_input(*x))))\n",
    "    return lens"
   ]
  },
  {
   "cell_type": "code",
   "execution_count": 11,
   "metadata": {
    "ExecuteTime": {
     "end_time": "2021-02-17T20:30:38.829466Z",
     "start_time": "2021-02-17T20:30:36.055139Z"
    }
   },
   "outputs": [
    {
     "data": {
      "application/vnd.jupyter.widget-view+json": {
       "model_id": "ca0114cde6ff4c86be9f72c1973d58f3",
       "version_major": 2,
       "version_minor": 0
      },
      "text/plain": [
       "HBox(children=(FloatProgress(value=0.0, max=5297.0), HTML(value='')))"
      ]
     },
     "metadata": {},
     "output_type": "display_data"
    },
    {
     "name": "stdout",
     "output_type": "stream",
     "text": [
      "\n"
     ]
    }
   ],
   "source": [
    "lens = get_max_length(mpc.to_numpy())\n",
    "if len([x for x in lens if x<512]) < len(mpc):\n",
    "    mpc.iloc[[x<512 for x in lens]].to_csv(\"data/prepared_datasets/mpc.csv\")"
   ]
  },
  {
   "cell_type": "code",
   "execution_count": 13,
   "metadata": {
    "ExecuteTime": {
     "end_time": "2021-02-17T20:31:28.488308Z",
     "start_time": "2021-02-17T20:31:08.992136Z"
    }
   },
   "outputs": [
    {
     "data": {
      "application/vnd.jupyter.widget-view+json": {
       "model_id": "a25b82a8284f43b2bd91710e045d6c8e",
       "version_major": 2,
       "version_minor": 0
      },
      "text/plain": [
       "HBox(children=(FloatProgress(value=0.0, max=31834.0), HTML(value='')))"
      ]
     },
     "metadata": {},
     "output_type": "display_data"
    },
    {
     "name": "stdout",
     "output_type": "stream",
     "text": [
      "\n"
     ]
    },
    {
     "data": {
      "text/plain": [
       "31834"
      ]
     },
     "execution_count": 13,
     "metadata": {},
     "output_type": "execute_result"
    }
   ],
   "source": [
    "lens = get_max_length(paws.to_numpy())\n",
    "len([x for x in lens if x<512])"
   ]
  },
  {
   "cell_type": "code",
   "execution_count": 14,
   "metadata": {
    "ExecuteTime": {
     "end_time": "2021-02-17T20:34:01.840036Z",
     "start_time": "2021-02-17T20:31:28.491231Z"
    }
   },
   "outputs": [
    {
     "data": {
      "application/vnd.jupyter.widget-view+json": {
       "model_id": "4b3bc5bd2f76468ea2acadfba46cb17a",
       "version_major": 2,
       "version_minor": 0
      },
      "text/plain": [
       "HBox(children=(FloatProgress(value=0.0, max=327826.0), HTML(value='')))"
      ]
     },
     "metadata": {},
     "output_type": "display_data"
    },
    {
     "name": "stdout",
     "output_type": "stream",
     "text": [
      "\n"
     ]
    },
    {
     "data": {
      "text/plain": [
       "327826"
      ]
     },
     "execution_count": 14,
     "metadata": {},
     "output_type": "execute_result"
    }
   ],
   "source": [
    "lens = get_max_length(paws_noisy.to_numpy())\n",
    "len([x for x in lens if x<512])"
   ]
  },
  {
   "cell_type": "code",
   "execution_count": 15,
   "metadata": {
    "ExecuteTime": {
     "end_time": "2021-02-17T20:34:40.675335Z",
     "start_time": "2021-02-17T20:34:01.842145Z"
    }
   },
   "outputs": [
    {
     "data": {
      "application/vnd.jupyter.widget-view+json": {
       "model_id": "1cd08e3c1fff4ccfbfd40521c3bd9ef7",
       "version_major": 2,
       "version_minor": 0
      },
      "text/plain": [
       "HBox(children=(FloatProgress(value=0.0, max=149263.0), HTML(value='')))"
      ]
     },
     "metadata": {},
     "output_type": "display_data"
    },
    {
     "name": "stdout",
     "output_type": "stream",
     "text": [
      "\n"
     ]
    },
    {
     "data": {
      "text/plain": [
       "149263"
      ]
     },
     "execution_count": 15,
     "metadata": {},
     "output_type": "execute_result"
    }
   ],
   "source": [
    "lens = get_max_length(quora.to_numpy())\n",
    "len([x for x in lens if x<512])"
   ]
  },
  {
   "cell_type": "code",
   "execution_count": 75,
   "metadata": {
    "ExecuteTime": {
     "end_time": "2021-02-17T20:10:33.281751Z",
     "start_time": "2021-02-17T20:10:33.269409Z"
    }
   },
   "outputs": [
    {
     "data": {
      "text/html": [
       "<div>\n",
       "<style scoped>\n",
       "    .dataframe tbody tr th:only-of-type {\n",
       "        vertical-align: middle;\n",
       "    }\n",
       "\n",
       "    .dataframe tbody tr th {\n",
       "        vertical-align: top;\n",
       "    }\n",
       "\n",
       "    .dataframe thead th {\n",
       "        text-align: right;\n",
       "    }\n",
       "</style>\n",
       "<table border=\"1\" class=\"dataframe\">\n",
       "  <thead>\n",
       "    <tr style=\"text-align: right;\">\n",
       "      <th></th>\n",
       "      <th>id</th>\n",
       "      <th>sentence1</th>\n",
       "      <th>sentence2</th>\n",
       "      <th>label</th>\n",
       "      <th>noisy_label</th>\n",
       "    </tr>\n",
       "  </thead>\n",
       "  <tbody>\n",
       "    <tr>\n",
       "      <th>0</th>\n",
       "      <td>1</td>\n",
       "      <td>`` B. i. seychellarum '' is smaller and shorte...</td>\n",
       "      <td>`` B. i. seychellarum '' is smaller and shorte...</td>\n",
       "      <td>False</td>\n",
       "      <td>False</td>\n",
       "    </tr>\n",
       "    <tr>\n",
       "      <th>1</th>\n",
       "      <td>2</td>\n",
       "      <td>Menna is a hamlet in the parish of Lanivet , E...</td>\n",
       "      <td>Menna is a hamlet in the parish of Ladock , Co...</td>\n",
       "      <td>False</td>\n",
       "      <td>False</td>\n",
       "    </tr>\n",
       "    <tr>\n",
       "      <th>2</th>\n",
       "      <td>3</td>\n",
       "      <td>The Liberal Party regained South Coast but los...</td>\n",
       "      <td>The Liberal Party lost South Coast but regaine...</td>\n",
       "      <td>False</td>\n",
       "      <td>False</td>\n",
       "    </tr>\n",
       "    <tr>\n",
       "      <th>3</th>\n",
       "      <td>4</td>\n",
       "      <td>The CD of 12 original Florida Style music cont...</td>\n",
       "      <td>The CD of 12 original Florida Style music cont...</td>\n",
       "      <td>False</td>\n",
       "      <td>False</td>\n",
       "    </tr>\n",
       "    <tr>\n",
       "      <th>4</th>\n",
       "      <td>5</td>\n",
       "      <td>Unlike gravity or electrical forces , the nucl...</td>\n",
       "      <td>Unlike gravity or nuclear forces , the electri...</td>\n",
       "      <td>False</td>\n",
       "      <td>False</td>\n",
       "    </tr>\n",
       "  </tbody>\n",
       "</table>\n",
       "</div>"
      ],
      "text/plain": [
       "   id                                          sentence1  \\\n",
       "0   1  `` B. i. seychellarum '' is smaller and shorte...   \n",
       "1   2  Menna is a hamlet in the parish of Lanivet , E...   \n",
       "2   3  The Liberal Party regained South Coast but los...   \n",
       "3   4  The CD of 12 original Florida Style music cont...   \n",
       "4   5  Unlike gravity or electrical forces , the nucl...   \n",
       "\n",
       "                                           sentence2  label  noisy_label  \n",
       "0  `` B. i. seychellarum '' is smaller and shorte...  False        False  \n",
       "1  Menna is a hamlet in the parish of Ladock , Co...  False        False  \n",
       "2  The Liberal Party lost South Coast but regaine...  False        False  \n",
       "3  The CD of 12 original Florida Style music cont...  False        False  \n",
       "4  Unlike gravity or nuclear forces , the electri...  False        False  "
      ]
     },
     "execution_count": 75,
     "metadata": {},
     "output_type": "execute_result"
    }
   ],
   "source": [
    "paws.head()"
   ]
  },
  {
   "cell_type": "markdown",
   "metadata": {},
   "source": [
    "## Create final txts"
   ]
  },
  {
   "cell_type": "markdown",
   "metadata": {},
   "source": [
    "### Pretraining"
   ]
  },
  {
   "cell_type": "code",
   "execution_count": 2,
   "metadata": {
    "ExecuteTime": {
     "end_time": "2021-02-21T10:44:19.456013Z",
     "start_time": "2021-02-21T10:44:19.449417Z"
    }
   },
   "outputs": [],
   "source": [
    "from pathlib import Path"
   ]
  },
  {
   "cell_type": "code",
   "execution_count": 7,
   "metadata": {
    "ExecuteTime": {
     "end_time": "2021-02-21T10:45:44.996986Z",
     "start_time": "2021-02-21T10:45:44.982638Z"
    }
   },
   "outputs": [
    {
     "data": {
      "text/plain": [
       "[PosixPath('data/prepared_datasets/quora_splitted.csv'),\n",
       " PosixPath('data/prepared_datasets/mpc.csv'),\n",
       " PosixPath('data/prepared_datasets/paws.csv'),\n",
       " PosixPath('data/prepared_datasets/paws_noisy.csv')]"
      ]
     },
     "execution_count": 7,
     "metadata": {},
     "output_type": "execute_result"
    }
   ],
   "source": [
    "list(Path(\"data/prepared_datasets/\").glob(\"*.csv\"))"
   ]
  },
  {
   "cell_type": "code",
   "execution_count": 31,
   "metadata": {
    "ExecuteTime": {
     "end_time": "2021-02-21T11:17:49.406858Z",
     "start_time": "2021-02-21T11:17:47.922194Z"
    }
   },
   "outputs": [],
   "source": [
    "df = pd.DataFrame()\n",
    "\n",
    "for x in Path(\"data/prepared_datasets/\").glob(\"*.csv\"):\n",
    "    if \"mpc\" not in str(x):\n",
    "        df = df.append(pd.read_csv(x)[['sentence1', 'sentence2']])"
   ]
  },
  {
   "cell_type": "code",
   "execution_count": 32,
   "metadata": {
    "ExecuteTime": {
     "end_time": "2021-02-21T11:17:49.421509Z",
     "start_time": "2021-02-21T11:17:49.409024Z"
    },
    "collapsed": true
   },
   "outputs": [
    {
     "data": {
      "text/html": [
       "<div>\n",
       "<style scoped>\n",
       "    .dataframe tbody tr th:only-of-type {\n",
       "        vertical-align: middle;\n",
       "    }\n",
       "\n",
       "    .dataframe tbody tr th {\n",
       "        vertical-align: top;\n",
       "    }\n",
       "\n",
       "    .dataframe thead th {\n",
       "        text-align: right;\n",
       "    }\n",
       "</style>\n",
       "<table border=\"1\" class=\"dataframe\">\n",
       "  <thead>\n",
       "    <tr style=\"text-align: right;\">\n",
       "      <th></th>\n",
       "      <th>sentence1</th>\n",
       "      <th>sentence2</th>\n",
       "    </tr>\n",
       "  </thead>\n",
       "  <tbody>\n",
       "    <tr>\n",
       "      <th>0</th>\n",
       "      <td>Astrology: I am a Capricorn Sun Cap moon and c...</td>\n",
       "      <td>I'm a triple Capricorn (Sun, Moon and ascendan...</td>\n",
       "    </tr>\n",
       "    <tr>\n",
       "      <th>1</th>\n",
       "      <td>How can I be a good geologist?</td>\n",
       "      <td>What should I do to be a great geologist?</td>\n",
       "    </tr>\n",
       "    <tr>\n",
       "      <th>2</th>\n",
       "      <td>How do I read and find my YouTube comments?</td>\n",
       "      <td>How can I see all my Youtube comments?</td>\n",
       "    </tr>\n",
       "    <tr>\n",
       "      <th>3</th>\n",
       "      <td>What can make Physics easy to learn?</td>\n",
       "      <td>How can you make physics easy to learn?</td>\n",
       "    </tr>\n",
       "    <tr>\n",
       "      <th>4</th>\n",
       "      <td>What was your first sexual experience like?</td>\n",
       "      <td>What was your first sexual experience?</td>\n",
       "    </tr>\n",
       "    <tr>\n",
       "      <th>...</th>\n",
       "      <td>...</td>\n",
       "      <td>...</td>\n",
       "    </tr>\n",
       "    <tr>\n",
       "      <th>327821</th>\n",
       "      <td>United States President Herbert Hoover lived i...</td>\n",
       "      <td>US President Herbert Hoover lived as a child i...</td>\n",
       "    </tr>\n",
       "    <tr>\n",
       "      <th>327822</th>\n",
       "      <td>The motto is Norman , the timbered hall is Eli...</td>\n",
       "      <td>The motte is Norman , the timbered hall is Eli...</td>\n",
       "    </tr>\n",
       "    <tr>\n",
       "      <th>327823</th>\n",
       "      <td>Maadhu observes the change in his regular acti...</td>\n",
       "      <td>Maadhu observes the change in his regular acti...</td>\n",
       "    </tr>\n",
       "    <tr>\n",
       "      <th>327824</th>\n",
       "      <td>In January 2018 , Morse Brown endorsed the nom...</td>\n",
       "      <td>In January 2018 , Morse endorsed Brown for the...</td>\n",
       "    </tr>\n",
       "    <tr>\n",
       "      <th>327825</th>\n",
       "      <td>For example , Chilean citizens and internation...</td>\n",
       "      <td>For example , Chilean citizens and internation...</td>\n",
       "    </tr>\n",
       "  </tbody>\n",
       "</table>\n",
       "<p>508923 rows × 2 columns</p>\n",
       "</div>"
      ],
      "text/plain": [
       "                                                sentence1  \\\n",
       "0       Astrology: I am a Capricorn Sun Cap moon and c...   \n",
       "1                          How can I be a good geologist?   \n",
       "2             How do I read and find my YouTube comments?   \n",
       "3                    What can make Physics easy to learn?   \n",
       "4             What was your first sexual experience like?   \n",
       "...                                                   ...   \n",
       "327821  United States President Herbert Hoover lived i...   \n",
       "327822  The motto is Norman , the timbered hall is Eli...   \n",
       "327823  Maadhu observes the change in his regular acti...   \n",
       "327824  In January 2018 , Morse Brown endorsed the nom...   \n",
       "327825  For example , Chilean citizens and internation...   \n",
       "\n",
       "                                                sentence2  \n",
       "0       I'm a triple Capricorn (Sun, Moon and ascendan...  \n",
       "1               What should I do to be a great geologist?  \n",
       "2                  How can I see all my Youtube comments?  \n",
       "3                 How can you make physics easy to learn?  \n",
       "4                  What was your first sexual experience?  \n",
       "...                                                   ...  \n",
       "327821  US President Herbert Hoover lived as a child i...  \n",
       "327822  The motte is Norman , the timbered hall is Eli...  \n",
       "327823  Maadhu observes the change in his regular acti...  \n",
       "327824  In January 2018 , Morse endorsed Brown for the...  \n",
       "327825  For example , Chilean citizens and internation...  \n",
       "\n",
       "[508923 rows x 2 columns]"
      ]
     },
     "execution_count": 32,
     "metadata": {},
     "output_type": "execute_result"
    }
   ],
   "source": [
    "df"
   ]
  },
  {
   "cell_type": "code",
   "execution_count": 39,
   "metadata": {
    "ExecuteTime": {
     "end_time": "2021-02-21T11:20:34.444275Z",
     "start_time": "2021-02-21T11:20:34.437662Z"
    }
   },
   "outputs": [],
   "source": [
    "import numpy as np"
   ]
  },
  {
   "cell_type": "code",
   "execution_count": 52,
   "metadata": {
    "ExecuteTime": {
     "end_time": "2021-02-21T11:33:30.304263Z",
     "start_time": "2021-02-21T11:30:53.255298Z"
    }
   },
   "outputs": [
    {
     "data": {
      "application/vnd.jupyter.widget-view+json": {
       "model_id": "55cb94e5cc664f67b1d93f150f1a5bc2",
       "version_major": 2,
       "version_minor": 0
      },
      "text/plain": [
       "HBox(children=(FloatProgress(value=0.0, max=508923.0), HTML(value='')))"
      ]
     },
     "metadata": {},
     "output_type": "display_data"
    },
    {
     "name": "stdout",
     "output_type": "stream",
     "text": [
      "\n",
      "All: 508923\n",
      "less than 512:  508923\n"
     ]
    }
   ],
   "source": [
    "final_df = [make_input(*x) for x in df.to_numpy()]\n",
    "np.random.shuffle(final_df)\n",
    "len_final_df = [len(tokenizer.encode(x)) for x in tqdm_notebook(final_df)]\n",
    "print(\"All:\",len(len_final_df))\n",
    "print(\"less than 512: \",len([x for x in len_final_df if x<512]))"
   ]
  },
  {
   "cell_type": "code",
   "execution_count": 54,
   "metadata": {
    "ExecuteTime": {
     "end_time": "2021-02-21T11:45:16.010175Z",
     "start_time": "2021-02-21T11:45:15.139770Z"
    }
   },
   "outputs": [],
   "source": [
    "final_df = np.array(final_df)"
   ]
  },
  {
   "cell_type": "code",
   "execution_count": 56,
   "metadata": {
    "ExecuteTime": {
     "end_time": "2021-02-21T12:04:06.676252Z",
     "start_time": "2021-02-21T12:04:05.816390Z"
    }
   },
   "outputs": [],
   "source": [
    "np.save(\"data/final_datasets/pretraining.npy\", final_df)"
   ]
  },
  {
   "cell_type": "markdown",
   "metadata": {},
   "source": [
    "### MPC"
   ]
  },
  {
   "cell_type": "code",
   "execution_count": 57,
   "metadata": {
    "ExecuteTime": {
     "end_time": "2021-02-21T12:05:03.766700Z",
     "start_time": "2021-02-21T12:05:03.726248Z"
    }
   },
   "outputs": [],
   "source": [
    "df = pd.read_csv(\"data/prepared_datasets/mpc.csv\", index_col=0)"
   ]
  },
  {
   "cell_type": "code",
   "execution_count": 59,
   "metadata": {
    "ExecuteTime": {
     "end_time": "2021-02-21T12:05:40.283650Z",
     "start_time": "2021-02-21T12:05:37.718189Z"
    }
   },
   "outputs": [
    {
     "data": {
      "application/vnd.jupyter.widget-view+json": {
       "model_id": "fd3a38323f564c608e84c458f0b270c4",
       "version_major": 2,
       "version_minor": 0
      },
      "text/plain": [
       "HBox(children=(FloatProgress(value=0.0, max=5282.0), HTML(value='')))"
      ]
     },
     "metadata": {},
     "output_type": "display_data"
    },
    {
     "name": "stdout",
     "output_type": "stream",
     "text": [
      "\n",
      "All: 5282\n",
      "less than 512:  5282\n"
     ]
    }
   ],
   "source": [
    "final_df = np.array([make_input(*x) for x in df.to_numpy()])\n",
    "np.random.shuffle(final_df)\n",
    "len_final_df = [len(tokenizer.encode(x)) for x in tqdm_notebook(final_df)]\n",
    "print(\"All:\",len(len_final_df))\n",
    "print(\"less than 512: \",len([x for x in len_final_df if x<512]))"
   ]
  },
  {
   "cell_type": "code",
   "execution_count": 60,
   "metadata": {
    "ExecuteTime": {
     "end_time": "2021-02-21T12:05:52.578746Z",
     "start_time": "2021-02-21T12:05:52.540506Z"
    }
   },
   "outputs": [],
   "source": [
    "np.save(\"data/final_datasets/finetuning.npy\", final_df)"
   ]
  },
  {
   "cell_type": "markdown",
   "metadata": {},
   "source": [
    "# Only nice paraphrases "
   ]
  },
  {
   "cell_type": "code",
   "execution_count": 28,
   "metadata": {
    "ExecuteTime": {
     "end_time": "2021-05-17T21:45:58.399606Z",
     "start_time": "2021-05-17T21:45:57.528209Z"
    }
   },
   "outputs": [],
   "source": [
    "import pandas as pd\n",
    "import numpy as np"
   ]
  },
  {
   "cell_type": "code",
   "execution_count": 29,
   "metadata": {
    "ExecuteTime": {
     "end_time": "2021-05-17T21:45:59.235244Z",
     "start_time": "2021-05-17T21:45:58.402980Z"
    }
   },
   "outputs": [],
   "source": [
    "quora = pd.read_csv(\"data/prepared_datasets/quora_splitted.csv\", index_col=0)"
   ]
  },
  {
   "cell_type": "code",
   "execution_count": 26,
   "metadata": {
    "ExecuteTime": {
     "end_time": "2021-05-16T22:09:24.664152Z",
     "start_time": "2021-05-16T22:09:24.595894Z"
    }
   },
   "outputs": [],
   "source": [
    "quora_ = [make_input(*x, bos=\"<|endoftext|>\", sep=\":paraphrase:\") for x in quora.sample(10000).to_numpy()]"
   ]
  },
  {
   "cell_type": "code",
   "execution_count": 30,
   "metadata": {
    "ExecuteTime": {
     "end_time": "2021-05-17T21:46:00.464794Z",
     "start_time": "2021-05-17T21:46:00.424390Z"
    }
   },
   "outputs": [],
   "source": [
    "mpc = pd.read_csv(\"data/prepared_datasets/mpc.csv\", index_col=0)\n",
    "mpc2 = mpc[['sentence2', 'sentence1']]\n",
    "mpc2.columns = ['sentence1', 'sentence2']\n",
    "mpc = mpc.append(mpc2)"
   ]
  },
  {
   "cell_type": "code",
   "execution_count": 28,
   "metadata": {
    "ExecuteTime": {
     "end_time": "2021-05-16T22:09:26.047866Z",
     "start_time": "2021-05-16T22:09:26.028107Z"
    }
   },
   "outputs": [],
   "source": [
    "mpc_ = [make_input(*x, bos=\"<|endoftext|>\", sep=\":paraphrase:\") for x in mpc.to_numpy()]"
   ]
  },
  {
   "cell_type": "code",
   "execution_count": 31,
   "metadata": {
    "ExecuteTime": {
     "end_time": "2021-05-17T21:46:02.536316Z",
     "start_time": "2021-05-17T21:46:02.500824Z"
    }
   },
   "outputs": [],
   "source": [
    "subs = pd.read_csv(\"data/prepared_datasets/subs_splitted.csv\", index_col=0)\n",
    "\n",
    "subs2 = subs[['sentence2', 'sentence1']]\n",
    "subs2.columns = ['sentence1', 'sentence2']\n",
    "\n",
    "subs = subs.append(subs2)"
   ]
  },
  {
   "cell_type": "code",
   "execution_count": 22,
   "metadata": {
    "ExecuteTime": {
     "end_time": "2021-03-13T22:17:02.973532Z",
     "start_time": "2021-03-13T22:17:02.964449Z"
    }
   },
   "outputs": [],
   "source": [
    "subs_ = [make_input(*x, bos=\"<|endoftext|>\", sep=\":paraphrase:\") for x in subs.to_numpy()]"
   ]
  },
  {
   "cell_type": "code",
   "execution_count": 23,
   "metadata": {
    "ExecuteTime": {
     "end_time": "2021-03-13T22:17:03.205086Z",
     "start_time": "2021-03-13T22:17:03.198794Z"
    }
   },
   "outputs": [
    {
     "data": {
      "text/plain": [
       "(2304, 7800, 10000)"
      ]
     },
     "execution_count": 23,
     "metadata": {},
     "output_type": "execute_result"
    }
   ],
   "source": [
    "len(subs_), len(mpc_), len(quora_)"
   ]
  },
  {
   "cell_type": "code",
   "execution_count": 24,
   "metadata": {
    "ExecuteTime": {
     "end_time": "2021-03-13T22:17:18.645292Z",
     "start_time": "2021-03-13T22:17:18.542407Z"
    }
   },
   "outputs": [],
   "source": [
    "np.save(\"data/final_datasets/quora_mpc_cpm_20k.npy\", np.array(quora_ + mpc_ + subs_))"
   ]
  },
  {
   "cell_type": "markdown",
   "metadata": {},
   "source": [
    "### Tokenized "
   ]
  },
  {
   "cell_type": "code",
   "execution_count": 26,
   "metadata": {
    "ExecuteTime": {
     "end_time": "2021-03-13T22:19:10.666541Z",
     "start_time": "2021-03-13T22:19:07.978996Z"
    }
   },
   "outputs": [
    {
     "name": "stderr",
     "output_type": "stream",
     "text": [
      "/home/memesrized/.virtualenvs/edu/lib/python3.8/site-packages/torch/cuda/__init__.py:52: UserWarning: CUDA initialization: Found no NVIDIA driver on your system. Please check that you have an NVIDIA GPU and installed a driver from http://www.nvidia.com/Download/index.aspx (Triggered internally at  /pytorch/c10/cuda/CUDAFunctions.cpp:100.)\n",
      "  return torch._C._cuda_getDeviceCount() > 0\n"
     ]
    },
    {
     "data": {
      "text/plain": [
       "'3.4.0'"
      ]
     },
     "execution_count": 26,
     "metadata": {},
     "output_type": "execute_result"
    }
   ],
   "source": [
    "import transformers\n",
    "\n",
    "transformers.__version__"
   ]
  },
  {
   "cell_type": "code",
   "execution_count": 70,
   "metadata": {
    "ExecuteTime": {
     "end_time": "2021-05-17T22:16:17.161484Z",
     "start_time": "2021-05-17T22:16:17.074439Z"
    }
   },
   "outputs": [],
   "source": [
    "#data = np.array(quora_ + mpc_ + subs_)\n",
    "data = np.array([make_input(*x, bos=\"<|endoftext|>\", sep=\":paraphrase:\") for x in dataset.to_numpy()])"
   ]
  },
  {
   "cell_type": "code",
   "execution_count": 71,
   "metadata": {
    "ExecuteTime": {
     "end_time": "2021-05-17T22:16:22.751694Z",
     "start_time": "2021-05-17T22:16:18.699373Z"
    }
   },
   "outputs": [
    {
     "name": "stderr",
     "output_type": "stream",
     "text": [
      "/home/memesrized/.virtualenvs/edu/lib/python3.8/site-packages/torch/cuda/__init__.py:52: UserWarning: CUDA initialization: Found no NVIDIA driver on your system. Please check that you have an NVIDIA GPU and installed a driver from http://www.nvidia.com/Download/index.aspx (Triggered internally at  /pytorch/c10/cuda/CUDAFunctions.cpp:100.)\n",
      "  return torch._C._cuda_getDeviceCount() > 0\n"
     ]
    }
   ],
   "source": [
    "from transformers import GPT2Tokenizer\n",
    "\n",
    "tokenizer = GPT2Tokenizer.from_pretrained('gpt2-medium', \n",
    "                                          pad_token='<|endoftext|>',\n",
    "                                        #   bos_token='<|startoftext|>', \n",
    "                                        #   eos_token='<|endoftext|>', \n",
    "                                        #   pad_token='<|pad|>',\n",
    "                                        #   sep_token='<|sep|>'\n",
    "                                          )"
   ]
  },
  {
   "cell_type": "code",
   "execution_count": 72,
   "metadata": {
    "ExecuteTime": {
     "end_time": "2021-05-17T22:16:30.866791Z",
     "start_time": "2021-05-17T22:16:22.755242Z"
    }
   },
   "outputs": [],
   "source": [
    "max_length = max([len(tokenizer.encode(x)) for x in data])"
   ]
  },
  {
   "cell_type": "code",
   "execution_count": 73,
   "metadata": {
    "ExecuteTime": {
     "end_time": "2021-05-17T22:16:30.879202Z",
     "start_time": "2021-05-17T22:16:30.870102Z"
    }
   },
   "outputs": [
    {
     "data": {
      "text/plain": [
       "119"
      ]
     },
     "execution_count": 73,
     "metadata": {},
     "output_type": "execute_result"
    }
   ],
   "source": [
    "max_length"
   ]
  },
  {
   "cell_type": "code",
   "execution_count": 74,
   "metadata": {
    "ExecuteTime": {
     "end_time": "2021-05-17T22:16:30.896629Z",
     "start_time": "2021-05-17T22:16:30.881910Z"
    }
   },
   "outputs": [
    {
     "data": {
      "text/plain": [
       "[25, 1845, 6570, 22789, 25]"
      ]
     },
     "execution_count": 74,
     "metadata": {},
     "output_type": "execute_result"
    }
   ],
   "source": [
    "tokenizer.encode(\":paraphrase:\")"
   ]
  },
  {
   "cell_type": "code",
   "execution_count": 75,
   "metadata": {
    "ExecuteTime": {
     "end_time": "2021-05-17T22:16:30.916934Z",
     "start_time": "2021-05-17T22:16:30.903808Z"
    }
   },
   "outputs": [
    {
     "data": {
      "text/plain": [
       "[1845, 6570, 22789]"
      ]
     },
     "execution_count": 75,
     "metadata": {},
     "output_type": "execute_result"
    }
   ],
   "source": [
    "tokenizer.encode(\"paraphrase\")"
   ]
  },
  {
   "cell_type": "code",
   "execution_count": 76,
   "metadata": {
    "ExecuteTime": {
     "end_time": "2021-05-17T22:16:30.929682Z",
     "start_time": "2021-05-17T22:16:30.921214Z"
    }
   },
   "outputs": [
    {
     "data": {
      "text/plain": [
       "15104"
      ]
     },
     "execution_count": 76,
     "metadata": {},
     "output_type": "execute_result"
    }
   ],
   "source": [
    "len(data)"
   ]
  },
  {
   "cell_type": "code",
   "execution_count": 77,
   "metadata": {
    "ExecuteTime": {
     "end_time": "2021-05-17T22:16:53.894803Z",
     "start_time": "2021-05-17T22:16:42.017600Z"
    }
   },
   "outputs": [],
   "source": [
    "a = np.array([\n",
    "    list(tokenizer(x,\n",
    "              truncation=True, \n",
    "             max_length=max_length, \n",
    "             padding=\"max_length\").values())\n",
    "    for x in data\n",
    "])"
   ]
  },
  {
   "cell_type": "code",
   "execution_count": 78,
   "metadata": {
    "ExecuteTime": {
     "end_time": "2021-05-17T22:16:53.935891Z",
     "start_time": "2021-05-17T22:16:53.897449Z"
    }
   },
   "outputs": [],
   "source": [
    "np.save(\"data/final_datasets/toxic_to_non-toxic_tokenized.npy\", a)"
   ]
  },
  {
   "cell_type": "markdown",
   "metadata": {},
   "source": [
    "# PPLM"
   ]
  },
  {
   "cell_type": "markdown",
   "metadata": {
    "heading_collapsed": true
   },
   "source": [
    "## try"
   ]
  },
  {
   "cell_type": "code",
   "execution_count": 45,
   "metadata": {
    "ExecuteTime": {
     "end_time": "2021-05-16T22:16:33.428816Z",
     "start_time": "2021-05-16T22:16:33.424794Z"
    },
    "hidden": true
   },
   "outputs": [],
   "source": [
    "import json"
   ]
  },
  {
   "cell_type": "code",
   "execution_count": 20,
   "metadata": {
    "ExecuteTime": {
     "end_time": "2021-05-16T22:07:33.830276Z",
     "start_time": "2021-05-16T22:07:33.815618Z"
    },
    "hidden": true
   },
   "outputs": [],
   "source": [
    "js = pd.read_csv(\"data/jigsaw/jigsaw_toxic_augmented.csv\")"
   ]
  },
  {
   "cell_type": "code",
   "execution_count": 34,
   "metadata": {
    "ExecuteTime": {
     "end_time": "2021-05-16T22:12:11.722150Z",
     "start_time": "2021-05-16T22:12:11.715627Z"
    },
    "hidden": true
   },
   "outputs": [],
   "source": [
    "js_par = js[['comment_text', 'paraphrase']]\n",
    "js_par.columns = ['sentence1', 'sentence2']"
   ]
  },
  {
   "cell_type": "code",
   "execution_count": 39,
   "metadata": {
    "ExecuteTime": {
     "end_time": "2021-05-16T22:14:34.729979Z",
     "start_time": "2021-05-16T22:14:34.720051Z"
    },
    "hidden": true
   },
   "outputs": [],
   "source": [
    "js_par = [make_input(*x, bos=\"<|endoftext|>\", sep=\":paraphrase:\") for x in js_par.to_numpy()]"
   ]
  },
  {
   "cell_type": "code",
   "execution_count": 48,
   "metadata": {
    "ExecuteTime": {
     "end_time": "2021-05-16T22:17:34.064692Z",
     "start_time": "2021-05-16T22:17:34.058422Z"
    },
    "hidden": true
   },
   "outputs": [],
   "source": [
    "df = []\n",
    "df.extend([{'text': x, 'label': 0} for x in js_par])"
   ]
  },
  {
   "cell_type": "code",
   "execution_count": 49,
   "metadata": {
    "ExecuteTime": {
     "end_time": "2021-05-16T22:17:34.700296Z",
     "start_time": "2021-05-16T22:17:34.691980Z"
    },
    "hidden": true
   },
   "outputs": [],
   "source": [
    "df.extend([{'text': x, 'label': 1} for x in mpc_[:2500]])"
   ]
  },
  {
   "cell_type": "code",
   "execution_count": 51,
   "metadata": {
    "ExecuteTime": {
     "end_time": "2021-05-16T22:17:39.289621Z",
     "start_time": "2021-05-16T22:17:39.283913Z"
    },
    "hidden": true
   },
   "outputs": [
    {
     "data": {
      "text/plain": [
       "{'text': '<|endoftext|>An 18-month run for it in Toronto was originally planned as part of a North American tour.:paraphrase:When we opened here, we originally planned an 18-month run as a part of a North American tour.\\n<|endoftext|>',\n",
       " 'label': 1}"
      ]
     },
     "execution_count": 51,
     "metadata": {},
     "output_type": "execute_result"
    }
   ],
   "source": [
    "df[-1]"
   ]
  },
  {
   "cell_type": "code",
   "execution_count": 53,
   "metadata": {
    "ExecuteTime": {
     "end_time": "2021-05-16T22:19:14.989392Z",
     "start_time": "2021-05-16T22:19:14.953641Z"
    },
    "hidden": true
   },
   "outputs": [],
   "source": [
    "with open(\"data/train_discrim.jsonl\", 'w') as file:\n",
    "    for x in df:\n",
    "        file.write(json.dumps(x))\n",
    "        file.write(\"\\n\")"
   ]
  },
  {
   "cell_type": "code",
   "execution_count": 55,
   "metadata": {
    "ExecuteTime": {
     "end_time": "2021-05-17T07:32:27.874052Z",
     "start_time": "2021-05-17T07:32:27.864198Z"
    },
    "hidden": true
   },
   "outputs": [
    {
     "data": {
      "text/plain": [
       "'ś'"
      ]
     },
     "execution_count": 55,
     "metadata": {},
     "output_type": "execute_result"
    }
   ],
   "source": [
    "chr(347)"
   ]
  },
  {
   "cell_type": "code",
   "execution_count": 5,
   "metadata": {
    "ExecuteTime": {
     "end_time": "2021-05-17T07:43:16.734079Z",
     "start_time": "2021-05-17T07:43:16.626033Z"
    },
    "hidden": true
   },
   "outputs": [],
   "source": [
    "import json\n",
    "with open(\"PPLM/paper_code/data/train_discrim.jsonl\", 'r') as file:\n",
    "    with open(\"PPLM/paper_code/data/train_discrim_unidecode.jsonl\", 'w') as file_out:\n",
    "        for x in [json.loads(x) for x in file.readlines()]:\n",
    "            file_out.write(json.dumps({\"text\": unidecode(x['text']), 'label': x['label']}))\n",
    "            file_out.write(\"\\n\")"
   ]
  },
  {
   "cell_type": "code",
   "execution_count": 1,
   "metadata": {
    "ExecuteTime": {
     "end_time": "2021-05-17T07:38:49.755527Z",
     "start_time": "2021-05-17T07:38:49.740821Z"
    },
    "hidden": true
   },
   "outputs": [],
   "source": [
    "from unidecode import unidecode"
   ]
  },
  {
   "cell_type": "code",
   "execution_count": 3,
   "metadata": {
    "ExecuteTime": {
     "end_time": "2021-05-17T07:39:01.470814Z",
     "start_time": "2021-05-17T07:39:01.446511Z"
    },
    "hidden": true
   },
   "outputs": [
    {
     "data": {
      "text/plain": [
       "'s'"
      ]
     },
     "execution_count": 3,
     "metadata": {},
     "output_type": "execute_result"
    }
   ],
   "source": [
    "unidecode(chr(347))"
   ]
  },
  {
   "cell_type": "markdown",
   "metadata": {
    "hidden": true
   },
   "source": [
    "### Toxicity reduction by paraphrase"
   ]
  },
  {
   "cell_type": "code",
   "execution_count": 10,
   "metadata": {
    "ExecuteTime": {
     "end_time": "2021-05-17T21:30:47.949081Z",
     "start_time": "2021-05-17T21:30:47.941430Z"
    },
    "hidden": true
   },
   "outputs": [],
   "source": [
    "with open(\"data/bad-words.txt\") as file:\n",
    "    bad = [x.strip() for x in file.readlines() if len(x.strip()) > 3]"
   ]
  },
  {
   "cell_type": "code",
   "execution_count": 19,
   "metadata": {
    "ExecuteTime": {
     "end_time": "2021-05-17T21:36:59.976466Z",
     "start_time": "2021-05-17T21:36:59.947055Z"
    },
    "hidden": true
   },
   "outputs": [
    {
     "data": {
      "text/plain": [
       "['zipperhead',\n",
       " 'zigabo',\n",
       " 'yellowman',\n",
       " 'yankee',\n",
       " 'wuzzie',\n",
       " 'wuss',\n",
       " \"women's\",\n",
       " 'willy',\n",
       " 'williewanker',\n",
       " 'willie',\n",
       " 'wigger',\n",
       " 'whorehouse',\n",
       " 'whorefucker',\n",
       " 'whore',\n",
       " 'whop',\n",
       " 'whiz',\n",
       " 'whitey',\n",
       " 'whitetrash',\n",
       " 'whites',\n",
       " 'whitenigger',\n",
       " 'whit',\n",
       " 'whiskydick',\n",
       " 'whiskeydick',\n",
       " 'whiskey',\n",
       " 'whigger',\n",
       " 'whash',\n",
       " 'whacker',\n",
       " 'wetspot',\n",
       " 'wetback',\n",
       " 'wetb',\n",
       " 'welfare',\n",
       " 'welcher',\n",
       " 'weewee',\n",
       " 'weenie',\n",
       " 'weapon',\n",
       " 'waysted',\n",
       " 'wanking',\n",
       " 'wanker',\n",
       " 'wank',\n",
       " 'vulva',\n",
       " 'vomit',\n",
       " 'virginbreaker',\n",
       " 'virgin',\n",
       " 'violence',\n",
       " 'vietcong',\n",
       " 'vibrator',\n",
       " 'vibrater',\n",
       " 'vibr',\n",
       " 'vatican',\n",
       " 'vaginal',\n",
       " 'vagina',\n",
       " 'uterus',\n",
       " 'usama',\n",
       " 'urine',\n",
       " 'urinate',\n",
       " 'urinary',\n",
       " 'upthebutt',\n",
       " 'uptheass',\n",
       " 'upskirt',\n",
       " 'unfuckable',\n",
       " 'twobitwhore',\n",
       " 'twinkie',\n",
       " 'twink',\n",
       " 'twat',\n",
       " 'turnon',\n",
       " 'turd',\n",
       " 'tunneloflove',\n",
       " 'tuckahoe',\n",
       " 'trots',\n",
       " 'trojan',\n",
       " 'trisexual',\n",
       " 'triplex',\n",
       " 'transvestite',\n",
       " 'transsexual',\n",
       " 'transexual',\n",
       " 'tranny',\n",
       " 'trannie',\n",
       " 'tramp',\n",
       " 'trailertrash',\n",
       " 'towelhead',\n",
       " 'tosser',\n",
       " 'torture',\n",
       " 'tortur',\n",
       " 'tonguetramp',\n",
       " 'tonguethrust',\n",
       " 'tongue',\n",
       " 'tongethruster',\n",
       " 'toilet',\n",
       " 'titty',\n",
       " 'titties',\n",
       " 'tittie',\n",
       " 'tits',\n",
       " 'titlover',\n",
       " 'titlicker',\n",
       " 'titjob',\n",
       " 'titfuckin',\n",
       " 'titfucker',\n",
       " 'titfuck',\n",
       " 'titbitnipply',\n",
       " 'tinkle',\n",
       " 'timbernigger',\n",
       " 'threeway',\n",
       " 'threesome',\n",
       " 'thirdleg',\n",
       " 'thirdeye',\n",
       " 'thicklips',\n",
       " 'testicles',\n",
       " 'testicle',\n",
       " 'teste',\n",
       " 'terrorist',\n",
       " 'terror',\n",
       " 'teat',\n",
       " 'tard',\n",
       " 'tarbaby',\n",
       " 'tantra',\n",
       " 'tang',\n",
       " 'tampon',\n",
       " 'taff',\n",
       " 'taboo',\n",
       " 'syphilis',\n",
       " 'sweetness',\n",
       " 'swastika',\n",
       " 'swalow',\n",
       " 'swallower',\n",
       " 'swallow',\n",
       " 'suicide',\n",
       " 'suckoff',\n",
       " 'suckmytit',\n",
       " 'suckmydick',\n",
       " 'suckmyass',\n",
       " 'suckme',\n",
       " 'sucker',\n",
       " 'suckdick',\n",
       " 'suck',\n",
       " 'stupidfucker',\n",
       " 'stupidfuck',\n",
       " 'stupid',\n",
       " 'stroking',\n",
       " 'stroke',\n",
       " 'stripclub',\n",
       " 'stringer',\n",
       " 'strapon',\n",
       " 'stiffy',\n",
       " 'stagg',\n",
       " 'squaw',\n",
       " 'spunky',\n",
       " 'spunk',\n",
       " 'spreadeagle',\n",
       " 'spooge',\n",
       " 'splittail',\n",
       " 'spitter',\n",
       " 'spit',\n",
       " 'spik',\n",
       " 'spigotty',\n",
       " 'spig',\n",
       " 'spick',\n",
       " 'spic',\n",
       " 'spermherder',\n",
       " 'spermhearder',\n",
       " 'spermbag',\n",
       " 'spermacide',\n",
       " 'sperm',\n",
       " 'spankthemonkey',\n",
       " 'spank',\n",
       " 'spaghettinigger',\n",
       " 'spaghettibender',\n",
       " 'soviet',\n",
       " 'sooty',\n",
       " 'sonofbitch',\n",
       " 'sonofabitch',\n",
       " 'sodomy',\n",
       " 'sodomize',\n",
       " 'sodomite',\n",
       " 'sodomise',\n",
       " 'sodom',\n",
       " 'snownigger',\n",
       " 'snowback',\n",
       " 'snot',\n",
       " 'sniper',\n",
       " \"snigger's\",\n",
       " 'sniggers',\n",
       " 'sniggering',\n",
       " 'sniggered',\n",
       " 'snigger',\n",
       " 'snatchpatch',\n",
       " 'snatch',\n",
       " 'smut',\n",
       " 'smackthemonkey',\n",
       " 'smack',\n",
       " 'slutwhore',\n",
       " 'slutwear',\n",
       " 'slutty',\n",
       " 'slutting',\n",
       " 'slutt',\n",
       " 'sluts',\n",
       " 'slut',\n",
       " 'slopy',\n",
       " 'slopey',\n",
       " 'slopehead',\n",
       " 'slimebucket',\n",
       " 'slimeball',\n",
       " 'slime',\n",
       " 'slideitin',\n",
       " 'sleezeball',\n",
       " 'sleezebag',\n",
       " 'slavedriver',\n",
       " 'slave',\n",
       " 'slav',\n",
       " 'slaughter',\n",
       " 'slapper',\n",
       " 'slanteye',\n",
       " 'slant',\n",
       " 'skumbag',\n",
       " 'skum',\n",
       " 'skinflute',\n",
       " 'skankywhore',\n",
       " 'skankybitch',\n",
       " 'skanky',\n",
       " 'skankwhore',\n",
       " 'skankfuck',\n",
       " 'skankbitch',\n",
       " 'skank',\n",
       " 'sixtyniner',\n",
       " 'sixtynine',\n",
       " 'sixsixsix',\n",
       " 'sissy',\n",
       " 'sick',\n",
       " 'showtime',\n",
       " 'shortfuck',\n",
       " 'shooting',\n",
       " 'shoot',\n",
       " 'shitty',\n",
       " 'shitting',\n",
       " 'shitter',\n",
       " 'shitted',\n",
       " 'shitstain',\n",
       " 'shits',\n",
       " 'shitoutofluck',\n",
       " 'shitola',\n",
       " 'shitlist',\n",
       " 'shiting',\n",
       " 'shithouse',\n",
       " 'shithead',\n",
       " 'shithappens',\n",
       " 'shithapens',\n",
       " 'shitfull',\n",
       " 'shitfucker',\n",
       " 'shitfuck',\n",
       " 'shitforbrains',\n",
       " 'shitfit',\n",
       " 'shitfaced',\n",
       " 'shitface',\n",
       " 'shited',\n",
       " 'shiteater',\n",
       " 'shite',\n",
       " 'shitdick',\n",
       " 'shitcan',\n",
       " 'shit',\n",
       " 'shinola',\n",
       " 'shhit',\n",
       " 'sheeney',\n",
       " 'shawtypimp',\n",
       " 'shav',\n",
       " 'shat',\n",
       " 'shagging',\n",
       " 'shaggin',\n",
       " 'shag',\n",
       " 'sexy-slim',\n",
       " 'sexymoma',\n",
       " 'sexy',\n",
       " 'sexwhore',\n",
       " 'sexually',\n",
       " 'sexual',\n",
       " 'sextoys',\n",
       " 'sextoy',\n",
       " 'sextogo',\n",
       " 'sexslave',\n",
       " 'sexpot',\n",
       " 'sexkitten',\n",
       " 'sexing',\n",
       " 'sexhouse',\n",
       " 'sexhound',\n",
       " 'sexfarm',\n",
       " 'sexed',\n",
       " 'servant',\n",
       " 'seppo',\n",
       " 'semen',\n",
       " 'scum',\n",
       " 'scrotum',\n",
       " 'screwyou',\n",
       " 'screw',\n",
       " 'schlong',\n",
       " 'scat',\n",
       " 'scallywag',\n",
       " 'scag',\n",
       " 'satan',\n",
       " 'sandnigger',\n",
       " 'sandm',\n",
       " 'samckdaddy',\n",
       " 'sadom',\n",
       " 'sadis',\n",
       " 'russkie',\n",
       " 'russki',\n",
       " 'rump',\n",
       " 'roundeye',\n",
       " 'robber',\n",
       " 'roach',\n",
       " 'rimming',\n",
       " 'rimjob',\n",
       " 'rigger',\n",
       " 'ribbed',\n",
       " 'retarded',\n",
       " 'retard',\n",
       " 'rere',\n",
       " 'republican',\n",
       " 'rentafuck',\n",
       " 'remains',\n",
       " 'reject',\n",
       " 'refugee',\n",
       " 'reestie',\n",
       " 'reefer',\n",
       " 'redneck',\n",
       " 'redlight',\n",
       " 'rectum',\n",
       " 'rearentry',\n",
       " 'rearend',\n",
       " 'rapist',\n",
       " 'raper',\n",
       " 'raped',\n",
       " 'rape',\n",
       " 'randy',\n",
       " 'raghead',\n",
       " 'radicals',\n",
       " 'radical',\n",
       " 'racist',\n",
       " 'racial',\n",
       " 'rabbi',\n",
       " 'ra8s',\n",
       " 'quim',\n",
       " 'quickie',\n",
       " 'queer',\n",
       " 'queef',\n",
       " 'quashie',\n",
       " 'pusy',\n",
       " 'pussypounder',\n",
       " 'pussylover',\n",
       " 'pussylips',\n",
       " 'pussylicker',\n",
       " 'pussyfucker',\n",
       " 'pussyeater',\n",
       " 'pussycat',\n",
       " 'pussy',\n",
       " 'pussies',\n",
       " 'pussie',\n",
       " 'puss',\n",
       " 'purinapricness',\n",
       " 'puntang',\n",
       " 'puke',\n",
       " 'puddboy',\n",
       " 'pudd',\n",
       " 'pudboy',\n",
       " 'pubiclice',\n",
       " 'pubic',\n",
       " 'pube',\n",
       " 'pu55y',\n",
       " 'pu55i',\n",
       " 'protestant',\n",
       " 'prostitute',\n",
       " 'pros',\n",
       " 'propaganda',\n",
       " 'primetime',\n",
       " 'prickhead',\n",
       " 'prick',\n",
       " 'pric',\n",
       " 'premature',\n",
       " 'poverty',\n",
       " 'pornprincess',\n",
       " 'pornography',\n",
       " 'porno',\n",
       " 'pornking',\n",
       " 'pornflick',\n",
       " 'porn',\n",
       " 'porchmonkey',\n",
       " 'popimp',\n",
       " 'poorwhitetrash',\n",
       " 'pooping',\n",
       " 'pooperscooper',\n",
       " 'pooper',\n",
       " 'poop',\n",
       " 'poontang',\n",
       " 'poon',\n",
       " 'pommy',\n",
       " 'pommie',\n",
       " 'polack',\n",
       " 'pohm',\n",
       " 'pocketpool',\n",
       " 'pocho',\n",
       " 'pocha',\n",
       " 'playgirl',\n",
       " 'playboy',\n",
       " 'pixy',\n",
       " 'pixie',\n",
       " 'pistol',\n",
       " 'pissoff',\n",
       " 'pissing',\n",
       " 'pissin',\n",
       " 'pisshead',\n",
       " 'pisses',\n",
       " 'pisser',\n",
       " 'pissed',\n",
       " 'piss',\n",
       " 'pindick',\n",
       " 'pimpsimp',\n",
       " 'pimpjuice',\n",
       " 'pimpjuic',\n",
       " 'pimper',\n",
       " 'pimped',\n",
       " 'pimp',\n",
       " 'piky',\n",
       " 'pikey',\n",
       " 'piker',\n",
       " 'pickaninny',\n",
       " 'piccaninny',\n",
       " 'picaninny',\n",
       " 'pi55',\n",
       " 'phuq',\n",
       " 'phungky',\n",
       " 'phukking',\n",
       " 'phukked',\n",
       " 'phuking',\n",
       " 'phuked',\n",
       " 'phuk',\n",
       " 'phonesex',\n",
       " 'perv',\n",
       " 'period',\n",
       " 'penthouse',\n",
       " 'penises',\n",
       " 'penis',\n",
       " 'penile',\n",
       " 'peni5',\n",
       " 'penetration',\n",
       " 'pendy',\n",
       " 'peepshpw',\n",
       " 'peepshow',\n",
       " 'pee-pee',\n",
       " 'peehole',\n",
       " 'peckerwood',\n",
       " 'pecker',\n",
       " 'peck',\n",
       " 'pearlnecklace',\n",
       " 'payo',\n",
       " 'panties',\n",
       " 'panti',\n",
       " 'pansy',\n",
       " 'pansies',\n",
       " 'palestinian',\n",
       " 'palesimian',\n",
       " 'paki',\n",
       " 'osama',\n",
       " 'orgy',\n",
       " 'orgies',\n",
       " 'orgasm',\n",
       " 'orgasim',\n",
       " 'orga',\n",
       " 'oral',\n",
       " 'ontherag',\n",
       " 'nymph',\n",
       " 'nutfucker',\n",
       " 'nuke',\n",
       " 'nudger',\n",
       " 'nude',\n",
       " 'nooner',\n",
       " 'noonan',\n",
       " 'nookie',\n",
       " 'nookey',\n",
       " 'nook',\n",
       " 'nofuckingway',\n",
       " 'nlggor',\n",
       " 'nlgger',\n",
       " 'nittit',\n",
       " 'nipplering',\n",
       " 'nipple',\n",
       " 'nigre',\n",
       " 'nigra',\n",
       " 'nigr',\n",
       " 'nignog',\n",
       " 'niglet',\n",
       " 'niggur',\n",
       " 'niggor',\n",
       " 'nigglings',\n",
       " 'niggling',\n",
       " 'niggles',\n",
       " 'niggled',\n",
       " 'niggle',\n",
       " \"nigger's\",\n",
       " 'niggers',\n",
       " 'niggerhole',\n",
       " 'niggerhead',\n",
       " 'nigger',\n",
       " 'niggaz',\n",
       " \"niggard's\",\n",
       " 'niggards',\n",
       " 'niggardly',\n",
       " \"niggardliness's\",\n",
       " 'niggardliness',\n",
       " 'niggarding',\n",
       " 'niggarded',\n",
       " 'niggard',\n",
       " 'niggaracci',\n",
       " 'niggah',\n",
       " 'nigga',\n",
       " 'nigg',\n",
       " 'nigerians',\n",
       " 'nigerian',\n",
       " 'niger',\n",
       " \"negro's\",\n",
       " 'negroid',\n",
       " 'negroes',\n",
       " 'negro',\n",
       " 'necro',\n",
       " 'nazi',\n",
       " 'nastywhore',\n",
       " 'nastyslut',\n",
       " 'nastyho',\n",
       " 'nastybitch',\n",
       " 'nasty',\n",
       " 'narcotic',\n",
       " 'naked',\n",
       " 'muslim',\n",
       " 'murderer',\n",
       " 'murder',\n",
       " 'munt',\n",
       " 'muncher',\n",
       " 'mulatto',\n",
       " 'mufflikcer',\n",
       " 'muffindiver',\n",
       " 'muffdiver',\n",
       " 'muffdive',\n",
       " 'muff',\n",
       " 'motherlovebone',\n",
       " 'motherfuckings',\n",
       " 'motherfucking',\n",
       " 'motherfuckin',\n",
       " 'motherfucker',\n",
       " 'motherfucked',\n",
       " 'motherfuck',\n",
       " 'mothafuckings',\n",
       " 'mothafucking',\n",
       " 'mothafuckin',\n",
       " 'mothafucker',\n",
       " 'mothafucked',\n",
       " 'mothafuckaz',\n",
       " 'mothafucka',\n",
       " 'mothafuck',\n",
       " 'mosshead',\n",
       " 'moslem',\n",
       " 'moron',\n",
       " 'mormon',\n",
       " 'mooncricket',\n",
       " 'moneyshot',\n",
       " 'molestor',\n",
       " 'molester',\n",
       " 'molestation',\n",
       " 'molest',\n",
       " 'moles',\n",
       " 'moky',\n",
       " 'mofo',\n",
       " 'mocky',\n",
       " 'mockie',\n",
       " 'mockey',\n",
       " 'minority',\n",
       " 'milf',\n",
       " 'mideast',\n",
       " 'mickeyfinn',\n",
       " 'mggor',\n",
       " 'mgger',\n",
       " 'mexican',\n",
       " 'meth',\n",
       " 'meatrack',\n",
       " 'meatbeatter',\n",
       " 'mattressprincess',\n",
       " 'masturbating',\n",
       " 'masturbate',\n",
       " 'mastrabator',\n",
       " 'masterblaster',\n",
       " 'masterbate',\n",
       " 'mastabater',\n",
       " 'mastabate',\n",
       " 'marijuana',\n",
       " 'manpaste',\n",
       " 'manhater',\n",
       " 'mams',\n",
       " 'magicwand',\n",
       " 'mafia',\n",
       " 'macaca',\n",
       " 'lynch',\n",
       " 'lugan',\n",
       " 'luckycammeltoe',\n",
       " 'lucifer',\n",
       " 'lubejob',\n",
       " 'lowlife',\n",
       " 'loverocket',\n",
       " 'lovepistol',\n",
       " 'lovemuscle',\n",
       " 'lovejuice',\n",
       " 'lovegun',\n",
       " 'lovegoo',\n",
       " 'lovebone',\n",
       " 'lotion',\n",
       " 'loser',\n",
       " 'looser',\n",
       " 'lolita',\n",
       " 'loadedgun',\n",
       " 'livesex',\n",
       " 'liquor',\n",
       " 'lingerie',\n",
       " 'limy',\n",
       " 'limpdick',\n",
       " 'limey',\n",
       " 'lies',\n",
       " 'lickme',\n",
       " 'licker',\n",
       " 'libido',\n",
       " 'liberal',\n",
       " 'lezzo',\n",
       " 'lezz',\n",
       " 'lezbo',\n",
       " 'lezbefriends',\n",
       " 'lezbe',\n",
       " 'lesbo',\n",
       " 'lesbin',\n",
       " 'lesbian',\n",
       " 'lesbayn',\n",
       " 'lesbain',\n",
       " 'latin',\n",
       " 'lapdance',\n",
       " 'laid',\n",
       " 'lactate',\n",
       " 'kyke',\n",
       " 'kunt',\n",
       " 'kunnilingus',\n",
       " 'kunilingus',\n",
       " 'kums',\n",
       " 'kumquat',\n",
       " 'kumming',\n",
       " 'kummer',\n",
       " 'kumbullbe',\n",
       " 'kumbubble',\n",
       " 'kraut',\n",
       " 'krappy',\n",
       " 'krap',\n",
       " 'kotex',\n",
       " 'koon',\n",
       " 'kondum',\n",
       " 'kock',\n",
       " 'knockers',\n",
       " 'knife',\n",
       " 'kissass',\n",
       " 'kinky',\n",
       " 'kink',\n",
       " 'kills',\n",
       " 'killing',\n",
       " 'killer',\n",
       " 'killed',\n",
       " 'kill',\n",
       " 'kike',\n",
       " 'kigger',\n",
       " 'kanake',\n",
       " 'kafir',\n",
       " 'kaffre',\n",
       " 'kaffir',\n",
       " 'kaffer',\n",
       " 'junglebunny',\n",
       " 'jugs',\n",
       " 'juggalo',\n",
       " 'joint',\n",
       " 'jizzum',\n",
       " 'jizzim',\n",
       " 'jizz',\n",
       " 'jizm',\n",
       " 'jizjuice',\n",
       " 'jizim',\n",
       " 'jism',\n",
       " 'jimfish',\n",
       " 'jijjiboo',\n",
       " 'jihad',\n",
       " 'jiggy',\n",
       " 'jigger',\n",
       " 'jiggabo',\n",
       " 'jigga',\n",
       " 'jigg',\n",
       " 'jigaboo',\n",
       " 'jiga',\n",
       " 'jewish',\n",
       " 'jesuschrist',\n",
       " 'jesus',\n",
       " 'jerkoff',\n",
       " 'jeez',\n",
       " 'jebus',\n",
       " 'japcrap',\n",
       " 'japanese',\n",
       " 'jade',\n",
       " 'jacktheripper',\n",
       " 'jackshit',\n",
       " 'jackoff',\n",
       " 'jackass',\n",
       " 'itch',\n",
       " 'italiano',\n",
       " \"israel's\",\n",
       " 'israeli',\n",
       " 'israel',\n",
       " 'inthebuff',\n",
       " 'intheass',\n",
       " 'interracial',\n",
       " 'intercourse',\n",
       " 'insest',\n",
       " 'incest',\n",
       " 'illegal',\n",
       " 'ikey',\n",
       " 'idiot',\n",
       " 'iblowu',\n",
       " 'hymie',\n",
       " 'hymen',\n",
       " 'hustler',\n",
       " 'hussy',\n",
       " 'husky',\n",
       " 'hummer',\n",
       " 'hottotrot',\n",
       " 'hotpussy',\n",
       " 'hotdamn',\n",
       " 'hostage',\n",
       " 'hoser',\n",
       " 'hosejob',\n",
       " 'horseshit',\n",
       " 'horny',\n",
       " 'horniest',\n",
       " 'horney',\n",
       " 'horn',\n",
       " 'hork',\n",
       " 'hore',\n",
       " 'hooters',\n",
       " 'hookers',\n",
       " 'hooker',\n",
       " 'hook',\n",
       " 'honky',\n",
       " 'honkey',\n",
       " 'honkers',\n",
       " 'honk',\n",
       " 'honger',\n",
       " 'homosexual',\n",
       " 'homobangers',\n",
       " 'homo',\n",
       " 'homicide',\n",
       " 'holestuffer',\n",
       " 'hole',\n",
       " 'hoes',\n",
       " 'hodgie',\n",
       " 'hobo',\n",
       " 'hitlerist',\n",
       " 'hitlerism',\n",
       " 'hitler',\n",
       " 'hiscock',\n",
       " 'hindoo',\n",
       " 'hillbillies',\n",
       " 'hijacking',\n",
       " 'hijacker',\n",
       " 'hijack',\n",
       " 'heterosexual',\n",
       " 'herpes',\n",
       " 'heroin',\n",
       " 'henhouse',\n",
       " 'hell',\n",
       " 'heeb',\n",
       " 'hebe',\n",
       " 'headlights',\n",
       " 'headfuck',\n",
       " 'harem',\n",
       " 'hardon',\n",
       " 'harder',\n",
       " 'hapa',\n",
       " 'handjob',\n",
       " 'hamas',\n",
       " 'gyppy',\n",
       " 'gyppo',\n",
       " 'gyppie',\n",
       " 'gypp',\n",
       " 'gypo',\n",
       " 'gummer',\n",
       " 'gubba',\n",
       " 'grostulation',\n",
       " 'gross',\n",
       " 'groe',\n",
       " 'gringo',\n",
       " 'greaseball',\n",
       " 'goyim',\n",
       " 'gotohell',\n",
       " 'gook',\n",
       " 'gonzagas',\n",
       " 'gonorrehea',\n",
       " 'goldenshower',\n",
       " 'goddamnmuthafucker',\n",
       " 'goddamnit',\n",
       " 'goddamnes',\n",
       " 'goddamned',\n",
       " 'goddamn',\n",
       " 'goddammit',\n",
       " 'goddamit',\n",
       " 'godammit',\n",
       " 'glazeddonut',\n",
       " 'givehead',\n",
       " 'girls',\n",
       " 'gipp',\n",
       " 'ginzo',\n",
       " 'getiton',\n",
       " 'german',\n",
       " 'genital',\n",
       " 'geni',\n",
       " 'geezer',\n",
       " 'geez',\n",
       " 'gaysex',\n",
       " 'gaymuthafuckinwhore',\n",
       " 'gatorbait',\n",
       " 'gangsta',\n",
       " 'gangbanger',\n",
       " 'gangbanged',\n",
       " 'gangbang',\n",
       " 'fuuck',\n",
       " 'fungus',\n",
       " 'funfuck',\n",
       " 'funeral',\n",
       " 'fuks',\n",
       " 'fugly',\n",
       " 'fudgepacker',\n",
       " 'fuckyou',\n",
       " 'fuckwhore',\n",
       " 'fucktard',\n",
       " 'fucks',\n",
       " 'fuckpig',\n",
       " 'fuckoff',\n",
       " 'fuckmonkey',\n",
       " 'fuckmehard',\n",
       " 'fuckme',\n",
       " 'fuckknob',\n",
       " 'fuckit',\n",
       " 'fuckinright',\n",
       " 'fuckinnuts',\n",
       " 'fuckingbitch',\n",
       " 'fucking',\n",
       " 'fuckina',\n",
       " 'fuckin',\n",
       " 'fuckher',\n",
       " 'fuckhead',\n",
       " 'fuckfriend',\n",
       " 'fuckfreak',\n",
       " 'fuckfest',\n",
       " 'fuckface',\n",
       " 'fuckers',\n",
       " 'fucker',\n",
       " 'fuckedup',\n",
       " 'fucked',\n",
       " 'fuckbuddy',\n",
       " 'fuckbag',\n",
       " 'fuckable',\n",
       " 'fucka',\n",
       " 'fuck',\n",
       " 'fucck',\n",
       " 'fubar',\n",
       " 'freefuck',\n",
       " 'freakyfucker',\n",
       " 'freakfuck',\n",
       " 'fraud',\n",
       " 'fourtwenty',\n",
       " 'foursome',\n",
       " 'fornicate',\n",
       " 'forni',\n",
       " 'foreskin',\n",
       " 'fore',\n",
       " 'footstar',\n",
       " 'footlicker',\n",
       " 'footfucker',\n",
       " 'footfuck',\n",
       " 'footaction',\n",
       " 'fondle',\n",
       " 'flydye',\n",
       " 'flydie',\n",
       " 'floo',\n",
       " 'flatulence',\n",
       " 'flasher',\n",
       " 'flange',\n",
       " 'fisting',\n",
       " 'fistfucking',\n",
       " 'fistfucker',\n",
       " 'fistfucked',\n",
       " 'fistfuck',\n",
       " 'fister',\n",
       " 'firing',\n",
       " 'fire',\n",
       " 'fingerfucking',\n",
       " 'fingerfuckers',\n",
       " 'fingerfucker',\n",
       " 'fingerfucked',\n",
       " 'fingerfuck',\n",
       " 'fingerfood',\n",
       " 'filipino',\n",
       " 'filipina',\n",
       " 'fight',\n",
       " 'fetish',\n",
       " 'feltching',\n",
       " 'feltcher',\n",
       " 'feltch',\n",
       " 'fellatio',\n",
       " 'felching',\n",
       " 'felcher',\n",
       " 'felch',\n",
       " 'felatio',\n",
       " 'feces',\n",
       " 'fear',\n",
       " 'fckcum',\n",
       " 'fatso',\n",
       " 'fatfucker',\n",
       " 'fatfuck',\n",
       " 'fatass',\n",
       " 'fatah',\n",
       " 'fastfuck',\n",
       " 'farty',\n",
       " 'farting',\n",
       " 'farted',\n",
       " 'fart',\n",
       " 'fannyfucker',\n",
       " 'faith',\n",
       " 'fairy',\n",
       " 'fairies',\n",
       " 'failure',\n",
       " 'failed',\n",
       " 'fagot',\n",
       " 'faggot',\n",
       " 'fagging',\n",
       " 'faeces',\n",
       " 'facefucker',\n",
       " 'explosion',\n",
       " 'executioner',\n",
       " 'execution',\n",
       " 'executed',\n",
       " 'execute',\n",
       " 'excrement',\n",
       " 'european',\n",
       " 'ethnic',\n",
       " 'ethiopian',\n",
       " 'escort',\n",
       " 'erection',\n",
       " 'erect',\n",
       " 'enemy',\n",
       " 'enema',\n",
       " 'ejaculation',\n",
       " 'ejaculating',\n",
       " 'ejaculated',\n",
       " 'ejaculate',\n",
       " 'ecstacy',\n",
       " 'eatpussy',\n",
       " 'eatme',\n",
       " 'eatballs',\n",
       " 'easyslut',\n",
       " 'dyke',\n",
       " 'dyefly',\n",
       " 'dumbfuck',\n",
       " 'dumbbitch',\n",
       " 'dumbass',\n",
       " 'dumb',\n",
       " 'drunken',\n",
       " 'drunk',\n",
       " 'drug',\n",
       " 'dripdick',\n",
       " 'dragqween',\n",
       " 'dragqueen',\n",
       " 'dope',\n",
       " 'doom',\n",
       " 'doo-doo',\n",
       " 'doodoo',\n",
       " 'dong',\n",
       " 'doggystyle',\n",
       " 'doggiestyle',\n",
       " 'dixiedyke',\n",
       " 'dixiedike',\n",
       " 'dive',\n",
       " 'disturbed',\n",
       " 'diseases',\n",
       " 'disease',\n",
       " 'dirty',\n",
       " 'dipstick',\n",
       " 'dipshit',\n",
       " 'dink',\n",
       " 'dingleberry',\n",
       " 'dildo',\n",
       " 'dike',\n",
       " 'dies',\n",
       " 'died',\n",
       " 'diddle',\n",
       " 'dickweed',\n",
       " 'dickwad',\n",
       " 'dickman',\n",
       " ...]"
      ]
     },
     "execution_count": 19,
     "metadata": {},
     "output_type": "execute_result"
    }
   ],
   "source": [
    "bad[::-1]"
   ]
  },
  {
   "cell_type": "code",
   "execution_count": 18,
   "metadata": {
    "ExecuteTime": {
     "end_time": "2021-05-17T21:36:17.850585Z",
     "start_time": "2021-05-17T21:36:17.844552Z"
    },
    "hidden": true,
    "scrolled": true
   },
   "outputs": [
    {
     "data": {
      "text/plain": [
       "['motherfuck',\n",
       " 'motherfucked',\n",
       " 'motherfucker',\n",
       " 'motherfuckin',\n",
       " 'motherfucking',\n",
       " 'motherfuckings',\n",
       " 'motherlovebone']"
      ]
     },
     "execution_count": 18,
     "metadata": {},
     "output_type": "execute_result"
    }
   ],
   "source": [
    "[x for x in bad if \"mother\" in x]"
   ]
  },
  {
   "cell_type": "code",
   "execution_count": 40,
   "metadata": {
    "ExecuteTime": {
     "end_time": "2021-05-17T21:52:53.227892Z",
     "start_time": "2021-05-17T21:52:53.218736Z"
    },
    "hidden": true
   },
   "outputs": [],
   "source": [
    "bad_set = list(set([x for x in bad if (\"ass\" in x) and (\"assassin\" not in x)]\n",
    "+[x for x in bad if \"fuck\" in x]\n",
    "+[x for x in bad if \"suck\" in x]\n",
    "+[x for x in bad if \"butt\" in x]\n",
    "+[x for x in bad if \"cock\" in x]\n",
    "+[x for x in bad if \"cum\" in x]\n",
    "+[x for x in bad if \"dick\" in x]\n",
    "+[x for x in bad if \"fag\" in x]\n",
    "+[x for x in bad if \"damn\" in x]\n",
    "+[x for x in bad if \"nigg\" in x]\n",
    "+[x for x in bad if \"nige\" in x]\n",
    "+[x for x in bad if \"slut\" in x]\n",
    "+[x for x in bad if \"fat\" in x]))"
   ]
  },
  {
   "cell_type": "code",
   "execution_count": 26,
   "metadata": {
    "ExecuteTime": {
     "end_time": "2021-05-17T21:43:37.910615Z",
     "start_time": "2021-05-17T21:43:37.905056Z"
    },
    "hidden": true
   },
   "outputs": [],
   "source": [
    "with open(\"data/bad_set.txt\", 'w') as file:\n",
    "    for x in list(bad_set):\n",
    "        file.write(x)\n",
    "        file.write(\"\\n\")"
   ]
  },
  {
   "cell_type": "code",
   "execution_count": 34,
   "metadata": {
    "ExecuteTime": {
     "end_time": "2021-05-17T21:47:47.261460Z",
     "start_time": "2021-05-17T21:47:47.242997Z"
    },
    "hidden": true
   },
   "outputs": [],
   "source": [
    "dataset = quora.sample(5000).append(mpc).append(subs)"
   ]
  },
  {
   "cell_type": "code",
   "execution_count": 35,
   "metadata": {
    "ExecuteTime": {
     "end_time": "2021-05-17T21:49:18.944419Z",
     "start_time": "2021-05-17T21:49:18.940582Z"
    },
    "hidden": true
   },
   "outputs": [],
   "source": [
    "import numpy as np"
   ]
  },
  {
   "cell_type": "code",
   "execution_count": 38,
   "metadata": {
    "ExecuteTime": {
     "end_time": "2021-05-17T21:51:19.578125Z",
     "start_time": "2021-05-17T21:51:19.571224Z"
    },
    "hidden": true
   },
   "outputs": [
    {
     "data": {
      "text/plain": [
       "[1, 9, 2, 3]"
      ]
     },
     "execution_count": 38,
     "metadata": {},
     "output_type": "execute_result"
    }
   ],
   "source": [
    "a = [1,2,3]\n",
    "a.insert(1,9)\n",
    "a"
   ]
  },
  {
   "cell_type": "code",
   "execution_count": 56,
   "metadata": {
    "ExecuteTime": {
     "end_time": "2021-05-17T21:57:07.849636Z",
     "start_time": "2021-05-17T21:57:07.841804Z"
    },
    "hidden": true
   },
   "outputs": [],
   "source": [
    "def augment(text):\n",
    "    splitted = text.split()\n",
    "    bad = np.random.choice(np.array(bad_set), max(1, int(len(splitted)/5)))\n",
    "    for x in bad:\n",
    "        index = np.random.randint(len(splitted))\n",
    "        splitted.insert(index, x)\n",
    "    return \" \".join(splitted)"
   ]
  },
  {
   "cell_type": "code",
   "execution_count": 60,
   "metadata": {
    "ExecuteTime": {
     "end_time": "2021-05-17T21:57:38.048327Z",
     "start_time": "2021-05-17T21:57:34.839678Z"
    },
    "hidden": true
   },
   "outputs": [
    {
     "data": {
      "application/vnd.jupyter.widget-view+json": {
       "model_id": "1db26e67316d469891472ead5d0c6b3a",
       "version_major": 2,
       "version_minor": 0
      },
      "text/plain": [
       "HBox(children=(FloatProgress(value=0.0, max=15104.0), HTML(value='')))"
      ]
     },
     "metadata": {},
     "output_type": "display_data"
    },
    {
     "name": "stdout",
     "output_type": "stream",
     "text": [
      "\n"
     ]
    }
   ],
   "source": [
    "dataset['sentence1'] = dataset['sentence1'].progress_map(augment)"
   ]
  },
  {
   "cell_type": "code",
   "execution_count": 61,
   "metadata": {
    "ExecuteTime": {
     "end_time": "2021-05-17T21:57:43.900254Z",
     "start_time": "2021-05-17T21:57:43.875497Z"
    },
    "hidden": true
   },
   "outputs": [
    {
     "data": {
      "text/html": [
       "<div>\n",
       "<style scoped>\n",
       "    .dataframe tbody tr th:only-of-type {\n",
       "        vertical-align: middle;\n",
       "    }\n",
       "\n",
       "    .dataframe tbody tr th {\n",
       "        vertical-align: top;\n",
       "    }\n",
       "\n",
       "    .dataframe thead th {\n",
       "        text-align: right;\n",
       "    }\n",
       "</style>\n",
       "<table border=\"1\" class=\"dataframe\">\n",
       "  <thead>\n",
       "    <tr style=\"text-align: right;\">\n",
       "      <th></th>\n",
       "      <th>sentence1</th>\n",
       "      <th>sentence2</th>\n",
       "    </tr>\n",
       "  </thead>\n",
       "  <tbody>\n",
       "    <tr>\n",
       "      <th>139341</th>\n",
       "      <td>What does a hard disk drive do in unfuckable a...</td>\n",
       "      <td>What is the function of the hard disc drive in...</td>\n",
       "    </tr>\n",
       "    <tr>\n",
       "      <th>385343</th>\n",
       "      <td>What is cocklicker the oldest book in history,...</td>\n",
       "      <td>Which is the oldest written book in the histor...</td>\n",
       "    </tr>\n",
       "    <tr>\n",
       "      <th>284800</th>\n",
       "      <td>How much time niggard's it takes to complete CA?</td>\n",
       "      <td>How much time does it take for an average stud...</td>\n",
       "    </tr>\n",
       "    <tr>\n",
       "      <th>7584</th>\n",
       "      <td>How cockrider can I gain weight naturally?</td>\n",
       "      <td>Doing excessive masturbation is a cause of les...</td>\n",
       "    </tr>\n",
       "    <tr>\n",
       "      <th>70823</th>\n",
       "      <td>What are cuntsucker some remarkable facts abou...</td>\n",
       "      <td>What are some intresting facts about sweden?</td>\n",
       "    </tr>\n",
       "    <tr>\n",
       "      <th>...</th>\n",
       "      <td>...</td>\n",
       "      <td>...</td>\n",
       "    </tr>\n",
       "    <tr>\n",
       "      <th>24256</th>\n",
       "      <td>Have you got any assjockey kids ?</td>\n",
       "      <td>Do you have any children ?</td>\n",
       "    </tr>\n",
       "    <tr>\n",
       "      <th>24260</th>\n",
       "      <td>He got what was nigerians coming to him .</td>\n",
       "      <td>He got what he deserved .</td>\n",
       "    </tr>\n",
       "    <tr>\n",
       "      <th>24261</th>\n",
       "      <td>asslick You look fabulous .</td>\n",
       "      <td>Don 't you look stunning .</td>\n",
       "    </tr>\n",
       "    <tr>\n",
       "      <th>24276</th>\n",
       "      <td>fuckable I haven 't finished .</td>\n",
       "      <td>I 'm not done .</td>\n",
       "    </tr>\n",
       "    <tr>\n",
       "      <th>24302</th>\n",
       "      <td>Where is the toilet motherfuck ?</td>\n",
       "      <td>Where 's your bathroom ?</td>\n",
       "    </tr>\n",
       "  </tbody>\n",
       "</table>\n",
       "<p>15104 rows × 2 columns</p>\n",
       "</div>"
      ],
      "text/plain": [
       "                                                sentence1  \\\n",
       "139341  What does a hard disk drive do in unfuckable a...   \n",
       "385343  What is cocklicker the oldest book in history,...   \n",
       "284800   How much time niggard's it takes to complete CA?   \n",
       "7584           How cockrider can I gain weight naturally?   \n",
       "70823   What are cuntsucker some remarkable facts abou...   \n",
       "...                                                   ...   \n",
       "24256                   Have you got any assjockey kids ?   \n",
       "24260           He got what was nigerians coming to him .   \n",
       "24261                         asslick You look fabulous .   \n",
       "24276                      fuckable I haven 't finished .   \n",
       "24302                    Where is the toilet motherfuck ?   \n",
       "\n",
       "                                                sentence2  \n",
       "139341  What is the function of the hard disc drive in...  \n",
       "385343  Which is the oldest written book in the histor...  \n",
       "284800  How much time does it take for an average stud...  \n",
       "7584    Doing excessive masturbation is a cause of les...  \n",
       "70823        What are some intresting facts about sweden?  \n",
       "...                                                   ...  \n",
       "24256                          Do you have any children ?  \n",
       "24260                           He got what he deserved .  \n",
       "24261                          Don 't you look stunning .  \n",
       "24276                                     I 'm not done .  \n",
       "24302                            Where 's your bathroom ?  \n",
       "\n",
       "[15104 rows x 2 columns]"
      ]
     },
     "execution_count": 61,
     "metadata": {},
     "output_type": "execute_result"
    }
   ],
   "source": [
    "dataset"
   ]
  },
  {
   "cell_type": "code",
   "execution_count": 62,
   "metadata": {
    "ExecuteTime": {
     "end_time": "2021-05-17T22:01:33.168544Z",
     "start_time": "2021-05-17T22:01:32.968031Z"
    },
    "hidden": true
   },
   "outputs": [],
   "source": [
    "dataset.to_csv(\"data/prepared_datasets/toxic_to_non-toxic.csv\")"
   ]
  },
  {
   "cell_type": "code",
   "execution_count": 66,
   "metadata": {
    "ExecuteTime": {
     "end_time": "2021-05-17T22:07:23.681864Z",
     "start_time": "2021-05-17T22:07:23.517932Z"
    },
    "hidden": true
   },
   "outputs": [],
   "source": [
    "np.save(\"data/final_datasets/toxic_to_non-toxic.npy\", np.array([make_input(*x, bos=\"<|endoftext|>\", sep=\":paraphrase:\") for x in dataset.to_numpy()]))"
   ]
  },
  {
   "cell_type": "code",
   "execution_count": null,
   "metadata": {
    "hidden": true
   },
   "outputs": [],
   "source": [
    "np.array([make_input(*x, bos=\"<|endoftext|>\", sep=\":paraphrase:\") for x in dataset.to_numpy()])"
   ]
  },
  {
   "cell_type": "code",
   "execution_count": 69,
   "metadata": {
    "ExecuteTime": {
     "end_time": "2021-05-17T22:15:16.844990Z",
     "start_time": "2021-05-17T22:15:16.736469Z"
    },
    "hidden": true
   },
   "outputs": [
    {
     "data": {
      "text/plain": [
       "15104"
      ]
     },
     "execution_count": 69,
     "metadata": {},
     "output_type": "execute_result"
    }
   ],
   "source": [
    "len(np.array([make_input(*x, bos=\"<|endoftext|>\", sep=\":paraphrase:\") for x in dataset.to_numpy()]))"
   ]
  },
  {
   "cell_type": "code",
   "execution_count": 24,
   "metadata": {
    "ExecuteTime": {
     "end_time": "2021-05-17T21:40:54.610358Z",
     "start_time": "2021-05-17T21:40:54.602517Z"
    },
    "hidden": true
   },
   "outputs": [
    {
     "data": {
      "text/plain": [
       "266"
      ]
     },
     "execution_count": 24,
     "metadata": {},
     "output_type": "execute_result"
    }
   ],
   "source": [
    "len(bad_set)"
   ]
  },
  {
   "cell_type": "markdown",
   "metadata": {},
   "source": [
    "## PPLM last try"
   ]
  },
  {
   "cell_type": "code",
   "execution_count": 44,
   "metadata": {
    "ExecuteTime": {
     "end_time": "2021-05-22T12:14:41.703361Z",
     "start_time": "2021-05-22T12:14:41.500584Z"
    }
   },
   "outputs": [],
   "source": [
    "js = pd.read_csv(\"data/pplm/jigsaw_top10_paraphrased_GPT_metrics.csv\", index_col=0)"
   ]
  },
  {
   "cell_type": "code",
   "execution_count": 75,
   "metadata": {
    "ExecuteTime": {
     "end_time": "2021-05-22T14:07:41.055024Z",
     "start_time": "2021-05-22T14:07:41.034050Z"
    }
   },
   "outputs": [],
   "source": [
    "mrpc = pd.read_csv(\"data/pplm/mrpc_metrics.csv\", index_col=0)"
   ]
  },
  {
   "cell_type": "code",
   "execution_count": 76,
   "metadata": {
    "ExecuteTime": {
     "end_time": "2021-05-22T14:07:45.188155Z",
     "start_time": "2021-05-22T14:07:45.175283Z"
    }
   },
   "outputs": [
    {
     "data": {
      "text/html": [
       "<div>\n",
       "<style scoped>\n",
       "    .dataframe tbody tr th:only-of-type {\n",
       "        vertical-align: middle;\n",
       "    }\n",
       "\n",
       "    .dataframe tbody tr th {\n",
       "        vertical-align: top;\n",
       "    }\n",
       "\n",
       "    .dataframe thead th {\n",
       "        text-align: right;\n",
       "    }\n",
       "</style>\n",
       "<table border=\"1\" class=\"dataframe\">\n",
       "  <thead>\n",
       "    <tr style=\"text-align: right;\">\n",
       "      <th></th>\n",
       "      <th>sentence1</th>\n",
       "      <th>best</th>\n",
       "      <th>use_best</th>\n",
       "      <th>bleu_best</th>\n",
       "      <th>rouge_best</th>\n",
       "    </tr>\n",
       "  </thead>\n",
       "  <tbody>\n",
       "    <tr>\n",
       "      <th>0</th>\n",
       "      <td>Amrozi accused his brother, whom he called \"th...</td>\n",
       "      <td>He accused his brother, whom he called \"the wi...</td>\n",
       "      <td>0.880791</td>\n",
       "      <td>0.942615</td>\n",
       "      <td>0.960000</td>\n",
       "    </tr>\n",
       "    <tr>\n",
       "      <th>2</th>\n",
       "      <td>They had published an advertisement on the Int...</td>\n",
       "      <td>They had published an advertisement on the Int...</td>\n",
       "      <td>0.954609</td>\n",
       "      <td>0.908655</td>\n",
       "      <td>0.937500</td>\n",
       "    </tr>\n",
       "    <tr>\n",
       "      <th>4</th>\n",
       "      <td>The stock rose $2.11, or about 11 percent, to ...</td>\n",
       "      <td>The stock rose $2.11, or about 11 percent, to ...</td>\n",
       "      <td>0.944924</td>\n",
       "      <td>1.000000</td>\n",
       "      <td>1.000000</td>\n",
       "    </tr>\n",
       "    <tr>\n",
       "      <th>5</th>\n",
       "      <td>Revenue in the first quarter of the year dropp...</td>\n",
       "      <td>In the first quarter of the year, revenue in t...</td>\n",
       "      <td>0.848032</td>\n",
       "      <td>0.569648</td>\n",
       "      <td>0.764706</td>\n",
       "    </tr>\n",
       "    <tr>\n",
       "      <th>7</th>\n",
       "      <td>The DVD-CCA then appealed to the state Supreme...</td>\n",
       "      <td>The DVD-CCA also appealed to the state Supreme...</td>\n",
       "      <td>0.700537</td>\n",
       "      <td>0.707107</td>\n",
       "      <td>0.875000</td>\n",
       "    </tr>\n",
       "    <tr>\n",
       "      <th>...</th>\n",
       "      <td>...</td>\n",
       "      <td>...</td>\n",
       "      <td>...</td>\n",
       "      <td>...</td>\n",
       "      <td>...</td>\n",
       "    </tr>\n",
       "    <tr>\n",
       "      <th>5792</th>\n",
       "      <td>Gehring waived extradition Monday during a hea...</td>\n",
       "      <td>He waived extradition Monday during a hearing ...</td>\n",
       "      <td>0.932359</td>\n",
       "      <td>0.759084</td>\n",
       "      <td>0.857143</td>\n",
       "    </tr>\n",
       "    <tr>\n",
       "      <th>5793</th>\n",
       "      <td>\"I am advised that certain allegations of crim...</td>\n",
       "      <td>I'm advised that certain allegations of crimin...</td>\n",
       "      <td>0.864818</td>\n",
       "      <td>0.609142</td>\n",
       "      <td>0.722222</td>\n",
       "    </tr>\n",
       "    <tr>\n",
       "      <th>5795</th>\n",
       "      <td>The deal, approved by both companies' board of...</td>\n",
       "      <td>The acquisition is expected to be completed in...</td>\n",
       "      <td>0.846271</td>\n",
       "      <td>0.523698</td>\n",
       "      <td>0.685714</td>\n",
       "    </tr>\n",
       "    <tr>\n",
       "      <th>5799</th>\n",
       "      <td>Last week the power station’s US owners, AES C...</td>\n",
       "      <td>Last week the power station’s US owners, AES C...</td>\n",
       "      <td>0.977250</td>\n",
       "      <td>1.000000</td>\n",
       "      <td>1.000000</td>\n",
       "    </tr>\n",
       "    <tr>\n",
       "      <th>5800</th>\n",
       "      <td>Sobig.F spreads when unsuspecting computer use...</td>\n",
       "      <td>A virus called \"obig.F\" spreads when unsuspect...</td>\n",
       "      <td>0.862406</td>\n",
       "      <td>0.755035</td>\n",
       "      <td>0.830189</td>\n",
       "    </tr>\n",
       "  </tbody>\n",
       "</table>\n",
       "<p>3900 rows × 5 columns</p>\n",
       "</div>"
      ],
      "text/plain": [
       "                                              sentence1  \\\n",
       "0     Amrozi accused his brother, whom he called \"th...   \n",
       "2     They had published an advertisement on the Int...   \n",
       "4     The stock rose $2.11, or about 11 percent, to ...   \n",
       "5     Revenue in the first quarter of the year dropp...   \n",
       "7     The DVD-CCA then appealed to the state Supreme...   \n",
       "...                                                 ...   \n",
       "5792  Gehring waived extradition Monday during a hea...   \n",
       "5793  \"I am advised that certain allegations of crim...   \n",
       "5795  The deal, approved by both companies' board of...   \n",
       "5799  Last week the power station’s US owners, AES C...   \n",
       "5800  Sobig.F spreads when unsuspecting computer use...   \n",
       "\n",
       "                                                   best  use_best  bleu_best  \\\n",
       "0     He accused his brother, whom he called \"the wi...  0.880791   0.942615   \n",
       "2     They had published an advertisement on the Int...  0.954609   0.908655   \n",
       "4     The stock rose $2.11, or about 11 percent, to ...  0.944924   1.000000   \n",
       "5     In the first quarter of the year, revenue in t...  0.848032   0.569648   \n",
       "7     The DVD-CCA also appealed to the state Supreme...  0.700537   0.707107   \n",
       "...                                                 ...       ...        ...   \n",
       "5792  He waived extradition Monday during a hearing ...  0.932359   0.759084   \n",
       "5793  I'm advised that certain allegations of crimin...  0.864818   0.609142   \n",
       "5795  The acquisition is expected to be completed in...  0.846271   0.523698   \n",
       "5799  Last week the power station’s US owners, AES C...  0.977250   1.000000   \n",
       "5800  A virus called \"obig.F\" spreads when unsuspect...  0.862406   0.755035   \n",
       "\n",
       "      rouge_best  \n",
       "0       0.960000  \n",
       "2       0.937500  \n",
       "4       1.000000  \n",
       "5       0.764706  \n",
       "7       0.875000  \n",
       "...          ...  \n",
       "5792    0.857143  \n",
       "5793    0.722222  \n",
       "5795    0.685714  \n",
       "5799    1.000000  \n",
       "5800    0.830189  \n",
       "\n",
       "[3900 rows x 5 columns]"
      ]
     },
     "execution_count": 76,
     "metadata": {},
     "output_type": "execute_result"
    }
   ],
   "source": [
    "mrpc"
   ]
  },
  {
   "cell_type": "code",
   "execution_count": 78,
   "metadata": {
    "ExecuteTime": {
     "end_time": "2021-05-22T14:09:19.213889Z",
     "start_time": "2021-05-22T14:09:19.209975Z"
    }
   },
   "outputs": [],
   "source": [
    "non_tox = mrpc[['sentence1', 'best']]"
   ]
  },
  {
   "cell_type": "code",
   "execution_count": 59,
   "metadata": {
    "ExecuteTime": {
     "end_time": "2021-05-22T12:20:41.677640Z",
     "start_time": "2021-05-22T12:20:40.454720Z"
    }
   },
   "outputs": [
    {
     "name": "stderr",
     "output_type": "stream",
     "text": [
      "/home/memesrized/.virtualenvs/edu/lib/python3.8/site-packages/tqdm/std.py:668: FutureWarning: The Panel class is removed from pandas. Accessing it from the top-level namespace will also be removed in the next version\n",
      "  pandas.core.\n"
     ]
    },
    {
     "data": {
      "application/vnd.jupyter.widget-view+json": {
       "model_id": "35c03ac27d41437687e71a9be59f487e",
       "version_major": 2,
       "version_minor": 0
      },
      "text/plain": [
       "HBox(children=(FloatProgress(value=0.0, max=6279.0), HTML(value='')))"
      ]
     },
     "metadata": {},
     "output_type": "display_data"
    },
    {
     "name": "stdout",
     "output_type": "stream",
     "text": [
      "\n"
     ]
    },
    {
     "data": {
      "application/vnd.jupyter.widget-view+json": {
       "model_id": "b686bad680b44099a8924685a889a586",
       "version_major": 2,
       "version_minor": 0
      },
      "text/plain": [
       "HBox(children=(FloatProgress(value=0.0, max=6279.0), HTML(value='')))"
      ]
     },
     "metadata": {},
     "output_type": "display_data"
    },
    {
     "name": "stdout",
     "output_type": "stream",
     "text": [
      "\n"
     ]
    }
   ],
   "source": [
    "import numpy as np\n",
    "from tqdm.auto import tqdm\n",
    "\n",
    "tqdm.pandas()\n",
    "\n",
    "def reranking(row):\n",
    "    i = [x for x in row.keys() if (\"use_\" in str(x)) and row[x]>0.7 ]\n",
    "    i = i or [x[0] for x in sorted(filter(lambda x: \"use_\" in str(x[0]) ,row.items()), key=lambda x: x[1], reverse=True)[:3]]\n",
    "    #print(i)\n",
    "    return [x[-1] for x in i]\n",
    "\n",
    "def lowest_tox(cols, row):\n",
    "    return int(cols[np.argmax([row['tox_original_'+col] for col in cols])])\n",
    "\n",
    "js['best_i'] = js.progress_apply(lambda row: lowest_tox(reranking(row), row), axis=1)\n",
    "js['best'] = js.progress_apply(lambda row: row[lowest_tox(reranking(row), row)], axis=1)"
   ]
  },
  {
   "cell_type": "code",
   "execution_count": 77,
   "metadata": {
    "ExecuteTime": {
     "end_time": "2021-05-22T14:09:01.241175Z",
     "start_time": "2021-05-22T14:09:01.081964Z"
    }
   },
   "outputs": [],
   "source": [
    "tox = js[(js.apply(lambda row: row[\"use_\" + str(row['best_i'])], axis=1)>0.7) & (js.apply(lambda row: row[\"tox_original_\" + str(row['best_i'])], axis=1) > 0.7)][['comment_text', 'best']]"
   ]
  },
  {
   "cell_type": "code",
   "execution_count": 84,
   "metadata": {
    "ExecuteTime": {
     "end_time": "2021-05-22T14:11:16.772445Z",
     "start_time": "2021-05-22T14:11:16.767254Z"
    }
   },
   "outputs": [],
   "source": [
    "tox.columns = ['sentence1', 'sentence2']\n",
    "non_tox.columns = ['sentence1', 'sentence2']"
   ]
  },
  {
   "cell_type": "code",
   "execution_count": 86,
   "metadata": {
    "ExecuteTime": {
     "end_time": "2021-05-22T14:11:54.392280Z",
     "start_time": "2021-05-22T14:11:54.386631Z"
    }
   },
   "outputs": [
    {
     "name": "stderr",
     "output_type": "stream",
     "text": [
      "<ipython-input-86-6490d67bfe6e>:2: SettingWithCopyWarning: \n",
      "A value is trying to be set on a copy of a slice from a DataFrame.\n",
      "Try using .loc[row_indexer,col_indexer] = value instead\n",
      "\n",
      "See the caveats in the documentation: https://pandas.pydata.org/pandas-docs/stable/user_guide/indexing.html#returning-a-view-versus-a-copy\n",
      "  non_tox['label'] = 1\n"
     ]
    }
   ],
   "source": [
    "tox['label'] = 0\n",
    "non_tox['label'] = 1"
   ]
  },
  {
   "cell_type": "code",
   "execution_count": 136,
   "metadata": {
    "ExecuteTime": {
     "end_time": "2021-05-22T19:58:00.759598Z",
     "start_time": "2021-05-22T19:58:00.752605Z"
    }
   },
   "outputs": [],
   "source": [
    "ds = tox.append(non_tox)"
   ]
  },
  {
   "cell_type": "code",
   "execution_count": 137,
   "metadata": {
    "ExecuteTime": {
     "end_time": "2021-05-22T19:58:01.197539Z",
     "start_time": "2021-05-22T19:58:01.192312Z"
    }
   },
   "outputs": [],
   "source": [
    "ds = ds[['label', 'sentence1', 'sentence2']]"
   ]
  },
  {
   "cell_type": "code",
   "execution_count": 138,
   "metadata": {
    "ExecuteTime": {
     "end_time": "2021-05-22T19:58:01.450419Z",
     "start_time": "2021-05-22T19:58:01.444436Z"
    }
   },
   "outputs": [],
   "source": [
    "ds = ds.sample(frac=1)"
   ]
  },
  {
   "cell_type": "code",
   "execution_count": 139,
   "metadata": {
    "ExecuteTime": {
     "end_time": "2021-05-22T19:58:04.089241Z",
     "start_time": "2021-05-22T19:58:01.938344Z"
    }
   },
   "outputs": [
    {
     "data": {
      "application/vnd.jupyter.widget-view+json": {
       "model_id": "dcd50266fcdb4368b1ddc2e0a270e038",
       "version_major": 2,
       "version_minor": 0
      },
      "text/plain": [
       "HBox(children=(FloatProgress(value=0.0, max=7558.0), HTML(value='')))"
      ]
     },
     "metadata": {},
     "output_type": "display_data"
    },
    {
     "name": "stdout",
     "output_type": "stream",
     "text": [
      "\n"
     ]
    }
   ],
   "source": [
    "ds['length'] = get_max_length(ds[['sentence1', 'sentence2']].to_numpy())"
   ]
  },
  {
   "cell_type": "code",
   "execution_count": 140,
   "metadata": {
    "ExecuteTime": {
     "end_time": "2021-05-22T19:58:04.095170Z",
     "start_time": "2021-05-22T19:58:04.090925Z"
    }
   },
   "outputs": [],
   "source": [
    "ds = ds[ds['length']<512]"
   ]
  },
  {
   "cell_type": "code",
   "execution_count": 141,
   "metadata": {
    "ExecuteTime": {
     "end_time": "2021-05-22T19:58:04.116602Z",
     "start_time": "2021-05-22T19:58:04.097790Z"
    }
   },
   "outputs": [
    {
     "data": {
      "text/html": [
       "<div>\n",
       "<style scoped>\n",
       "    .dataframe tbody tr th:only-of-type {\n",
       "        vertical-align: middle;\n",
       "    }\n",
       "\n",
       "    .dataframe tbody tr th {\n",
       "        vertical-align: top;\n",
       "    }\n",
       "\n",
       "    .dataframe thead th {\n",
       "        text-align: right;\n",
       "    }\n",
       "</style>\n",
       "<table border=\"1\" class=\"dataframe\">\n",
       "  <thead>\n",
       "    <tr style=\"text-align: right;\">\n",
       "      <th></th>\n",
       "      <th>label</th>\n",
       "      <th>sentence1</th>\n",
       "      <th>sentence2</th>\n",
       "      <th>length</th>\n",
       "    </tr>\n",
       "  </thead>\n",
       "  <tbody>\n",
       "    <tr>\n",
       "      <th>2824</th>\n",
       "      <td>1</td>\n",
       "      <td>Evacuation went smoothly, although passengers ...</td>\n",
       "      <td>No evacuation went smoothly, although passenge...</td>\n",
       "      <td>39</td>\n",
       "    </tr>\n",
       "    <tr>\n",
       "      <th>3705</th>\n",
       "      <td>0</td>\n",
       "      <td>Go fuckin' hang yourself! Fuckin' scum of the ...</td>\n",
       "      <td>Fuck you, asshole!</td>\n",
       "      <td>27</td>\n",
       "    </tr>\n",
       "    <tr>\n",
       "      <th>3284</th>\n",
       "      <td>0</td>\n",
       "      <td>You can add more of your orders below. What a ...</td>\n",
       "      <td>You can add more of your order below. What a p...</td>\n",
       "      <td>53</td>\n",
       "    </tr>\n",
       "    <tr>\n",
       "      <th>4939</th>\n",
       "      <td>0</td>\n",
       "      <td>Your Stupid Comments POV is a point of view. W...</td>\n",
       "      <td>How many stupid comments can an administrator ...</td>\n",
       "      <td>53</td>\n",
       "    </tr>\n",
       "    <tr>\n",
       "      <th>5431</th>\n",
       "      <td>0</td>\n",
       "      <td>Whose side are you on Brian? You dumbass mothe...</td>\n",
       "      <td>['Who would you vote for?', 'Which side are yo...</td>\n",
       "      <td>197</td>\n",
       "    </tr>\n",
       "    <tr>\n",
       "      <th>...</th>\n",
       "      <td>...</td>\n",
       "      <td>...</td>\n",
       "      <td>...</td>\n",
       "      <td>...</td>\n",
       "    </tr>\n",
       "    <tr>\n",
       "      <th>3767</th>\n",
       "      <td>0</td>\n",
       "      <td>Blow me, asshole.</td>\n",
       "      <td>Fuck me right from the start.</td>\n",
       "      <td>16</td>\n",
       "    </tr>\n",
       "    <tr>\n",
       "      <th>2583</th>\n",
       "      <td>1</td>\n",
       "      <td>They varied greatly, ranging from one per cent...</td>\n",
       "      <td>The FTC said it varied greatly, ranging from o...</td>\n",
       "      <td>59</td>\n",
       "    </tr>\n",
       "    <tr>\n",
       "      <th>873</th>\n",
       "      <td>0</td>\n",
       "      <td>How in the hell is pointing out the fact that ...</td>\n",
       "      <td>He's a racist, vandalises my stuff, and then g...</td>\n",
       "      <td>70</td>\n",
       "    </tr>\n",
       "    <tr>\n",
       "      <th>4712</th>\n",
       "      <td>0</td>\n",
       "      <td>I noticed you post a lot about taking dumps in...</td>\n",
       "      <td>Have you ever taken a dump in the wrong position?</td>\n",
       "      <td>80</td>\n",
       "    </tr>\n",
       "    <tr>\n",
       "      <th>5689</th>\n",
       "      <td>0</td>\n",
       "      <td>LuzoGraal YOU IS A PIECE OF SHIT! YOU IS NOTHI...</td>\n",
       "      <td>You are a piece of shit! YOU IS A PIECE OF SCO...</td>\n",
       "      <td>66</td>\n",
       "    </tr>\n",
       "  </tbody>\n",
       "</table>\n",
       "<p>7537 rows × 4 columns</p>\n",
       "</div>"
      ],
      "text/plain": [
       "      label                                          sentence1  \\\n",
       "2824      1  Evacuation went smoothly, although passengers ...   \n",
       "3705      0  Go fuckin' hang yourself! Fuckin' scum of the ...   \n",
       "3284      0  You can add more of your orders below. What a ...   \n",
       "4939      0  Your Stupid Comments POV is a point of view. W...   \n",
       "5431      0  Whose side are you on Brian? You dumbass mothe...   \n",
       "...     ...                                                ...   \n",
       "3767      0                                  Blow me, asshole.   \n",
       "2583      1  They varied greatly, ranging from one per cent...   \n",
       "873       0  How in the hell is pointing out the fact that ...   \n",
       "4712      0  I noticed you post a lot about taking dumps in...   \n",
       "5689      0  LuzoGraal YOU IS A PIECE OF SHIT! YOU IS NOTHI...   \n",
       "\n",
       "                                              sentence2  length  \n",
       "2824  No evacuation went smoothly, although passenge...      39  \n",
       "3705                                 Fuck you, asshole!      27  \n",
       "3284  You can add more of your order below. What a p...      53  \n",
       "4939  How many stupid comments can an administrator ...      53  \n",
       "5431  ['Who would you vote for?', 'Which side are yo...     197  \n",
       "...                                                 ...     ...  \n",
       "3767                      Fuck me right from the start.      16  \n",
       "2583  The FTC said it varied greatly, ranging from o...      59  \n",
       "873   He's a racist, vandalises my stuff, and then g...      70  \n",
       "4712  Have you ever taken a dump in the wrong position?      80  \n",
       "5689  You are a piece of shit! YOU IS A PIECE OF SCO...      66  \n",
       "\n",
       "[7537 rows x 4 columns]"
      ]
     },
     "execution_count": 141,
     "metadata": {},
     "output_type": "execute_result"
    }
   ],
   "source": [
    "ds"
   ]
  },
  {
   "cell_type": "code",
   "execution_count": 142,
   "metadata": {
    "ExecuteTime": {
     "end_time": "2021-05-22T19:58:05.262441Z",
     "start_time": "2021-05-22T19:58:05.234232Z"
    }
   },
   "outputs": [],
   "source": [
    "ds['input'] = [\n",
    "    make_input(*x, bos=\"<|endoftext|>\", sep=\":paraphrase:\")\n",
    "    for x in ds[['sentence1', 'sentence2']].to_numpy()\n",
    "]"
   ]
  },
  {
   "cell_type": "code",
   "execution_count": 143,
   "metadata": {
    "ExecuteTime": {
     "end_time": "2021-05-22T19:58:06.801199Z",
     "start_time": "2021-05-22T19:58:06.791297Z"
    }
   },
   "outputs": [],
   "source": [
    "ds = ds[['label', 'input']]\n",
    "ds.columns = ['label', 'text']"
   ]
  },
  {
   "cell_type": "code",
   "execution_count": 144,
   "metadata": {
    "ExecuteTime": {
     "end_time": "2021-05-22T19:58:08.778669Z",
     "start_time": "2021-05-22T19:58:08.725338Z"
    }
   },
   "outputs": [
    {
     "name": "stderr",
     "output_type": "stream",
     "text": [
      "<ipython-input-144-b297bd51547c>:3: SettingWithCopyWarning: \n",
      "A value is trying to be set on a copy of a slice from a DataFrame.\n",
      "Try using .loc[row_indexer,col_indexer] = value instead\n",
      "\n",
      "See the caveats in the documentation: https://pandas.pydata.org/pandas-docs/stable/user_guide/indexing.html#returning-a-view-versus-a-copy\n",
      "  ds['text'] = ds['text'].map(unidecode)\n"
     ]
    }
   ],
   "source": [
    "from unidecode import unidecode\n",
    "\n",
    "ds['text'] = ds['text'].map(unidecode)"
   ]
  },
  {
   "cell_type": "code",
   "execution_count": 145,
   "metadata": {
    "ExecuteTime": {
     "end_time": "2021-05-22T19:58:10.357442Z",
     "start_time": "2021-05-22T19:58:10.341438Z"
    }
   },
   "outputs": [
    {
     "data": {
      "text/html": [
       "<div>\n",
       "<style scoped>\n",
       "    .dataframe tbody tr th:only-of-type {\n",
       "        vertical-align: middle;\n",
       "    }\n",
       "\n",
       "    .dataframe tbody tr th {\n",
       "        vertical-align: top;\n",
       "    }\n",
       "\n",
       "    .dataframe thead th {\n",
       "        text-align: right;\n",
       "    }\n",
       "</style>\n",
       "<table border=\"1\" class=\"dataframe\">\n",
       "  <thead>\n",
       "    <tr style=\"text-align: right;\">\n",
       "      <th></th>\n",
       "      <th>label</th>\n",
       "      <th>text</th>\n",
       "    </tr>\n",
       "  </thead>\n",
       "  <tbody>\n",
       "    <tr>\n",
       "      <th>2824</th>\n",
       "      <td>1</td>\n",
       "      <td>&lt;|endoftext|&gt;Evacuation went smoothly, althoug...</td>\n",
       "    </tr>\n",
       "    <tr>\n",
       "      <th>3705</th>\n",
       "      <td>0</td>\n",
       "      <td>&lt;|endoftext|&gt;Go fuckin' hang yourself! Fuckin'...</td>\n",
       "    </tr>\n",
       "    <tr>\n",
       "      <th>3284</th>\n",
       "      <td>0</td>\n",
       "      <td>&lt;|endoftext|&gt;You can add more of your orders b...</td>\n",
       "    </tr>\n",
       "    <tr>\n",
       "      <th>4939</th>\n",
       "      <td>0</td>\n",
       "      <td>&lt;|endoftext|&gt;Your Stupid Comments POV is a poi...</td>\n",
       "    </tr>\n",
       "    <tr>\n",
       "      <th>5431</th>\n",
       "      <td>0</td>\n",
       "      <td>&lt;|endoftext|&gt;Whose side are you on Brian? You ...</td>\n",
       "    </tr>\n",
       "    <tr>\n",
       "      <th>...</th>\n",
       "      <td>...</td>\n",
       "      <td>...</td>\n",
       "    </tr>\n",
       "    <tr>\n",
       "      <th>3767</th>\n",
       "      <td>0</td>\n",
       "      <td>&lt;|endoftext|&gt;Blow me, asshole.:paraphrase:Fuck...</td>\n",
       "    </tr>\n",
       "    <tr>\n",
       "      <th>2583</th>\n",
       "      <td>1</td>\n",
       "      <td>&lt;|endoftext|&gt;They varied greatly, ranging from...</td>\n",
       "    </tr>\n",
       "    <tr>\n",
       "      <th>873</th>\n",
       "      <td>0</td>\n",
       "      <td>&lt;|endoftext|&gt;How in the hell is pointing out t...</td>\n",
       "    </tr>\n",
       "    <tr>\n",
       "      <th>4712</th>\n",
       "      <td>0</td>\n",
       "      <td>&lt;|endoftext|&gt;I noticed you post a lot about ta...</td>\n",
       "    </tr>\n",
       "    <tr>\n",
       "      <th>5689</th>\n",
       "      <td>0</td>\n",
       "      <td>&lt;|endoftext|&gt;LuzoGraal YOU IS A PIECE OF SHIT!...</td>\n",
       "    </tr>\n",
       "  </tbody>\n",
       "</table>\n",
       "<p>7537 rows × 2 columns</p>\n",
       "</div>"
      ],
      "text/plain": [
       "      label                                               text\n",
       "2824      1  <|endoftext|>Evacuation went smoothly, althoug...\n",
       "3705      0  <|endoftext|>Go fuckin' hang yourself! Fuckin'...\n",
       "3284      0  <|endoftext|>You can add more of your orders b...\n",
       "4939      0  <|endoftext|>Your Stupid Comments POV is a poi...\n",
       "5431      0  <|endoftext|>Whose side are you on Brian? You ...\n",
       "...     ...                                                ...\n",
       "3767      0  <|endoftext|>Blow me, asshole.:paraphrase:Fuck...\n",
       "2583      1  <|endoftext|>They varied greatly, ranging from...\n",
       "873       0  <|endoftext|>How in the hell is pointing out t...\n",
       "4712      0  <|endoftext|>I noticed you post a lot about ta...\n",
       "5689      0  <|endoftext|>LuzoGraal YOU IS A PIECE OF SHIT!...\n",
       "\n",
       "[7537 rows x 2 columns]"
      ]
     },
     "execution_count": 145,
     "metadata": {},
     "output_type": "execute_result"
    }
   ],
   "source": [
    "ds"
   ]
  },
  {
   "cell_type": "code",
   "execution_count": 146,
   "metadata": {
    "ExecuteTime": {
     "end_time": "2021-05-22T19:58:19.257900Z",
     "start_time": "2021-05-22T19:58:18.603794Z"
    }
   },
   "outputs": [],
   "source": [
    "import json\n",
    "with open(\"data/pplm/DISCRIM_TRAIN_DATASET.jsonl\", 'w') as file:\n",
    "    for i, row in ds.iterrows():\n",
    "        file.write(json.dumps({\"label\": row['label'], 'text': row['text']}))\n",
    "        file.write(\"\\n\")"
   ]
  },
  {
   "cell_type": "code",
   "execution_count": 147,
   "metadata": {
    "ExecuteTime": {
     "end_time": "2021-05-22T19:58:33.184012Z",
     "start_time": "2021-05-22T19:58:33.115650Z"
    }
   },
   "outputs": [],
   "source": [
    "ds[['text', 'label']].to_csv(\"GeDi/data/train.tsv\", index=False, sep=\"\\t\")"
   ]
  }
 ],
 "metadata": {
  "kernelspec": {
   "display_name": "edu-kernel",
   "language": "python",
   "name": "edu-kernel"
  },
  "language_info": {
   "codemirror_mode": {
    "name": "ipython",
    "version": 3
   },
   "file_extension": ".py",
   "mimetype": "text/x-python",
   "name": "python",
   "nbconvert_exporter": "python",
   "pygments_lexer": "ipython3",
   "version": "3.8.5"
  }
 },
 "nbformat": 4,
 "nbformat_minor": 4
}
